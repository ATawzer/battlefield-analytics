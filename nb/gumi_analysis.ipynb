{
 "cells": [
  {
   "cell_type": "code",
   "execution_count": 2,
   "metadata": {},
   "outputs": [],
   "source": [
    "import pandas as pd\n",
    "import numpy as np\n",
    "import os\n",
    "from datetime import datetime, timedelta\n",
    "import matplotlib.pyplot as plt\n",
    "\n",
    "import seaborn as sns\n",
    "\n",
    "from pymongo import MongoClient\n",
    "mc = MongoClient(os.getenv('mongo_host'),\n",
    "                    username=os.getenv('mongo_user'),\n",
    "                    password=os.getenv('mongo_pass'),\n",
    "                    authSource=os.getenv('mongo_db_auth'),\n",
    "                    authMechanism='SCRAM-SHA-256')\n",
    "\n",
    "db = mc['bfv_processing']"
   ]
  },
  {
   "cell_type": "code",
   "execution_count": 7,
   "metadata": {},
   "outputs": [],
   "source": [
    "# Data\n",
    "df = pd.DataFrame(db.processed_match_players.find({\"match_start_time\":{\"$gte\":datetime(2021, 9, 1)}, \"team_status\":{\"$ne\":\"dnf\"}}))\n",
    "df['week'] = df['match_start_time'].dt.to_period('W').apply(lambda r: r.start_time)\n",
    "df['day'] = df['match_start_time'].dt.to_period('d').apply(lambda r: r.start_time)"
   ]
  },
  {
   "cell_type": "code",
   "execution_count": 8,
   "metadata": {},
   "outputs": [],
   "source": [
    "import plotly.io as pio\n",
    "import plotly.express as px\n",
    "from plotly.subplots import make_subplots\n",
    "import plotly.graph_objects as go\n",
    "\n",
    "pio.templates.default = \"none\"\n",
    "\n",
    "# Seaborn Config\n",
    "p1 = sns.color_palette(\"dark:#0B6872\", n_colors=10)\n",
    "p2 = sns.color_palette(\"dark:#00D3BC\", n_colors=10)\n",
    "p3 = sns.color_palette(\"light:#040404\", n_colors=10)\n",
    "p4 = sns.color_palette(\"dark:#F4E9C3\", n_colors=10)\n",
    "p5 = sns.color_palette(\"dark:#EF8B79\", n_colors=10)\n",
    "\n",
    "# Colors\n",
    "gumi_palette = ['#0B6872','#00D3BC','#040404','#F4E9C3','#EF8B79']\n",
    "\n",
    "gumi_layout_update_dict = dict(\n",
    "    font_family=\"sans-serif\",\n",
    "    font_color=\"grey\",\n",
    "    title_font_family=\"sans-serif\",\n",
    "    title_font_size=20,\n",
    "    title_font_color=\"black\",\n",
    "    legend_title_font_color=\"grey\",\n",
    "    showlegend=False,\n",
    "    paper_bgcolor='#E9F2F1',\n",
    "    plot_bgcolor='rgba(0,0,0,0)'\n",
    ")"
   ]
  },
  {
   "cell_type": "code",
   "execution_count": 15,
   "metadata": {},
   "outputs": [],
   "source": [
    "def gen_gumi_metric_breakdown(df, metric):\n",
    "    \"\"\"\n",
    "    Breaks down a metric\n",
    "    \"\"\"\n",
    "\n",
    "    # Printing Parameters\n",
    "    fname = ' '.join([x.capitalize() for x in metric.split('_')])\n",
    "\n",
    "    # Compute setup\n",
    "    gumi_squad = ['psn_GotYourBach', 'psn_MissNemisis', 'psn_SloshySole', 'psn_mypremeclean', 'psn_drumcon11']\n",
    "    gumi = df[df.player_id.isin(gumi_squad)]\n",
    "    last_week = gumi[gumi.week > datetime.now() - timedelta(days=7)]\n",
    "    last_2_weeks = gumi[gumi.week > datetime.now() - timedelta(days=14)]\n",
    "    mean_performance = last_week[['player_id', metric]].groupby(['player_id'], as_index=False).mean().sort_values(metric, ascending=False).reset_index()\n",
    "    peak_performance = last_week[['player_id', metric]].groupby(['player_id'], as_index=False).max().sort_values(metric, ascending=False).reset_index()\n",
    "\n",
    "    # Percentiles\n",
    "    top_1 = df[metric].quantile(.99).round(1)\n",
    "    top_5 = df[metric].quantile(.95).round(1)\n",
    "    top_10 = df[metric].quantile(.90).round(1)\n",
    "\n",
    "    # Printing\n",
    "    print(f\"Metric: {fname}\")\n",
    "    print('{0:<15}'.format(f'Top 1% {top_1} | ') + '{0:<15}'.format(f'Top 5% {top_5} | ') + '{0:<15}'.format(f'Top 10% {top_10} | '))\n",
    "    print(\"Current Leaderboard: \")\n",
    "    print(\"{0:^24}\".format('Average Performance') + ' | ' + \"{0:^24}\".format('Peak Performance'))\n",
    "    print(\"=\"*50)\n",
    "    for index, row in mean_performance.iterrows():\n",
    "        print(str(index+1) + \" | \" + \n",
    "        \"{0:<16}\".format(row['player_id'])[4:] + \" | \" + \n",
    "        \"{0:^5}\".format(round(row[metric], 2)) + \" | \" +\n",
    "        str(index+1) + \" | \" + \n",
    "        \"{0:<16}\".format(peak_performance.loc[index, 'player_id'])[4:] + \" | \" + \n",
    "        \"{0:^5}\".format(round(peak_performance.loc[index, metric], 2)))\n",
    "\n",
    "    # Weekly Line chart\n",
    "    g1 = gumi[['player_id', 'week', metric]].groupby(['week', 'player_id'], as_index=False).mean()\n",
    "    fig1 = px.line(g1, x='week', y=metric, color='player_id', color_discrete_sequence=gumi_palette, text=g1[metric].round(2))\n",
    "    fig1.update_traces(textposition=\"bottom right\", line=dict(width=4))\n",
    "\n",
    "\n",
    "    # Daily\n",
    "    g2 = last_2_weeks[['player_id', 'day', metric]].groupby(['day', 'player_id'], as_index=False).mean()\n",
    "    fig2 = px.line(g2, x='day', y=metric, color='player_id', color_discrete_sequence=gumi_palette, text=g2[metric].round(2))\n",
    "    fig2.update_traces(textposition=\"bottom right\", line=dict(width=4))\n",
    "   \n",
    "    # Plot\n",
    "    out = make_subplots(rows=1, cols=2)\n",
    "    out.update_layout(height=600, width=2000, title_text=f\"<b>{fname} Performance by Player, Last 60/21 Days</b>\", shapes=[dict(type='line',\n",
    "                x0=g1['week'].min(),\n",
    "                y0=top_10,\n",
    "                x1=g1['week'].max(),\n",
    "                y1=top_10,\n",
    "                line=dict(color='#00B551', dash='dash'),\n",
    "                xref='x',\n",
    "                yref='y',\n",
    "                opacity=.4\n",
    ")], **gumi_layout_update_dict)\n",
    "\n",
    "    for trace in fig1['data']:\n",
    "        out.append_trace(trace, row=1, col=1)\n",
    "\n",
    "    for trace in fig2['data']:\n",
    "        out.append_trace(trace, row=1, col=2)\n",
    "\n",
    "\n",
    "    out.show()\n"
   ]
  },
  {
   "cell_type": "code",
   "execution_count": 16,
   "metadata": {},
   "outputs": [
    {
     "name": "stdout",
     "output_type": "stream",
     "text": [
      "Metric: Aer\n",
      "Top 1% 9.5 |   Top 5% 8.1 |   Top 10% 7.2 |  \n",
      "Current Leaderboard: \n",
      "  Average Performance    |     Peak Performance    \n",
      "==================================================\n",
      "1 | GotYourBach  | 7.82  | 1 | GotYourBach  | 10.0 \n",
      "2 | MissNemisis  | 7.43  | 2 | MissNemisis  | 10.0 \n",
      "3 | SloshySole   | 7.15  | 3 | SloshySole   | 9.56 \n",
      "4 | mypremeclean | 5.98  | 4 | mypremeclean | 9.24 \n",
      "5 | drumcon11    | 3.64  | 5 | drumcon11    | 5.47 \n"
     ]
    },
    {
     "data": {
      "application/vnd.plotly.v1+json": {
       "config": {
        "plotlyServerURL": "https://plot.ly"
       },
       "data": [
        {
         "hovertemplate": "player_id=psn_GotYourBach<br>week=%{x}<br>AER=%{y}<br>text=%{text}<extra></extra>",
         "legendgroup": "psn_GotYourBach",
         "line": {
          "color": "#0B6872",
          "dash": "solid",
          "width": 4
         },
         "marker": {
          "symbol": "circle"
         },
         "mode": "lines+markers+text",
         "name": "psn_GotYourBach",
         "orientation": "v",
         "showlegend": true,
         "text": [
          8.12,
          6.12,
          6.3,
          5.02,
          5.08,
          5.6,
          6.58,
          5.68,
          6.4,
          7.82
         ],
         "textposition": "bottom right",
         "type": "scatter",
         "x": [
          "2021-08-30T00:00:00",
          "2021-09-06T00:00:00",
          "2021-09-13T00:00:00",
          "2021-09-20T00:00:00",
          "2021-09-27T00:00:00",
          "2021-10-04T00:00:00",
          "2021-10-25T00:00:00",
          "2021-11-01T00:00:00",
          "2021-11-08T00:00:00",
          "2021-11-15T00:00:00"
         ],
         "xaxis": "x",
         "y": [
          8.118031235890475,
          6.116141997336402,
          6.300895231492407,
          5.024546031430271,
          5.0753392891109135,
          5.602218746334221,
          6.582193774700177,
          5.6835017079719705,
          6.399137896079935,
          7.823097109450712
         ],
         "yaxis": "y"
        },
        {
         "hovertemplate": "player_id=psn_MissNemisis<br>week=%{x}<br>AER=%{y}<br>text=%{text}<extra></extra>",
         "legendgroup": "psn_MissNemisis",
         "line": {
          "color": "#00D3BC",
          "dash": "solid",
          "width": 4
         },
         "marker": {
          "symbol": "circle"
         },
         "mode": "lines+markers+text",
         "name": "psn_MissNemisis",
         "orientation": "v",
         "showlegend": true,
         "text": [
          8.14,
          5.03,
          5.35,
          4.68,
          5.35,
          5.57,
          6.01,
          5.52,
          6.34,
          7.43
         ],
         "textposition": "bottom right",
         "type": "scatter",
         "x": [
          "2021-08-30T00:00:00",
          "2021-09-06T00:00:00",
          "2021-09-13T00:00:00",
          "2021-09-20T00:00:00",
          "2021-09-27T00:00:00",
          "2021-10-04T00:00:00",
          "2021-10-25T00:00:00",
          "2021-11-01T00:00:00",
          "2021-11-08T00:00:00",
          "2021-11-15T00:00:00"
         ],
         "xaxis": "x",
         "y": [
          8.139785387691408,
          5.029153733489689,
          5.347399721037622,
          4.684040823295518,
          5.353258587276096,
          5.570355700962539,
          6.009399320538288,
          5.5241091676568415,
          6.3436693690317085,
          7.428357886869372
         ],
         "yaxis": "y"
        },
        {
         "hovertemplate": "player_id=psn_SloshySole<br>week=%{x}<br>AER=%{y}<br>text=%{text}<extra></extra>",
         "legendgroup": "psn_SloshySole",
         "line": {
          "color": "#040404",
          "dash": "solid",
          "width": 4
         },
         "marker": {
          "symbol": "circle"
         },
         "mode": "lines+markers+text",
         "name": "psn_SloshySole",
         "orientation": "v",
         "showlegend": true,
         "text": [
          7.29,
          4.78,
          5.67,
          5.73,
          5.12,
          6.32,
          5.46,
          6.38,
          6.7,
          6.08,
          5.96,
          7.15
         ],
         "textposition": "bottom right",
         "type": "scatter",
         "x": [
          "2021-08-30T00:00:00",
          "2021-09-06T00:00:00",
          "2021-09-13T00:00:00",
          "2021-09-20T00:00:00",
          "2021-09-27T00:00:00",
          "2021-10-04T00:00:00",
          "2021-10-11T00:00:00",
          "2021-10-18T00:00:00",
          "2021-10-25T00:00:00",
          "2021-11-01T00:00:00",
          "2021-11-08T00:00:00",
          "2021-11-15T00:00:00"
         ],
         "xaxis": "x",
         "y": [
          7.288362714922582,
          4.779987480278911,
          5.668254524199861,
          5.734229449599389,
          5.121581720073137,
          6.321195097154197,
          5.461559943287241,
          6.377125279227184,
          6.703656077002201,
          6.078430224257616,
          5.962006998211768,
          7.145373511979076
         ],
         "yaxis": "y"
        },
        {
         "hovertemplate": "player_id=psn_drumcon11<br>week=%{x}<br>AER=%{y}<br>text=%{text}<extra></extra>",
         "legendgroup": "psn_drumcon11",
         "line": {
          "color": "#F4E9C3",
          "dash": "solid",
          "width": 4
         },
         "marker": {
          "symbol": "circle"
         },
         "mode": "lines+markers+text",
         "name": "psn_drumcon11",
         "orientation": "v",
         "showlegend": true,
         "text": [
          3.11,
          2.32,
          3.51,
          3.26,
          3.37,
          4.27,
          3.89,
          4.07,
          3.64
         ],
         "textposition": "bottom right",
         "type": "scatter",
         "x": [
          "2021-09-06T00:00:00",
          "2021-09-20T00:00:00",
          "2021-10-04T00:00:00",
          "2021-10-11T00:00:00",
          "2021-10-18T00:00:00",
          "2021-10-25T00:00:00",
          "2021-11-01T00:00:00",
          "2021-11-08T00:00:00",
          "2021-11-15T00:00:00"
         ],
         "xaxis": "x",
         "y": [
          3.1065593962322917,
          2.3209356931656364,
          3.5107893569521864,
          3.2596594203552938,
          3.3715105965981356,
          4.265940656630239,
          3.8889086905524386,
          4.073854272031674,
          3.6364643769226843
         ],
         "yaxis": "y"
        },
        {
         "hovertemplate": "player_id=psn_mypremeclean<br>week=%{x}<br>AER=%{y}<br>text=%{text}<extra></extra>",
         "legendgroup": "psn_mypremeclean",
         "line": {
          "color": "#EF8B79",
          "dash": "solid",
          "width": 4
         },
         "marker": {
          "symbol": "circle"
         },
         "mode": "lines+markers+text",
         "name": "psn_mypremeclean",
         "orientation": "v",
         "showlegend": true,
         "text": [
          5.06,
          4.19,
          5.34,
          5.2,
          4.47,
          5.98
         ],
         "textposition": "bottom right",
         "type": "scatter",
         "x": [
          "2021-10-04T00:00:00",
          "2021-10-11T00:00:00",
          "2021-10-18T00:00:00",
          "2021-10-25T00:00:00",
          "2021-11-01T00:00:00",
          "2021-11-15T00:00:00"
         ],
         "xaxis": "x",
         "y": [
          5.063239035996614,
          4.191927628603162,
          5.335940154426636,
          5.195627598823561,
          4.473497091930604,
          5.978990135494677
         ],
         "yaxis": "y"
        },
        {
         "hovertemplate": "player_id=psn_GotYourBach<br>day=%{x}<br>AER=%{y}<br>text=%{text}<extra></extra>",
         "legendgroup": "psn_GotYourBach",
         "line": {
          "color": "#0B6872",
          "dash": "solid",
          "width": 4
         },
         "marker": {
          "symbol": "circle"
         },
         "mode": "lines+markers+text",
         "name": "psn_GotYourBach",
         "orientation": "v",
         "showlegend": true,
         "text": [
          5.8,
          7.21,
          6.25,
          7.41,
          8.24
         ],
         "textposition": "bottom right",
         "type": "scatter",
         "x": [
          "2021-11-10T00:00:00",
          "2021-11-11T00:00:00",
          "2021-11-14T00:00:00",
          "2021-11-17T00:00:00",
          "2021-11-18T00:00:00"
         ],
         "xaxis": "x2",
         "y": [
          5.797967925026425,
          7.205253785730088,
          6.250086318918741,
          7.4096633937479055,
          8.236530825153519
         ],
         "yaxis": "y2"
        },
        {
         "hovertemplate": "player_id=psn_MissNemisis<br>day=%{x}<br>AER=%{y}<br>text=%{text}<extra></extra>",
         "legendgroup": "psn_MissNemisis",
         "line": {
          "color": "#00D3BC",
          "dash": "solid",
          "width": 4
         },
         "marker": {
          "symbol": "circle"
         },
         "mode": "lines+markers+text",
         "name": "psn_MissNemisis",
         "orientation": "v",
         "showlegend": true,
         "text": [
          6.01,
          6.67,
          6.35,
          7.9,
          6.95
         ],
         "textposition": "bottom right",
         "type": "scatter",
         "x": [
          "2021-11-10T00:00:00",
          "2021-11-11T00:00:00",
          "2021-11-14T00:00:00",
          "2021-11-17T00:00:00",
          "2021-11-18T00:00:00"
         ],
         "xaxis": "x2",
         "y": [
          6.006371475346593,
          6.667018717300783,
          6.353813765697921,
          7.90452565704752,
          6.952190116691224
         ],
         "yaxis": "y2"
        },
        {
         "hovertemplate": "player_id=psn_SloshySole<br>day=%{x}<br>AER=%{y}<br>text=%{text}<extra></extra>",
         "legendgroup": "psn_SloshySole",
         "line": {
          "color": "#040404",
          "dash": "solid",
          "width": 4
         },
         "marker": {
          "symbol": "circle"
         },
         "mode": "lines+markers+text",
         "name": "psn_SloshySole",
         "orientation": "v",
         "showlegend": true,
         "text": [
          5.41,
          6.85,
          5.72,
          6.93,
          5.48,
          7.95,
          7.78
         ],
         "textposition": "bottom right",
         "type": "scatter",
         "x": [
          "2021-11-10T00:00:00",
          "2021-11-11T00:00:00",
          "2021-11-14T00:00:00",
          "2021-11-15T00:00:00",
          "2021-11-16T00:00:00",
          "2021-11-17T00:00:00",
          "2021-11-18T00:00:00"
         ],
         "xaxis": "x2",
         "y": [
          5.411260843533153,
          6.8452030148050085,
          5.720225280455677,
          6.9286301560388495,
          5.478735063033138,
          7.954258582627969,
          7.776117714487335
         ],
         "yaxis": "y2"
        },
        {
         "hovertemplate": "player_id=psn_drumcon11<br>day=%{x}<br>AER=%{y}<br>text=%{text}<extra></extra>",
         "legendgroup": "psn_drumcon11",
         "line": {
          "color": "#F4E9C3",
          "dash": "solid",
          "width": 4
         },
         "marker": {
          "symbol": "circle"
         },
         "mode": "lines+markers+text",
         "name": "psn_drumcon11",
         "orientation": "v",
         "showlegend": true,
         "text": [
          4.03,
          4.77,
          3.3,
          3.64
         ],
         "textposition": "bottom right",
         "type": "scatter",
         "x": [
          "2021-11-10T00:00:00",
          "2021-11-11T00:00:00",
          "2021-11-14T00:00:00",
          "2021-11-15T00:00:00"
         ],
         "xaxis": "x2",
         "y": [
          4.025737079884802,
          4.767152205921523,
          3.303466238963109,
          3.6364643769226843
         ],
         "yaxis": "y2"
        },
        {
         "hovertemplate": "player_id=psn_mypremeclean<br>day=%{x}<br>AER=%{y}<br>text=%{text}<extra></extra>",
         "legendgroup": "psn_mypremeclean",
         "line": {
          "color": "#EF8B79",
          "dash": "solid",
          "width": 4
         },
         "marker": {
          "symbol": "circle"
         },
         "mode": "lines+markers+text",
         "name": "psn_mypremeclean",
         "orientation": "v",
         "showlegend": true,
         "text": [
          4.87,
          5.97,
          6.82
         ],
         "textposition": "bottom right",
         "type": "scatter",
         "x": [
          "2021-11-16T00:00:00",
          "2021-11-17T00:00:00",
          "2021-11-18T00:00:00"
         ],
         "xaxis": "x2",
         "y": [
          4.86563748946917,
          5.974683316754605,
          6.818311438753878
         ],
         "yaxis": "y2"
        }
       ],
       "layout": {
        "font": {
         "color": "grey",
         "family": "sans-serif"
        },
        "height": 600,
        "legend": {
         "title": {
          "font": {
           "color": "grey"
          }
         }
        },
        "paper_bgcolor": "#E9F2F1",
        "plot_bgcolor": "rgba(0,0,0,0)",
        "shapes": [
         {
          "line": {
           "color": "#00B551",
           "dash": "dash"
          },
          "opacity": 0.4,
          "type": "line",
          "x0": "2021-08-30T00:00:00",
          "x1": "2021-11-15T00:00:00",
          "xref": "x",
          "y0": 7.2,
          "y1": 7.2,
          "yref": "y"
         }
        ],
        "showlegend": false,
        "template": {
         "data": {
          "scatter": [
           {
            "type": "scatter"
           }
          ]
         }
        },
        "title": {
         "font": {
          "color": "black",
          "family": "sans-serif",
          "size": 20
         },
         "text": "<b>Aer Performance by Player, Last 60/21 Days</b>"
        },
        "width": 2000,
        "xaxis": {
         "anchor": "y",
         "domain": [
          0,
          0.45
         ]
        },
        "xaxis2": {
         "anchor": "y2",
         "domain": [
          0.55,
          1
         ]
        },
        "yaxis": {
         "anchor": "x",
         "domain": [
          0,
          1
         ]
        },
        "yaxis2": {
         "anchor": "x2",
         "domain": [
          0,
          1
         ]
        }
       }
      }
     },
     "metadata": {},
     "output_type": "display_data"
    },
    {
     "name": "stdout",
     "output_type": "stream",
     "text": [
      "Metric: Aggression Rating\n",
      "Top 1% 5.0 |   Top 5% 3.7 |   Top 10% 3.2 |  \n",
      "Current Leaderboard: \n",
      "  Average Performance    |     Peak Performance    \n",
      "==================================================\n",
      "1 | GotYourBach  | 3.56  | 1 | GotYourBach  |  5.0 \n",
      "2 | SloshySole   | 3.47  | 2 | MissNemisis  |  5.0 \n",
      "3 | MissNemisis  | 3.45  | 3 | SloshySole   |  5.0 \n",
      "4 | mypremeclean |  2.6  | 4 | mypremeclean | 4.24 \n",
      "5 | drumcon11    | 1.77  | 5 | drumcon11    | 2.43 \n"
     ]
    },
    {
     "data": {
      "application/vnd.plotly.v1+json": {
       "config": {
        "plotlyServerURL": "https://plot.ly"
       },
       "data": [
        {
         "hovertemplate": "player_id=psn_GotYourBach<br>week=%{x}<br>aggression_rating=%{y}<br>text=%{text}<extra></extra>",
         "legendgroup": "psn_GotYourBach",
         "line": {
          "color": "#0B6872",
          "dash": "solid",
          "width": 4
         },
         "marker": {
          "symbol": "circle"
         },
         "mode": "lines+markers+text",
         "name": "psn_GotYourBach",
         "orientation": "v",
         "showlegend": true,
         "text": [
          3.53,
          3.19,
          3.21,
          2.53,
          2.53,
          2.68,
          3.17,
          2.65,
          2.98,
          3.56
         ],
         "textposition": "bottom right",
         "type": "scatter",
         "x": [
          "2021-08-30T00:00:00",
          "2021-09-06T00:00:00",
          "2021-09-13T00:00:00",
          "2021-09-20T00:00:00",
          "2021-09-27T00:00:00",
          "2021-10-04T00:00:00",
          "2021-10-25T00:00:00",
          "2021-11-01T00:00:00",
          "2021-11-08T00:00:00",
          "2021-11-15T00:00:00"
         ],
         "xaxis": "x",
         "y": [
          3.534147698923058,
          3.1938780416740085,
          3.2080146022836526,
          2.5339477469022995,
          2.530140984811047,
          2.682806806910635,
          3.1718704406268436,
          2.6542807191046003,
          2.9833941947694447,
          3.5640857260858136
         ],
         "yaxis": "y"
        },
        {
         "hovertemplate": "player_id=psn_MissNemisis<br>week=%{x}<br>aggression_rating=%{y}<br>text=%{text}<extra></extra>",
         "legendgroup": "psn_MissNemisis",
         "line": {
          "color": "#00D3BC",
          "dash": "solid",
          "width": 4
         },
         "marker": {
          "symbol": "circle"
         },
         "mode": "lines+markers+text",
         "name": "psn_MissNemisis",
         "orientation": "v",
         "showlegend": true,
         "text": [
          3.42,
          2.32,
          2.51,
          2.14,
          2.55,
          2.57,
          2.79,
          2.49,
          3.02,
          3.45
         ],
         "textposition": "bottom right",
         "type": "scatter",
         "x": [
          "2021-08-30T00:00:00",
          "2021-09-06T00:00:00",
          "2021-09-13T00:00:00",
          "2021-09-20T00:00:00",
          "2021-09-27T00:00:00",
          "2021-10-04T00:00:00",
          "2021-10-25T00:00:00",
          "2021-11-01T00:00:00",
          "2021-11-08T00:00:00",
          "2021-11-15T00:00:00"
         ],
         "xaxis": "x",
         "y": [
          3.4163330067390274,
          2.322087535798491,
          2.506712717069368,
          2.1370026234001758,
          2.5478583798446377,
          2.5706850374246883,
          2.7894507578162875,
          2.4902409771514726,
          3.0246556743930135,
          3.4529843758317984
         ],
         "yaxis": "y"
        },
        {
         "hovertemplate": "player_id=psn_SloshySole<br>week=%{x}<br>aggression_rating=%{y}<br>text=%{text}<extra></extra>",
         "legendgroup": "psn_SloshySole",
         "line": {
          "color": "#040404",
          "dash": "solid",
          "width": 4
         },
         "marker": {
          "symbol": "circle"
         },
         "mode": "lines+markers+text",
         "name": "psn_SloshySole",
         "orientation": "v",
         "showlegend": true,
         "text": [
          3.15,
          2.35,
          2.82,
          2.9,
          2.63,
          2.99,
          2.65,
          2.94,
          3.03,
          2.88,
          2.94,
          3.47
         ],
         "textposition": "bottom right",
         "type": "scatter",
         "x": [
          "2021-08-30T00:00:00",
          "2021-09-06T00:00:00",
          "2021-09-13T00:00:00",
          "2021-09-20T00:00:00",
          "2021-09-27T00:00:00",
          "2021-10-04T00:00:00",
          "2021-10-11T00:00:00",
          "2021-10-18T00:00:00",
          "2021-10-25T00:00:00",
          "2021-11-01T00:00:00",
          "2021-11-08T00:00:00",
          "2021-11-15T00:00:00"
         ],
         "xaxis": "x",
         "y": [
          3.149350172405575,
          2.34581467584569,
          2.8249178696104904,
          2.90488003153988,
          2.6253615601226548,
          2.9945164681330074,
          2.647922967795186,
          2.941125365802773,
          3.0315376378433205,
          2.8767858141467335,
          2.9375914174916526,
          3.4653093774187136
         ],
         "yaxis": "y"
        },
        {
         "hovertemplate": "player_id=psn_drumcon11<br>week=%{x}<br>aggression_rating=%{y}<br>text=%{text}<extra></extra>",
         "legendgroup": "psn_drumcon11",
         "line": {
          "color": "#F4E9C3",
          "dash": "solid",
          "width": 4
         },
         "marker": {
          "symbol": "circle"
         },
         "mode": "lines+markers+text",
         "name": "psn_drumcon11",
         "orientation": "v",
         "showlegend": true,
         "text": [
          1.52,
          1.05,
          1.55,
          1.39,
          1.34,
          1.91,
          1.79,
          1.85,
          1.77
         ],
         "textposition": "bottom right",
         "type": "scatter",
         "x": [
          "2021-09-06T00:00:00",
          "2021-09-20T00:00:00",
          "2021-10-04T00:00:00",
          "2021-10-11T00:00:00",
          "2021-10-18T00:00:00",
          "2021-10-25T00:00:00",
          "2021-11-01T00:00:00",
          "2021-11-08T00:00:00",
          "2021-11-15T00:00:00"
         ],
         "xaxis": "x",
         "y": [
          1.521988780216363,
          1.0476653412748804,
          1.5534148007700643,
          1.3899078177911912,
          1.3433028668279055,
          1.9063199301345126,
          1.7903882915435527,
          1.8512775726302848,
          1.773051227572035
         ],
         "yaxis": "y"
        },
        {
         "hovertemplate": "player_id=psn_mypremeclean<br>week=%{x}<br>aggression_rating=%{y}<br>text=%{text}<extra></extra>",
         "legendgroup": "psn_mypremeclean",
         "line": {
          "color": "#EF8B79",
          "dash": "solid",
          "width": 4
         },
         "marker": {
          "symbol": "circle"
         },
         "mode": "lines+markers+text",
         "name": "psn_mypremeclean",
         "orientation": "v",
         "showlegend": true,
         "text": [
          1.85,
          2.03,
          2.39,
          2.3,
          2.28,
          2.6
         ],
         "textposition": "bottom right",
         "type": "scatter",
         "x": [
          "2021-10-04T00:00:00",
          "2021-10-11T00:00:00",
          "2021-10-18T00:00:00",
          "2021-10-25T00:00:00",
          "2021-11-01T00:00:00",
          "2021-11-15T00:00:00"
         ],
         "xaxis": "x",
         "y": [
          1.8466596258234536,
          2.0250062408277465,
          2.388848739483784,
          2.2953627009610074,
          2.2816935826405644,
          2.5977024510358273
         ],
         "yaxis": "y"
        },
        {
         "hovertemplate": "player_id=psn_GotYourBach<br>day=%{x}<br>aggression_rating=%{y}<br>text=%{text}<extra></extra>",
         "legendgroup": "psn_GotYourBach",
         "line": {
          "color": "#0B6872",
          "dash": "solid",
          "width": 4
         },
         "marker": {
          "symbol": "circle"
         },
         "mode": "lines+markers+text",
         "name": "psn_GotYourBach",
         "orientation": "v",
         "showlegend": true,
         "text": [
          2.72,
          3.14,
          3.06,
          3.45,
          3.68
         ],
         "textposition": "bottom right",
         "type": "scatter",
         "x": [
          "2021-11-10T00:00:00",
          "2021-11-11T00:00:00",
          "2021-11-14T00:00:00",
          "2021-11-17T00:00:00",
          "2021-11-18T00:00:00"
         ],
         "xaxis": "x2",
         "y": [
          2.7226503370537363,
          3.1395397113929664,
          3.059465715563762,
          3.452391692359017,
          3.6757797598126105
         ],
         "yaxis": "y2"
        },
        {
         "hovertemplate": "player_id=psn_MissNemisis<br>day=%{x}<br>aggression_rating=%{y}<br>text=%{text}<extra></extra>",
         "legendgroup": "psn_MissNemisis",
         "line": {
          "color": "#00D3BC",
          "dash": "solid",
          "width": 4
         },
         "marker": {
          "symbol": "circle"
         },
         "mode": "lines+markers+text",
         "name": "psn_MissNemisis",
         "orientation": "v",
         "showlegend": true,
         "text": [
          2.85,
          2.92,
          3.22,
          3.73,
          3.17
         ],
         "textposition": "bottom right",
         "type": "scatter",
         "x": [
          "2021-11-10T00:00:00",
          "2021-11-11T00:00:00",
          "2021-11-14T00:00:00",
          "2021-11-17T00:00:00",
          "2021-11-18T00:00:00"
         ],
         "xaxis": "x2",
         "y": [
          2.8541576832792845,
          2.9248278027465866,
          3.221256301854945,
          3.73381533004813,
          3.1721534216154668
         ],
         "yaxis": "y2"
        },
        {
         "hovertemplate": "player_id=psn_SloshySole<br>day=%{x}<br>aggression_rating=%{y}<br>text=%{text}<extra></extra>",
         "legendgroup": "psn_SloshySole",
         "line": {
          "color": "#040404",
          "dash": "solid",
          "width": 4
         },
         "marker": {
          "symbol": "circle"
         },
         "mode": "lines+markers+text",
         "name": "psn_SloshySole",
         "orientation": "v",
         "showlegend": true,
         "text": [
          2.69,
          3.15,
          2.97,
          3.31,
          2.9,
          3.85,
          3.65
         ],
         "textposition": "bottom right",
         "type": "scatter",
         "x": [
          "2021-11-10T00:00:00",
          "2021-11-11T00:00:00",
          "2021-11-14T00:00:00",
          "2021-11-15T00:00:00",
          "2021-11-16T00:00:00",
          "2021-11-17T00:00:00",
          "2021-11-18T00:00:00"
         ],
         "xaxis": "x2",
         "y": [
          2.6864648208772968,
          3.149878254929467,
          2.965838515074593,
          3.3074868028642466,
          2.8995275301146677,
          3.8475596825696945,
          3.645490210480925
         ],
         "yaxis": "y2"
        },
        {
         "hovertemplate": "player_id=psn_drumcon11<br>day=%{x}<br>aggression_rating=%{y}<br>text=%{text}<extra></extra>",
         "legendgroup": "psn_drumcon11",
         "line": {
          "color": "#F4E9C3",
          "dash": "solid",
          "width": 4
         },
         "marker": {
          "symbol": "circle"
         },
         "mode": "lines+markers+text",
         "name": "psn_drumcon11",
         "orientation": "v",
         "showlegend": true,
         "text": [
          1.89,
          2.08,
          1.49,
          1.77
         ],
         "textposition": "bottom right",
         "type": "scatter",
         "x": [
          "2021-11-10T00:00:00",
          "2021-11-11T00:00:00",
          "2021-11-14T00:00:00",
          "2021-11-15T00:00:00"
         ],
         "xaxis": "x2",
         "y": [
          1.8856555454082224,
          2.08413497835742,
          1.4914498699154901,
          1.773051227572035
         ],
         "yaxis": "y2"
        },
        {
         "hovertemplate": "player_id=psn_mypremeclean<br>day=%{x}<br>aggression_rating=%{y}<br>text=%{text}<extra></extra>",
         "legendgroup": "psn_mypremeclean",
         "line": {
          "color": "#EF8B79",
          "dash": "solid",
          "width": 4
         },
         "marker": {
          "symbol": "circle"
         },
         "mode": "lines+markers+text",
         "name": "psn_mypremeclean",
         "orientation": "v",
         "showlegend": true,
         "text": [
          2.29,
          2.65,
          2.78
         ],
         "textposition": "bottom right",
         "type": "scatter",
         "x": [
          "2021-11-16T00:00:00",
          "2021-11-17T00:00:00",
          "2021-11-18T00:00:00"
         ],
         "xaxis": "x2",
         "y": [
          2.2892157196880243,
          2.6465779314714855,
          2.780192019111021
         ],
         "yaxis": "y2"
        }
       ],
       "layout": {
        "font": {
         "color": "grey",
         "family": "sans-serif"
        },
        "height": 600,
        "legend": {
         "title": {
          "font": {
           "color": "grey"
          }
         }
        },
        "paper_bgcolor": "#E9F2F1",
        "plot_bgcolor": "rgba(0,0,0,0)",
        "shapes": [
         {
          "line": {
           "color": "#00B551",
           "dash": "dash"
          },
          "opacity": 0.4,
          "type": "line",
          "x0": "2021-08-30T00:00:00",
          "x1": "2021-11-15T00:00:00",
          "xref": "x",
          "y0": 3.2,
          "y1": 3.2,
          "yref": "y"
         }
        ],
        "showlegend": false,
        "template": {
         "data": {
          "scatter": [
           {
            "type": "scatter"
           }
          ]
         }
        },
        "title": {
         "font": {
          "color": "black",
          "family": "sans-serif",
          "size": 20
         },
         "text": "<b>Aggression Rating Performance by Player, Last 60/21 Days</b>"
        },
        "width": 2000,
        "xaxis": {
         "anchor": "y",
         "domain": [
          0,
          0.45
         ]
        },
        "xaxis2": {
         "anchor": "y2",
         "domain": [
          0.55,
          1
         ]
        },
        "yaxis": {
         "anchor": "x",
         "domain": [
          0,
          1
         ]
        },
        "yaxis2": {
         "anchor": "x2",
         "domain": [
          0,
          1
         ]
        }
       }
      }
     },
     "metadata": {},
     "output_type": "display_data"
    },
    {
     "name": "stdout",
     "output_type": "stream",
     "text": [
      "Metric: Efficiency Rating\n",
      "Top 1% 5.0 |   Top 5% 5.0 |   Top 10% 5.0 |  \n",
      "Current Leaderboard: \n",
      "  Average Performance    |     Peak Performance    \n",
      "==================================================\n",
      "1 | GotYourBach  | 4.26  | 1 | GotYourBach  |  5.0 \n",
      "2 | MissNemisis  | 3.98  | 2 | MissNemisis  |  5.0 \n",
      "3 | SloshySole   | 3.68  | 3 | SloshySole   |  5.0 \n",
      "4 | mypremeclean | 3.38  | 4 | mypremeclean |  5.0 \n",
      "5 | drumcon11    | 1.86  | 5 | drumcon11    | 3.04 \n"
     ]
    },
    {
     "data": {
      "application/vnd.plotly.v1+json": {
       "config": {
        "plotlyServerURL": "https://plot.ly"
       },
       "data": [
        {
         "hovertemplate": "player_id=psn_GotYourBach<br>week=%{x}<br>efficiency_rating=%{y}<br>text=%{text}<extra></extra>",
         "legendgroup": "psn_GotYourBach",
         "line": {
          "color": "#0B6872",
          "dash": "solid",
          "width": 4
         },
         "marker": {
          "symbol": "circle"
         },
         "mode": "lines+markers+text",
         "name": "psn_GotYourBach",
         "orientation": "v",
         "showlegend": true,
         "text": [
          4.58,
          2.92,
          3.09,
          2.49,
          2.55,
          2.92,
          3.41,
          3.03,
          3.42,
          4.26
         ],
         "textposition": "bottom right",
         "type": "scatter",
         "x": [
          "2021-08-30T00:00:00",
          "2021-09-06T00:00:00",
          "2021-09-13T00:00:00",
          "2021-09-20T00:00:00",
          "2021-09-27T00:00:00",
          "2021-10-04T00:00:00",
          "2021-10-25T00:00:00",
          "2021-11-01T00:00:00",
          "2021-11-08T00:00:00",
          "2021-11-15T00:00:00"
         ],
         "xaxis": "x",
         "y": [
          4.583883536967418,
          2.9222639556623933,
          3.092880629208754,
          2.490598284527972,
          2.5451983042998667,
          2.9194119394235853,
          3.4103233340733343,
          3.0292209888673707,
          3.4157437013104905,
          4.259011383364899
         ],
         "yaxis": "y"
        },
        {
         "hovertemplate": "player_id=psn_MissNemisis<br>week=%{x}<br>efficiency_rating=%{y}<br>text=%{text}<extra></extra>",
         "legendgroup": "psn_MissNemisis",
         "line": {
          "color": "#00D3BC",
          "dash": "solid",
          "width": 4
         },
         "marker": {
          "symbol": "circle"
         },
         "mode": "lines+markers+text",
         "name": "psn_MissNemisis",
         "orientation": "v",
         "showlegend": true,
         "text": [
          4.72,
          2.71,
          2.84,
          2.55,
          2.81,
          3,
          3.22,
          3.03,
          3.32,
          3.98
         ],
         "textposition": "bottom right",
         "type": "scatter",
         "x": [
          "2021-08-30T00:00:00",
          "2021-09-06T00:00:00",
          "2021-09-13T00:00:00",
          "2021-09-20T00:00:00",
          "2021-09-27T00:00:00",
          "2021-10-04T00:00:00",
          "2021-10-25T00:00:00",
          "2021-11-01T00:00:00",
          "2021-11-08T00:00:00",
          "2021-11-15T00:00:00"
         ],
         "xaxis": "x",
         "y": [
          4.723452380952381,
          2.707066197691198,
          2.840687003968254,
          2.547038199895343,
          2.8054002074314575,
          2.999670663537851,
          3.219948562722,
          3.0338681905053693,
          3.319013694638695,
          3.9753735110375734
         ],
         "yaxis": "y"
        },
        {
         "hovertemplate": "player_id=psn_SloshySole<br>week=%{x}<br>efficiency_rating=%{y}<br>text=%{text}<extra></extra>",
         "legendgroup": "psn_SloshySole",
         "line": {
          "color": "#040404",
          "dash": "solid",
          "width": 4
         },
         "marker": {
          "symbol": "circle"
         },
         "mode": "lines+markers+text",
         "name": "psn_SloshySole",
         "orientation": "v",
         "showlegend": true,
         "text": [
          4.14,
          2.43,
          2.84,
          2.83,
          2.5,
          3.33,
          2.81,
          3.44,
          3.67,
          3.2,
          3.02,
          3.68
         ],
         "textposition": "bottom right",
         "type": "scatter",
         "x": [
          "2021-08-30T00:00:00",
          "2021-09-06T00:00:00",
          "2021-09-13T00:00:00",
          "2021-09-20T00:00:00",
          "2021-09-27T00:00:00",
          "2021-10-04T00:00:00",
          "2021-10-11T00:00:00",
          "2021-10-18T00:00:00",
          "2021-10-25T00:00:00",
          "2021-11-01T00:00:00",
          "2021-11-08T00:00:00",
          "2021-11-15T00:00:00"
         ],
         "xaxis": "x",
         "y": [
          4.139012542517007,
          2.434172804433221,
          2.843336654589372,
          2.829349418059509,
          2.496220159950482,
          3.3266786290211905,
          2.813636975492054,
          3.435999913424411,
          3.6721184391588806,
          3.2016444101108825,
          3.024415580720115,
          3.680064134560363
         ],
         "yaxis": "y"
        },
        {
         "hovertemplate": "player_id=psn_drumcon11<br>week=%{x}<br>efficiency_rating=%{y}<br>text=%{text}<extra></extra>",
         "legendgroup": "psn_drumcon11",
         "line": {
          "color": "#F4E9C3",
          "dash": "solid",
          "width": 4
         },
         "marker": {
          "symbol": "circle"
         },
         "mode": "lines+markers+text",
         "name": "psn_drumcon11",
         "orientation": "v",
         "showlegend": true,
         "text": [
          1.58,
          1.27,
          1.96,
          1.87,
          2.03,
          2.36,
          2.1,
          2.22,
          1.86
         ],
         "textposition": "bottom right",
         "type": "scatter",
         "x": [
          "2021-09-06T00:00:00",
          "2021-09-20T00:00:00",
          "2021-10-04T00:00:00",
          "2021-10-11T00:00:00",
          "2021-10-18T00:00:00",
          "2021-10-25T00:00:00",
          "2021-11-01T00:00:00",
          "2021-11-08T00:00:00",
          "2021-11-15T00:00:00"
         ],
         "xaxis": "x",
         "y": [
          1.5845706160159285,
          1.2732703518907562,
          1.9573745561821219,
          1.8697516025641026,
          2.0282077297702297,
          2.3596207264957263,
          2.0985203990088857,
          2.22257669940139,
          1.8634131493506492
         ],
         "yaxis": "y"
        },
        {
         "hovertemplate": "player_id=psn_mypremeclean<br>week=%{x}<br>efficiency_rating=%{y}<br>text=%{text}<extra></extra>",
         "legendgroup": "psn_mypremeclean",
         "line": {
          "color": "#EF8B79",
          "dash": "solid",
          "width": 4
         },
         "marker": {
          "symbol": "circle"
         },
         "mode": "lines+markers+text",
         "name": "psn_mypremeclean",
         "orientation": "v",
         "showlegend": true,
         "text": [
          3.22,
          2.17,
          2.95,
          2.9,
          2.19,
          3.38
         ],
         "textposition": "bottom right",
         "type": "scatter",
         "x": [
          "2021-10-04T00:00:00",
          "2021-10-11T00:00:00",
          "2021-10-18T00:00:00",
          "2021-10-25T00:00:00",
          "2021-11-01T00:00:00",
          "2021-11-15T00:00:00"
         ],
         "xaxis": "x",
         "y": [
          3.21657941017316,
          2.166921387775416,
          2.9470914149428524,
          2.900264897862554,
          2.191803509290039,
          3.381287684458849
         ],
         "yaxis": "y"
        },
        {
         "hovertemplate": "player_id=psn_GotYourBach<br>day=%{x}<br>efficiency_rating=%{y}<br>text=%{text}<extra></extra>",
         "legendgroup": "psn_GotYourBach",
         "line": {
          "color": "#0B6872",
          "dash": "solid",
          "width": 4
         },
         "marker": {
          "symbol": "circle"
         },
         "mode": "lines+markers+text",
         "name": "psn_GotYourBach",
         "orientation": "v",
         "showlegend": true,
         "text": [
          3.08,
          4.07,
          3.19,
          3.96,
          4.56
         ],
         "textposition": "bottom right",
         "type": "scatter",
         "x": [
          "2021-11-10T00:00:00",
          "2021-11-11T00:00:00",
          "2021-11-14T00:00:00",
          "2021-11-17T00:00:00",
          "2021-11-18T00:00:00"
         ],
         "xaxis": "x2",
         "y": [
          3.0753175879726893,
          4.065714074337121,
          3.190620603354979,
          3.9572717013888887,
          4.560751065340909
         ],
         "yaxis": "y2"
        },
        {
         "hovertemplate": "player_id=psn_MissNemisis<br>day=%{x}<br>efficiency_rating=%{y}<br>text=%{text}<extra></extra>",
         "legendgroup": "psn_MissNemisis",
         "line": {
          "color": "#00D3BC",
          "dash": "solid",
          "width": 4
         },
         "marker": {
          "symbol": "circle"
         },
         "mode": "lines+markers+text",
         "name": "psn_MissNemisis",
         "orientation": "v",
         "showlegend": true,
         "text": [
          3.15,
          3.74,
          3.13,
          4.17,
          3.78
         ],
         "textposition": "bottom right",
         "type": "scatter",
         "x": [
          "2021-11-10T00:00:00",
          "2021-11-11T00:00:00",
          "2021-11-14T00:00:00",
          "2021-11-17T00:00:00",
          "2021-11-18T00:00:00"
         ],
         "xaxis": "x2",
         "y": [
          3.1522137920673075,
          3.742190914554196,
          3.1325574638429754,
          4.17071032699939,
          3.780036695075758
         ],
         "yaxis": "y2"
        },
        {
         "hovertemplate": "player_id=psn_SloshySole<br>day=%{x}<br>efficiency_rating=%{y}<br>text=%{text}<extra></extra>",
         "legendgroup": "psn_SloshySole",
         "line": {
          "color": "#040404",
          "dash": "solid",
          "width": 4
         },
         "marker": {
          "symbol": "circle"
         },
         "mode": "lines+markers+text",
         "name": "psn_SloshySole",
         "orientation": "v",
         "showlegend": true,
         "text": [
          2.72,
          3.7,
          2.75,
          3.62,
          2.58,
          4.11,
          4.13
         ],
         "textposition": "bottom right",
         "type": "scatter",
         "x": [
          "2021-11-10T00:00:00",
          "2021-11-11T00:00:00",
          "2021-11-14T00:00:00",
          "2021-11-15T00:00:00",
          "2021-11-16T00:00:00",
          "2021-11-17T00:00:00",
          "2021-11-18T00:00:00"
         ],
         "xaxis": "x2",
         "y": [
          2.724796022655857,
          3.6953247598755414,
          2.7543867653810836,
          3.6211433531746033,
          2.5792075329184705,
          4.106698900058275,
          4.13062750400641
         ],
         "yaxis": "y2"
        },
        {
         "hovertemplate": "player_id=psn_drumcon11<br>day=%{x}<br>efficiency_rating=%{y}<br>text=%{text}<extra></extra>",
         "legendgroup": "psn_drumcon11",
         "line": {
          "color": "#F4E9C3",
          "dash": "solid",
          "width": 4
         },
         "marker": {
          "symbol": "circle"
         },
         "mode": "lines+markers+text",
         "name": "psn_drumcon11",
         "orientation": "v",
         "showlegend": true,
         "text": [
          2.14,
          2.68,
          1.81,
          1.86
         ],
         "textposition": "bottom right",
         "type": "scatter",
         "x": [
          "2021-11-10T00:00:00",
          "2021-11-11T00:00:00",
          "2021-11-14T00:00:00",
          "2021-11-15T00:00:00"
         ],
         "xaxis": "x2",
         "y": [
          2.14008153447658,
          2.6830172275641027,
          1.812016369047619,
          1.8634131493506492
         ],
         "yaxis": "y2"
        },
        {
         "hovertemplate": "player_id=psn_mypremeclean<br>day=%{x}<br>efficiency_rating=%{y}<br>text=%{text}<extra></extra>",
         "legendgroup": "psn_mypremeclean",
         "line": {
          "color": "#EF8B79",
          "dash": "solid",
          "width": 4
         },
         "marker": {
          "symbol": "circle"
         },
         "mode": "lines+markers+text",
         "name": "psn_mypremeclean",
         "orientation": "v",
         "showlegend": true,
         "text": [
          2.58,
          3.33,
          4.04
         ],
         "textposition": "bottom right",
         "type": "scatter",
         "x": [
          "2021-11-16T00:00:00",
          "2021-11-17T00:00:00",
          "2021-11-18T00:00:00"
         ],
         "xaxis": "x2",
         "y": [
          2.576421769781145,
          3.3281053852831195,
          4.038119419642857
         ],
         "yaxis": "y2"
        }
       ],
       "layout": {
        "font": {
         "color": "grey",
         "family": "sans-serif"
        },
        "height": 600,
        "legend": {
         "title": {
          "font": {
           "color": "grey"
          }
         }
        },
        "paper_bgcolor": "#E9F2F1",
        "plot_bgcolor": "rgba(0,0,0,0)",
        "shapes": [
         {
          "line": {
           "color": "#00B551",
           "dash": "dash"
          },
          "opacity": 0.4,
          "type": "line",
          "x0": "2021-08-30T00:00:00",
          "x1": "2021-11-15T00:00:00",
          "xref": "x",
          "y0": 5,
          "y1": 5,
          "yref": "y"
         }
        ],
        "showlegend": false,
        "template": {
         "data": {
          "scatter": [
           {
            "type": "scatter"
           }
          ]
         }
        },
        "title": {
         "font": {
          "color": "black",
          "family": "sans-serif",
          "size": 20
         },
         "text": "<b>Efficiency Rating Performance by Player, Last 60/21 Days</b>"
        },
        "width": 2000,
        "xaxis": {
         "anchor": "y",
         "domain": [
          0,
          0.45
         ]
        },
        "xaxis2": {
         "anchor": "y2",
         "domain": [
          0.55,
          1
         ]
        },
        "yaxis": {
         "anchor": "x",
         "domain": [
          0,
          1
         ]
        },
        "yaxis2": {
         "anchor": "x2",
         "domain": [
          0,
          1
         ]
        }
       }
      }
     },
     "metadata": {},
     "output_type": "display_data"
    },
    {
     "name": "stdout",
     "output_type": "stream",
     "text": [
      "Metric: Score Per Min\n",
      "Top 1% 800.5 | Top 5% 597.0 | Top 10% 512.2 | \n",
      "Current Leaderboard: \n",
      "  Average Performance    |     Peak Performance    \n",
      "==================================================\n",
      "1 | GotYourBach  | 639.0 | 1 | SloshySole   | 1360.0\n",
      "2 | SloshySole   | 613.21 | 2 | GotYourBach  | 1182.0\n",
      "3 | MissNemisis  | 597.09 | 3 | MissNemisis  | 953.62\n",
      "4 | mypremeclean | 438.18 | 4 | mypremeclean | 721.0\n",
      "5 | drumcon11    | 324.38 | 5 | drumcon11    | 431.75\n"
     ]
    },
    {
     "data": {
      "application/vnd.plotly.v1+json": {
       "config": {
        "plotlyServerURL": "https://plot.ly"
       },
       "data": [
        {
         "hovertemplate": "player_id=psn_GotYourBach<br>week=%{x}<br>score_per_min=%{y}<br>text=%{text}<extra></extra>",
         "legendgroup": "psn_GotYourBach",
         "line": {
          "color": "#0B6872",
          "dash": "solid",
          "width": 4
         },
         "marker": {
          "symbol": "circle"
         },
         "mode": "lines+markers+text",
         "name": "psn_GotYourBach",
         "orientation": "v",
         "showlegend": true,
         "text": [
          600.62,
          517.64,
          524.38,
          429.43,
          427.76,
          442.59,
          530.23,
          445.54,
          505.16,
          639
         ],
         "textposition": "bottom right",
         "type": "scatter",
         "x": [
          "2021-08-30T00:00:00",
          "2021-09-06T00:00:00",
          "2021-09-13T00:00:00",
          "2021-09-20T00:00:00",
          "2021-09-27T00:00:00",
          "2021-10-04T00:00:00",
          "2021-10-25T00:00:00",
          "2021-11-01T00:00:00",
          "2021-11-08T00:00:00",
          "2021-11-15T00:00:00"
         ],
         "xaxis": "x",
         "y": [
          600.6242857142857,
          517.6388888888889,
          524.38,
          429.42571428571426,
          427.76000000000005,
          442.58714285714285,
          530.2344444444445,
          445.53749999999997,
          505.16333333333336,
          639.00375
         ],
         "yaxis": "y"
        },
        {
         "hovertemplate": "player_id=psn_MissNemisis<br>week=%{x}<br>score_per_min=%{y}<br>text=%{text}<extra></extra>",
         "legendgroup": "psn_MissNemisis",
         "line": {
          "color": "#00D3BC",
          "dash": "solid",
          "width": 4
         },
         "marker": {
          "symbol": "circle"
         },
         "mode": "lines+markers+text",
         "name": "psn_MissNemisis",
         "orientation": "v",
         "showlegend": true,
         "text": [
          575.15,
          392.05,
          418.73,
          350.19,
          420.16,
          421.5,
          476.6,
          421.66,
          502.37,
          597.09
         ],
         "textposition": "bottom right",
         "type": "scatter",
         "x": [
          "2021-08-30T00:00:00",
          "2021-09-06T00:00:00",
          "2021-09-13T00:00:00",
          "2021-09-20T00:00:00",
          "2021-09-27T00:00:00",
          "2021-10-04T00:00:00",
          "2021-10-25T00:00:00",
          "2021-11-01T00:00:00",
          "2021-11-08T00:00:00",
          "2021-11-15T00:00:00"
         ],
         "xaxis": "x",
         "y": [
          575.1471428571429,
          392.04999999999995,
          418.7283333333333,
          350.1871428571429,
          420.15999999999997,
          421.49538461538464,
          476.6044444444444,
          421.66499999999996,
          502.37111111111113,
          597.086875
         ],
         "yaxis": "y"
        },
        {
         "hovertemplate": "player_id=psn_SloshySole<br>week=%{x}<br>score_per_min=%{y}<br>text=%{text}<extra></extra>",
         "legendgroup": "psn_SloshySole",
         "line": {
          "color": "#040404",
          "dash": "solid",
          "width": 4
         },
         "marker": {
          "symbol": "circle"
         },
         "mode": "lines+markers+text",
         "name": "psn_SloshySole",
         "orientation": "v",
         "showlegend": true,
         "text": [
          544.34,
          402.72,
          481.22,
          486.14,
          444.27,
          509.82,
          433.96,
          505.76,
          517.88,
          493.04,
          512.58,
          613.21
         ],
         "textposition": "bottom right",
         "type": "scatter",
         "x": [
          "2021-08-30T00:00:00",
          "2021-09-06T00:00:00",
          "2021-09-13T00:00:00",
          "2021-09-20T00:00:00",
          "2021-09-27T00:00:00",
          "2021-10-04T00:00:00",
          "2021-10-11T00:00:00",
          "2021-10-18T00:00:00",
          "2021-10-25T00:00:00",
          "2021-11-01T00:00:00",
          "2021-11-08T00:00:00",
          "2021-11-15T00:00:00"
         ],
         "xaxis": "x",
         "y": [
          544.3357142857143,
          402.71777777777777,
          481.21999999999997,
          486.14428571428573,
          444.2728571428571,
          509.822,
          433.9552631578947,
          505.764,
          517.8817647058823,
          493.0382352941176,
          512.5788888888889,
          613.2127586206896
         ],
         "yaxis": "y"
        },
        {
         "hovertemplate": "player_id=psn_drumcon11<br>week=%{x}<br>score_per_min=%{y}<br>text=%{text}<extra></extra>",
         "legendgroup": "psn_drumcon11",
         "line": {
          "color": "#F4E9C3",
          "dash": "solid",
          "width": 4
         },
         "marker": {
          "symbol": "circle"
         },
         "mode": "lines+markers+text",
         "name": "psn_drumcon11",
         "orientation": "v",
         "showlegend": true,
         "text": [
          281.13,
          176.26,
          268.12,
          243.88,
          241.83,
          353.62,
          331.25,
          344.72,
          324.38
         ],
         "textposition": "bottom right",
         "type": "scatter",
         "x": [
          "2021-09-06T00:00:00",
          "2021-09-20T00:00:00",
          "2021-10-04T00:00:00",
          "2021-10-11T00:00:00",
          "2021-10-18T00:00:00",
          "2021-10-25T00:00:00",
          "2021-11-01T00:00:00",
          "2021-11-08T00:00:00",
          "2021-11-15T00:00:00"
         ],
         "xaxis": "x",
         "y": [
          281.13,
          176.256,
          268.12,
          243.875,
          241.82923076923078,
          353.6223076923077,
          331.24666666666667,
          344.7158823529412,
          324.3757142857143
         ],
         "yaxis": "y"
        },
        {
         "hovertemplate": "player_id=psn_mypremeclean<br>week=%{x}<br>score_per_min=%{y}<br>text=%{text}<extra></extra>",
         "legendgroup": "psn_mypremeclean",
         "line": {
          "color": "#EF8B79",
          "dash": "solid",
          "width": 4
         },
         "marker": {
          "symbol": "circle"
         },
         "mode": "lines+markers+text",
         "name": "psn_mypremeclean",
         "orientation": "v",
         "showlegend": true,
         "text": [
          299.45,
          329.72,
          404.41,
          384.2,
          383.48,
          438.18
         ],
         "textposition": "bottom right",
         "type": "scatter",
         "x": [
          "2021-10-04T00:00:00",
          "2021-10-11T00:00:00",
          "2021-10-18T00:00:00",
          "2021-10-25T00:00:00",
          "2021-11-01T00:00:00",
          "2021-11-15T00:00:00"
         ],
         "xaxis": "x",
         "y": [
          299.44714285714286,
          329.7247368421053,
          404.41066666666666,
          384.195,
          383.47749999999996,
          438.18454545454546
         ],
         "yaxis": "y"
        },
        {
         "hovertemplate": "player_id=psn_GotYourBach<br>day=%{x}<br>score_per_min=%{y}<br>text=%{text}<extra></extra>",
         "legendgroup": "psn_GotYourBach",
         "line": {
          "color": "#0B6872",
          "dash": "solid",
          "width": 4
         },
         "marker": {
          "symbol": "circle"
         },
         "mode": "lines+markers+text",
         "name": "psn_GotYourBach",
         "orientation": "v",
         "showlegend": true,
         "text": [
          464.27,
          540.02,
          509.56,
          622.73,
          655.27
         ],
         "textposition": "bottom right",
         "type": "scatter",
         "x": [
          "2021-11-10T00:00:00",
          "2021-11-11T00:00:00",
          "2021-11-14T00:00:00",
          "2021-11-17T00:00:00",
          "2021-11-18T00:00:00"
         ],
         "xaxis": "x2",
         "y": [
          464.2675,
          540.015,
          509.55909090909086,
          622.73375,
          655.2737500000001
         ],
         "yaxis": "y2"
        },
        {
         "hovertemplate": "player_id=psn_MissNemisis<br>day=%{x}<br>score_per_min=%{y}<br>text=%{text}<extra></extra>",
         "legendgroup": "psn_MissNemisis",
         "line": {
          "color": "#00D3BC",
          "dash": "solid",
          "width": 4
         },
         "marker": {
          "symbol": "circle"
         },
         "mode": "lines+markers+text",
         "name": "psn_MissNemisis",
         "orientation": "v",
         "showlegend": true,
         "text": [
          465.76,
          495.95,
          533.67,
          653.79,
          540.38
         ],
         "textposition": "bottom right",
         "type": "scatter",
         "x": [
          "2021-11-10T00:00:00",
          "2021-11-11T00:00:00",
          "2021-11-14T00:00:00",
          "2021-11-17T00:00:00",
          "2021-11-18T00:00:00"
         ],
         "xaxis": "x2",
         "y": [
          465.76375,
          495.94875,
          533.6654545454545,
          653.79,
          540.38375
         ],
         "yaxis": "y2"
        },
        {
         "hovertemplate": "player_id=psn_SloshySole<br>day=%{x}<br>score_per_min=%{y}<br>text=%{text}<extra></extra>",
         "legendgroup": "psn_SloshySole",
         "line": {
          "color": "#040404",
          "dash": "solid",
          "width": 4
         },
         "marker": {
          "symbol": "circle"
         },
         "mode": "lines+markers+text",
         "name": "psn_SloshySole",
         "orientation": "v",
         "showlegend": true,
         "text": [
          468.32,
          557.98,
          511.75,
          547.12,
          481.29,
          680.85,
          702.35
         ],
         "textposition": "bottom right",
         "type": "scatter",
         "x": [
          "2021-11-10T00:00:00",
          "2021-11-11T00:00:00",
          "2021-11-14T00:00:00",
          "2021-11-15T00:00:00",
          "2021-11-16T00:00:00",
          "2021-11-17T00:00:00",
          "2021-11-18T00:00:00"
         ],
         "xaxis": "x2",
         "y": [
          468.31874999999997,
          557.98,
          511.7490909090909,
          547.1214285714285,
          481.2866666666667,
          680.8475,
          702.3525
         ],
         "yaxis": "y2"
        },
        {
         "hovertemplate": "player_id=psn_drumcon11<br>day=%{x}<br>score_per_min=%{y}<br>text=%{text}<extra></extra>",
         "legendgroup": "psn_drumcon11",
         "line": {
          "color": "#F4E9C3",
          "dash": "solid",
          "width": 4
         },
         "marker": {
          "symbol": "circle"
         },
         "mode": "lines+markers+text",
         "name": "psn_drumcon11",
         "orientation": "v",
         "showlegend": true,
         "text": [
          342.96,
          396.42,
          283.61,
          324.38
         ],
         "textposition": "bottom right",
         "type": "scatter",
         "x": [
          "2021-11-10T00:00:00",
          "2021-11-11T00:00:00",
          "2021-11-14T00:00:00",
          "2021-11-15T00:00:00"
         ],
         "xaxis": "x2",
         "y": [
          342.9575,
          396.416,
          283.6075,
          324.3757142857143
         ],
         "yaxis": "y2"
        },
        {
         "hovertemplate": "player_id=psn_mypremeclean<br>day=%{x}<br>score_per_min=%{y}<br>text=%{text}<extra></extra>",
         "legendgroup": "psn_mypremeclean",
         "line": {
          "color": "#EF8B79",
          "dash": "solid",
          "width": 4
         },
         "marker": {
          "symbol": "circle"
         },
         "mode": "lines+markers+text",
         "name": "psn_mypremeclean",
         "orientation": "v",
         "showlegend": true,
         "text": [
          374.88,
          455.34,
          468.51
         ],
         "textposition": "bottom right",
         "type": "scatter",
         "x": [
          "2021-11-16T00:00:00",
          "2021-11-17T00:00:00",
          "2021-11-18T00:00:00"
         ],
         "xaxis": "x2",
         "y": [
          374.87833333333333,
          455.33875,
          468.51
         ],
         "yaxis": "y2"
        }
       ],
       "layout": {
        "font": {
         "color": "grey",
         "family": "sans-serif"
        },
        "height": 600,
        "legend": {
         "title": {
          "font": {
           "color": "grey"
          }
         }
        },
        "paper_bgcolor": "#E9F2F1",
        "plot_bgcolor": "rgba(0,0,0,0)",
        "shapes": [
         {
          "line": {
           "color": "#00B551",
           "dash": "dash"
          },
          "opacity": 0.4,
          "type": "line",
          "x0": "2021-08-30T00:00:00",
          "x1": "2021-11-15T00:00:00",
          "xref": "x",
          "y0": 512.2,
          "y1": 512.2,
          "yref": "y"
         }
        ],
        "showlegend": false,
        "template": {
         "data": {
          "scatter": [
           {
            "type": "scatter"
           }
          ]
         }
        },
        "title": {
         "font": {
          "color": "black",
          "family": "sans-serif",
          "size": 20
         },
         "text": "<b>Score Per Min Performance by Player, Last 60/21 Days</b>"
        },
        "width": 2000,
        "xaxis": {
         "anchor": "y",
         "domain": [
          0,
          0.45
         ]
        },
        "xaxis2": {
         "anchor": "y2",
         "domain": [
          0.55,
          1
         ]
        },
        "yaxis": {
         "anchor": "x",
         "domain": [
          0,
          1
         ]
        },
        "yaxis2": {
         "anchor": "x2",
         "domain": [
          0,
          1
         ]
        }
       }
      }
     },
     "metadata": {},
     "output_type": "display_data"
    },
    {
     "name": "stdout",
     "output_type": "stream",
     "text": [
      "Metric: Kills Per Death\n",
      "Top 1% 13.0 |  Top 5% 4.8 |   Top 10% 3.0 |  \n",
      "Current Leaderboard: \n",
      "  Average Performance    |     Peak Performance    \n",
      "==================================================\n",
      "1 | GotYourBach  | 3.39  | 1 | GotYourBach  | 12.0 \n",
      "2 | MissNemisis  | 2.61  | 2 | mypremeclean |  7.0 \n",
      "3 | mypremeclean | 2.28  | 3 | MissNemisis  |  6.0 \n",
      "4 | SloshySole   | 1.93  | 4 | SloshySole   |  4.0 \n",
      "5 | drumcon11    | 0.52  | 5 | drumcon11    | 1.22 \n"
     ]
    },
    {
     "data": {
      "application/vnd.plotly.v1+json": {
       "config": {
        "plotlyServerURL": "https://plot.ly"
       },
       "data": [
        {
         "hovertemplate": "player_id=psn_GotYourBach<br>week=%{x}<br>kills_per_death=%{y}<br>text=%{text}<extra></extra>",
         "legendgroup": "psn_GotYourBach",
         "line": {
          "color": "#0B6872",
          "dash": "solid",
          "width": 4
         },
         "marker": {
          "symbol": "circle"
         },
         "mode": "lines+markers+text",
         "name": "psn_GotYourBach",
         "orientation": "v",
         "showlegend": true,
         "text": [
          3.37,
          1.84,
          1.91,
          1.19,
          1.17,
          1.9,
          2.17,
          1.56,
          1.92,
          3.39
         ],
         "textposition": "bottom right",
         "type": "scatter",
         "x": [
          "2021-08-30T00:00:00",
          "2021-09-06T00:00:00",
          "2021-09-13T00:00:00",
          "2021-09-20T00:00:00",
          "2021-09-27T00:00:00",
          "2021-10-04T00:00:00",
          "2021-10-25T00:00:00",
          "2021-11-01T00:00:00",
          "2021-11-08T00:00:00",
          "2021-11-15T00:00:00"
         ],
         "xaxis": "x",
         "y": [
          3.371428571428571,
          1.8411111111111111,
          1.9083333333333332,
          1.1871428571428573,
          1.167142857142857,
          1.9007142857142856,
          2.1655555555555557,
          1.5625,
          1.9177777777777778,
          3.3918749999999998
         ],
         "yaxis": "y"
        },
        {
         "hovertemplate": "player_id=psn_MissNemisis<br>week=%{x}<br>kills_per_death=%{y}<br>text=%{text}<extra></extra>",
         "legendgroup": "psn_MissNemisis",
         "line": {
          "color": "#00D3BC",
          "dash": "solid",
          "width": 4
         },
         "marker": {
          "symbol": "circle"
         },
         "mode": "lines+markers+text",
         "name": "psn_MissNemisis",
         "orientation": "v",
         "showlegend": true,
         "text": [
          4.16,
          1.48,
          1.48,
          1.42,
          1.55,
          2.64,
          2.09,
          1.45,
          2.02,
          2.61
         ],
         "textposition": "bottom right",
         "type": "scatter",
         "x": [
          "2021-08-30T00:00:00",
          "2021-09-06T00:00:00",
          "2021-09-13T00:00:00",
          "2021-09-20T00:00:00",
          "2021-09-27T00:00:00",
          "2021-10-04T00:00:00",
          "2021-10-25T00:00:00",
          "2021-11-01T00:00:00",
          "2021-11-08T00:00:00",
          "2021-11-15T00:00:00"
         ],
         "xaxis": "x",
         "y": [
          4.161428571428572,
          1.4766666666666666,
          1.4749999999999999,
          1.4242857142857142,
          1.5514285714285714,
          2.6407692307692305,
          2.088888888888889,
          1.4475,
          2.0237037037037036,
          2.608125
         ],
         "yaxis": "y"
        },
        {
         "hovertemplate": "player_id=psn_SloshySole<br>week=%{x}<br>kills_per_death=%{y}<br>text=%{text}<extra></extra>",
         "legendgroup": "psn_SloshySole",
         "line": {
          "color": "#040404",
          "dash": "solid",
          "width": 4
         },
         "marker": {
          "symbol": "circle"
         },
         "mode": "lines+markers+text",
         "name": "psn_SloshySole",
         "orientation": "v",
         "showlegend": true,
         "text": [
          2.36,
          1.09,
          1.45,
          1.44,
          1.17,
          2.2,
          1.68,
          1.74,
          1.87,
          1.36,
          1.26,
          1.93
         ],
         "textposition": "bottom right",
         "type": "scatter",
         "x": [
          "2021-08-30T00:00:00",
          "2021-09-06T00:00:00",
          "2021-09-13T00:00:00",
          "2021-09-20T00:00:00",
          "2021-09-27T00:00:00",
          "2021-10-04T00:00:00",
          "2021-10-11T00:00:00",
          "2021-10-18T00:00:00",
          "2021-10-25T00:00:00",
          "2021-11-01T00:00:00",
          "2021-11-08T00:00:00",
          "2021-11-15T00:00:00"
         ],
         "xaxis": "x",
         "y": [
          2.3642857142857143,
          1.088888888888889,
          1.4460000000000002,
          1.4385714285714286,
          1.1742857142857144,
          2.1995,
          1.6773684210526316,
          1.7393333333333334,
          1.8711764705882352,
          1.3570588235294119,
          1.2592592592592593,
          1.9258620689655173
         ],
         "yaxis": "y"
        },
        {
         "hovertemplate": "player_id=psn_drumcon11<br>week=%{x}<br>kills_per_death=%{y}<br>text=%{text}<extra></extra>",
         "legendgroup": "psn_drumcon11",
         "line": {
          "color": "#F4E9C3",
          "dash": "solid",
          "width": 4
         },
         "marker": {
          "symbol": "circle"
         },
         "mode": "lines+markers+text",
         "name": "psn_drumcon11",
         "orientation": "v",
         "showlegend": true,
         "text": [
          0.37,
          0.59,
          1.18,
          0.75,
          0.72,
          0.56,
          0.48,
          0.46,
          0.52
         ],
         "textposition": "bottom right",
         "type": "scatter",
         "x": [
          "2021-09-06T00:00:00",
          "2021-09-20T00:00:00",
          "2021-10-04T00:00:00",
          "2021-10-11T00:00:00",
          "2021-10-18T00:00:00",
          "2021-10-25T00:00:00",
          "2021-11-01T00:00:00",
          "2021-11-08T00:00:00",
          "2021-11-15T00:00:00"
         ],
         "xaxis": "x",
         "y": [
          0.37166666666666665,
          0.588,
          1.176,
          0.75,
          0.7246153846153847,
          0.5561538461538461,
          0.47733333333333333,
          0.4582352941176471,
          0.52
         ],
         "yaxis": "y"
        },
        {
         "hovertemplate": "player_id=psn_mypremeclean<br>week=%{x}<br>kills_per_death=%{y}<br>text=%{text}<extra></extra>",
         "legendgroup": "psn_mypremeclean",
         "line": {
          "color": "#EF8B79",
          "dash": "solid",
          "width": 4
         },
         "marker": {
          "symbol": "circle"
         },
         "mode": "lines+markers+text",
         "name": "psn_mypremeclean",
         "orientation": "v",
         "showlegend": true,
         "text": [
          2.3,
          1.3,
          1.58,
          2.25,
          1.12,
          2.28
         ],
         "textposition": "bottom right",
         "type": "scatter",
         "x": [
          "2021-10-04T00:00:00",
          "2021-10-11T00:00:00",
          "2021-10-18T00:00:00",
          "2021-10-25T00:00:00",
          "2021-11-01T00:00:00",
          "2021-11-15T00:00:00"
         ],
         "xaxis": "x",
         "y": [
          2.302857142857143,
          1.2994736842105263,
          1.5799999999999998,
          2.2525,
          1.1199999999999999,
          2.2804545454545457
         ],
         "yaxis": "y"
        },
        {
         "hovertemplate": "player_id=psn_GotYourBach<br>day=%{x}<br>kills_per_death=%{y}<br>text=%{text}<extra></extra>",
         "legendgroup": "psn_GotYourBach",
         "line": {
          "color": "#0B6872",
          "dash": "solid",
          "width": 4
         },
         "marker": {
          "symbol": "circle"
         },
         "mode": "lines+markers+text",
         "name": "psn_GotYourBach",
         "orientation": "v",
         "showlegend": true,
         "text": [
          1.58,
          1.92,
          2.16,
          2.86,
          3.93
         ],
         "textposition": "bottom right",
         "type": "scatter",
         "x": [
          "2021-11-10T00:00:00",
          "2021-11-11T00:00:00",
          "2021-11-14T00:00:00",
          "2021-11-17T00:00:00",
          "2021-11-18T00:00:00"
         ],
         "xaxis": "x2",
         "y": [
          1.58375,
          1.91625,
          2.161818181818182,
          2.855,
          3.92875
         ],
         "yaxis": "y2"
        },
        {
         "hovertemplate": "player_id=psn_MissNemisis<br>day=%{x}<br>kills_per_death=%{y}<br>text=%{text}<extra></extra>",
         "legendgroup": "psn_MissNemisis",
         "line": {
          "color": "#00D3BC",
          "dash": "solid",
          "width": 4
         },
         "marker": {
          "symbol": "circle"
         },
         "mode": "lines+markers+text",
         "name": "psn_MissNemisis",
         "orientation": "v",
         "showlegend": true,
         "text": [
          1.88,
          1.96,
          2.18,
          2.55,
          2.67
         ],
         "textposition": "bottom right",
         "type": "scatter",
         "x": [
          "2021-11-10T00:00:00",
          "2021-11-11T00:00:00",
          "2021-11-14T00:00:00",
          "2021-11-17T00:00:00",
          "2021-11-18T00:00:00"
         ],
         "xaxis": "x2",
         "y": [
          1.875,
          1.96,
          2.178181818181818,
          2.5475,
          2.66875
         ],
         "yaxis": "y2"
        },
        {
         "hovertemplate": "player_id=psn_SloshySole<br>day=%{x}<br>kills_per_death=%{y}<br>text=%{text}<extra></extra>",
         "legendgroup": "psn_SloshySole",
         "line": {
          "color": "#040404",
          "dash": "solid",
          "width": 4
         },
         "marker": {
          "symbol": "circle"
         },
         "mode": "lines+markers+text",
         "name": "psn_SloshySole",
         "orientation": "v",
         "showlegend": true,
         "text": [
          1.15,
          1.41,
          1.23,
          1.98,
          1.4,
          2.25,
          1.95
         ],
         "textposition": "bottom right",
         "type": "scatter",
         "x": [
          "2021-11-10T00:00:00",
          "2021-11-11T00:00:00",
          "2021-11-14T00:00:00",
          "2021-11-15T00:00:00",
          "2021-11-16T00:00:00",
          "2021-11-17T00:00:00",
          "2021-11-18T00:00:00"
         ],
         "xaxis": "x2",
         "y": [
          1.15125,
          1.40875,
          1.229090909090909,
          1.9842857142857144,
          1.3983333333333334,
          2.25,
          1.94625
         ],
         "yaxis": "y2"
        },
        {
         "hovertemplate": "player_id=psn_drumcon11<br>day=%{x}<br>kills_per_death=%{y}<br>text=%{text}<extra></extra>",
         "legendgroup": "psn_drumcon11",
         "line": {
          "color": "#F4E9C3",
          "dash": "solid",
          "width": 4
         },
         "marker": {
          "symbol": "circle"
         },
         "mode": "lines+markers+text",
         "name": "psn_drumcon11",
         "orientation": "v",
         "showlegend": true,
         "text": [
          0.58,
          0.4,
          0.29,
          0.52
         ],
         "textposition": "bottom right",
         "type": "scatter",
         "x": [
          "2021-11-10T00:00:00",
          "2021-11-11T00:00:00",
          "2021-11-14T00:00:00",
          "2021-11-15T00:00:00"
         ],
         "xaxis": "x2",
         "y": [
          0.58375,
          0.396,
          0.28500000000000003,
          0.52
         ],
         "yaxis": "y2"
        },
        {
         "hovertemplate": "player_id=psn_mypremeclean<br>day=%{x}<br>kills_per_death=%{y}<br>text=%{text}<extra></extra>",
         "legendgroup": "psn_mypremeclean",
         "line": {
          "color": "#EF8B79",
          "dash": "solid",
          "width": 4
         },
         "marker": {
          "symbol": "circle"
         },
         "mode": "lines+markers+text",
         "name": "psn_mypremeclean",
         "orientation": "v",
         "showlegend": true,
         "text": [
          2,
          2.26,
          2.51
         ],
         "textposition": "bottom right",
         "type": "scatter",
         "x": [
          "2021-11-16T00:00:00",
          "2021-11-17T00:00:00",
          "2021-11-18T00:00:00"
         ],
         "xaxis": "x2",
         "y": [
          2.0016666666666665,
          2.2575000000000003,
          2.5125
         ],
         "yaxis": "y2"
        }
       ],
       "layout": {
        "font": {
         "color": "grey",
         "family": "sans-serif"
        },
        "height": 600,
        "legend": {
         "title": {
          "font": {
           "color": "grey"
          }
         }
        },
        "paper_bgcolor": "#E9F2F1",
        "plot_bgcolor": "rgba(0,0,0,0)",
        "shapes": [
         {
          "line": {
           "color": "#00B551",
           "dash": "dash"
          },
          "opacity": 0.4,
          "type": "line",
          "x0": "2021-08-30T00:00:00",
          "x1": "2021-11-15T00:00:00",
          "xref": "x",
          "y0": 3,
          "y1": 3,
          "yref": "y"
         }
        ],
        "showlegend": false,
        "template": {
         "data": {
          "scatter": [
           {
            "type": "scatter"
           }
          ]
         }
        },
        "title": {
         "font": {
          "color": "black",
          "family": "sans-serif",
          "size": 20
         },
         "text": "<b>Kills Per Death Performance by Player, Last 60/21 Days</b>"
        },
        "width": 2000,
        "xaxis": {
         "anchor": "y",
         "domain": [
          0,
          0.45
         ]
        },
        "xaxis2": {
         "anchor": "y2",
         "domain": [
          0.55,
          1
         ]
        },
        "yaxis": {
         "anchor": "x",
         "domain": [
          0,
          1
         ]
        },
        "yaxis2": {
         "anchor": "x2",
         "domain": [
          0,
          1
         ]
        }
       }
      }
     },
     "metadata": {},
     "output_type": "display_data"
    },
    {
     "name": "stdout",
     "output_type": "stream",
     "text": [
      "Metric: True Kills Per Death\n",
      "Top 1% 11.0 |  Top 5% 3.7 |   Top 10% 2.4 |  \n",
      "Current Leaderboard: \n",
      "  Average Performance    |     Peak Performance    \n",
      "==================================================\n",
      "1 | GotYourBach  | 1.52  | 1 | mypremeclean |  7.0 \n",
      "2 | mypremeclean | 1.52  | 2 | MissNemisis  |  4.2 \n",
      "3 | MissNemisis  | 1.29  | 3 | GotYourBach  |  4.0 \n",
      "4 | SloshySole   | 1.17  | 4 | SloshySole   | 2.57 \n",
      "5 | drumcon11    | 0.32  | 5 | drumcon11    | 0.79 \n"
     ]
    },
    {
     "data": {
      "application/vnd.plotly.v1+json": {
       "config": {
        "plotlyServerURL": "https://plot.ly"
       },
       "data": [
        {
         "hovertemplate": "player_id=psn_GotYourBach<br>week=%{x}<br>true_kills_per_death=%{y}<br>text=%{text}<extra></extra>",
         "legendgroup": "psn_GotYourBach",
         "line": {
          "color": "#0B6872",
          "dash": "solid",
          "width": 4
         },
         "marker": {
          "symbol": "circle"
         },
         "mode": "lines+markers+text",
         "name": "psn_GotYourBach",
         "orientation": "v",
         "showlegend": true,
         "text": [
          1.67,
          1.31,
          1.4,
          0.87,
          0.72,
          0.97,
          1.21,
          0.93,
          0.99,
          1.52
         ],
         "textposition": "bottom right",
         "type": "scatter",
         "x": [
          "2021-08-30T00:00:00",
          "2021-09-06T00:00:00",
          "2021-09-13T00:00:00",
          "2021-09-20T00:00:00",
          "2021-09-27T00:00:00",
          "2021-10-04T00:00:00",
          "2021-10-25T00:00:00",
          "2021-11-01T00:00:00",
          "2021-11-08T00:00:00",
          "2021-11-15T00:00:00"
         ],
         "xaxis": "x",
         "y": [
          1.6660333098756743,
          1.3079464687359423,
          1.401720852247168,
          0.8689105945408466,
          0.716826988800673,
          0.9737995783108565,
          1.206460886920657,
          0.9254558477977408,
          0.9895598182931231,
          1.5182142723261145
         ],
         "yaxis": "y"
        },
        {
         "hovertemplate": "player_id=psn_MissNemisis<br>week=%{x}<br>true_kills_per_death=%{y}<br>text=%{text}<extra></extra>",
         "legendgroup": "psn_MissNemisis",
         "line": {
          "color": "#00D3BC",
          "dash": "solid",
          "width": 4
         },
         "marker": {
          "symbol": "circle"
         },
         "mode": "lines+markers+text",
         "name": "psn_MissNemisis",
         "orientation": "v",
         "showlegend": true,
         "text": [
          1.59,
          0.84,
          0.97,
          0.86,
          0.9,
          1.13,
          0.85,
          0.78,
          1.1,
          1.29
         ],
         "textposition": "bottom right",
         "type": "scatter",
         "x": [
          "2021-08-30T00:00:00",
          "2021-09-06T00:00:00",
          "2021-09-13T00:00:00",
          "2021-09-20T00:00:00",
          "2021-09-27T00:00:00",
          "2021-10-04T00:00:00",
          "2021-10-25T00:00:00",
          "2021-11-01T00:00:00",
          "2021-11-08T00:00:00",
          "2021-11-15T00:00:00"
         ],
         "xaxis": "x",
         "y": [
          1.5941248294189472,
          0.8378527336860669,
          0.9722027972027972,
          0.8626440349898389,
          0.9002760524499654,
          1.1338226028544376,
          0.847051716486701,
          0.7792160920521135,
          1.0959831880970512,
          1.2939570762428818
         ],
         "yaxis": "y"
        },
        {
         "hovertemplate": "player_id=psn_SloshySole<br>week=%{x}<br>true_kills_per_death=%{y}<br>text=%{text}<extra></extra>",
         "legendgroup": "psn_SloshySole",
         "line": {
          "color": "#040404",
          "dash": "solid",
          "width": 4
         },
         "marker": {
          "symbol": "circle"
         },
         "mode": "lines+markers+text",
         "name": "psn_SloshySole",
         "orientation": "v",
         "showlegend": true,
         "text": [
          1.15,
          0.8,
          0.93,
          1.08,
          0.83,
          1.09,
          1.19,
          1.09,
          1.02,
          0.92,
          0.76,
          1.17
         ],
         "textposition": "bottom right",
         "type": "scatter",
         "x": [
          "2021-08-30T00:00:00",
          "2021-09-06T00:00:00",
          "2021-09-13T00:00:00",
          "2021-09-20T00:00:00",
          "2021-09-27T00:00:00",
          "2021-10-04T00:00:00",
          "2021-10-11T00:00:00",
          "2021-10-18T00:00:00",
          "2021-10-25T00:00:00",
          "2021-11-01T00:00:00",
          "2021-11-08T00:00:00",
          "2021-11-15T00:00:00"
         ],
         "xaxis": "x",
         "y": [
          1.1461621711621712,
          0.8014170241365467,
          0.9332667332667333,
          1.0769325912183054,
          0.8320059507056411,
          1.0946124160926793,
          1.1922104931225064,
          1.0922057284557283,
          1.0248999150671476,
          0.9189111697843206,
          0.7586243240965351,
          1.1739128885894126
         ],
         "yaxis": "y"
        },
        {
         "hovertemplate": "player_id=psn_drumcon11<br>week=%{x}<br>true_kills_per_death=%{y}<br>text=%{text}<extra></extra>",
         "legendgroup": "psn_drumcon11",
         "line": {
          "color": "#F4E9C3",
          "dash": "solid",
          "width": 4
         },
         "marker": {
          "symbol": "circle"
         },
         "mode": "lines+markers+text",
         "name": "psn_drumcon11",
         "orientation": "v",
         "showlegend": true,
         "text": [
          0.25,
          0.42,
          0.44,
          0.36,
          0.35,
          0.31,
          0.3,
          0.25,
          0.32
         ],
         "textposition": "bottom right",
         "type": "scatter",
         "x": [
          "2021-09-06T00:00:00",
          "2021-09-20T00:00:00",
          "2021-10-04T00:00:00",
          "2021-10-11T00:00:00",
          "2021-10-18T00:00:00",
          "2021-10-25T00:00:00",
          "2021-11-01T00:00:00",
          "2021-11-08T00:00:00",
          "2021-11-15T00:00:00"
         ],
         "xaxis": "x",
         "y": [
          0.24801587301587302,
          0.4233882783882784,
          0.4357545232545233,
          0.35818994601889337,
          0.3457705607086412,
          0.3143438208215536,
          0.3012040799846394,
          0.24982303431152536,
          0.3210055817198674
         ],
         "yaxis": "y"
        },
        {
         "hovertemplate": "player_id=psn_mypremeclean<br>week=%{x}<br>true_kills_per_death=%{y}<br>text=%{text}<extra></extra>",
         "legendgroup": "psn_mypremeclean",
         "line": {
          "color": "#EF8B79",
          "dash": "solid",
          "width": 4
         },
         "marker": {
          "symbol": "circle"
         },
         "mode": "lines+markers+text",
         "name": "psn_mypremeclean",
         "orientation": "v",
         "showlegend": true,
         "text": [
          1.1,
          0.89,
          1.05,
          0.99,
          0.81,
          1.52
         ],
         "textposition": "bottom right",
         "type": "scatter",
         "x": [
          "2021-10-04T00:00:00",
          "2021-10-11T00:00:00",
          "2021-10-18T00:00:00",
          "2021-10-25T00:00:00",
          "2021-11-01T00:00:00",
          "2021-11-15T00:00:00"
         ],
         "xaxis": "x",
         "y": [
          1.1008619055202906,
          0.8879040019025009,
          1.052975172975173,
          0.9873356424335868,
          0.8103636925546492,
          1.517586086522978
         ],
         "yaxis": "y"
        },
        {
         "hovertemplate": "player_id=psn_GotYourBach<br>day=%{x}<br>true_kills_per_death=%{y}<br>text=%{text}<extra></extra>",
         "legendgroup": "psn_GotYourBach",
         "line": {
          "color": "#0B6872",
          "dash": "solid",
          "width": 4
         },
         "marker": {
          "symbol": "circle"
         },
         "mode": "lines+markers+text",
         "name": "psn_GotYourBach",
         "orientation": "v",
         "showlegend": true,
         "text": [
          0.92,
          1.03,
          1.01,
          1.18,
          1.86
         ],
         "textposition": "bottom right",
         "type": "scatter",
         "x": [
          "2021-11-10T00:00:00",
          "2021-11-11T00:00:00",
          "2021-11-14T00:00:00",
          "2021-11-17T00:00:00",
          "2021-11-18T00:00:00"
         ],
         "xaxis": "x2",
         "y": [
          0.920809209971614,
          1.0317234848484849,
          1.0088957759412305,
          1.1780861925598767,
          1.858342352092352
         ],
         "yaxis": "y2"
        },
        {
         "hovertemplate": "player_id=psn_MissNemisis<br>day=%{x}<br>true_kills_per_death=%{y}<br>text=%{text}<extra></extra>",
         "legendgroup": "psn_MissNemisis",
         "line": {
          "color": "#00D3BC",
          "dash": "solid",
          "width": 4
         },
         "marker": {
          "symbol": "circle"
         },
         "mode": "lines+markers+text",
         "name": "psn_MissNemisis",
         "orientation": "v",
         "showlegend": true,
         "text": [
          0.95,
          1.03,
          1.25,
          1.29,
          1.3
         ],
         "textposition": "bottom right",
         "type": "scatter",
         "x": [
          "2021-11-10T00:00:00",
          "2021-11-11T00:00:00",
          "2021-11-14T00:00:00",
          "2021-11-17T00:00:00",
          "2021-11-18T00:00:00"
         ],
         "xaxis": "x2",
         "y": [
          0.9500386996904026,
          1.0306097422099745,
          1.2496689584924878,
          1.2898354664659013,
          1.2980786860198625
         ],
         "yaxis": "y2"
        },
        {
         "hovertemplate": "player_id=psn_SloshySole<br>day=%{x}<br>true_kills_per_death=%{y}<br>text=%{text}<extra></extra>",
         "legendgroup": "psn_SloshySole",
         "line": {
          "color": "#040404",
          "dash": "solid",
          "width": 4
         },
         "marker": {
          "symbol": "circle"
         },
         "mode": "lines+markers+text",
         "name": "psn_SloshySole",
         "orientation": "v",
         "showlegend": true,
         "text": [
          0.76,
          0.78,
          0.74,
          1.35,
          1.16,
          1.21,
          1
         ],
         "textposition": "bottom right",
         "type": "scatter",
         "x": [
          "2021-11-10T00:00:00",
          "2021-11-11T00:00:00",
          "2021-11-14T00:00:00",
          "2021-11-15T00:00:00",
          "2021-11-16T00:00:00",
          "2021-11-17T00:00:00",
          "2021-11-18T00:00:00"
         ],
         "xaxis": "x2",
         "y": [
          0.7569508342534659,
          0.7815650799186604,
          0.7431572215663125,
          1.345785283810494,
          1.1624338624338624,
          1.2056985294117646,
          1.000348171565277
         ],
         "yaxis": "y2"
        },
        {
         "hovertemplate": "player_id=psn_drumcon11<br>day=%{x}<br>true_kills_per_death=%{y}<br>text=%{text}<extra></extra>",
         "legendgroup": "psn_drumcon11",
         "line": {
          "color": "#F4E9C3",
          "dash": "solid",
          "width": 4
         },
         "marker": {
          "symbol": "circle"
         },
         "mode": "lines+markers+text",
         "name": "psn_drumcon11",
         "orientation": "v",
         "showlegend": true,
         "text": [
          0.33,
          0.21,
          0.13,
          0.32
         ],
         "textposition": "bottom right",
         "type": "scatter",
         "x": [
          "2021-11-10T00:00:00",
          "2021-11-11T00:00:00",
          "2021-11-14T00:00:00",
          "2021-11-15T00:00:00"
         ],
         "xaxis": "x2",
         "y": [
          0.33339466089466085,
          0.2106521739130435,
          0.13164335664335663,
          0.3210055817198674
         ],
         "yaxis": "y2"
        },
        {
         "hovertemplate": "player_id=psn_mypremeclean<br>day=%{x}<br>true_kills_per_death=%{y}<br>text=%{text}<extra></extra>",
         "legendgroup": "psn_mypremeclean",
         "line": {
          "color": "#EF8B79",
          "dash": "solid",
          "width": 4
         },
         "marker": {
          "symbol": "circle"
         },
         "mode": "lines+markers+text",
         "name": "psn_mypremeclean",
         "orientation": "v",
         "showlegend": true,
         "text": [
          1.16,
          1.95,
          1.35
         ],
         "textposition": "bottom right",
         "type": "scatter",
         "x": [
          "2021-11-16T00:00:00",
          "2021-11-17T00:00:00",
          "2021-11-18T00:00:00"
         ],
         "xaxis": "x2",
         "y": [
          1.1635647088736334,
          1.9477078533026115,
          1.352980352980353
         ],
         "yaxis": "y2"
        }
       ],
       "layout": {
        "font": {
         "color": "grey",
         "family": "sans-serif"
        },
        "height": 600,
        "legend": {
         "title": {
          "font": {
           "color": "grey"
          }
         }
        },
        "paper_bgcolor": "#E9F2F1",
        "plot_bgcolor": "rgba(0,0,0,0)",
        "shapes": [
         {
          "line": {
           "color": "#00B551",
           "dash": "dash"
          },
          "opacity": 0.4,
          "type": "line",
          "x0": "2021-08-30T00:00:00",
          "x1": "2021-11-15T00:00:00",
          "xref": "x",
          "y0": 2.4,
          "y1": 2.4,
          "yref": "y"
         }
        ],
        "showlegend": false,
        "template": {
         "data": {
          "scatter": [
           {
            "type": "scatter"
           }
          ]
         }
        },
        "title": {
         "font": {
          "color": "black",
          "family": "sans-serif",
          "size": 20
         },
         "text": "<b>True Kills Per Death Performance by Player, Last 60/21 Days</b>"
        },
        "width": 2000,
        "xaxis": {
         "anchor": "y",
         "domain": [
          0,
          0.45
         ]
        },
        "xaxis2": {
         "anchor": "y2",
         "domain": [
          0.55,
          1
         ]
        },
        "yaxis": {
         "anchor": "x",
         "domain": [
          0,
          1
         ]
        },
        "yaxis2": {
         "anchor": "x2",
         "domain": [
          0,
          1
         ]
        }
       }
      }
     },
     "metadata": {},
     "output_type": "display_data"
    },
    {
     "name": "stdout",
     "output_type": "stream",
     "text": [
      "Metric: Kills Per Min\n",
      "Top 1% 2.4 |   Top 5% 1.6 |   Top 10% 1.3 |  \n",
      "Current Leaderboard: \n",
      "  Average Performance    |     Peak Performance    \n",
      "==================================================\n",
      "1 | GotYourBach  | 1.06  | 1 | GotYourBach  | 2.17 \n",
      "2 | MissNemisis  | 1.02  | 2 | SloshySole   | 1.89 \n",
      "3 | SloshySole   | 0.96  | 3 | MissNemisis  | 1.75 \n",
      "4 | mypremeclean | 0.81  | 4 | mypremeclean | 1.56 \n",
      "5 | drumcon11    |  0.3  | 5 | drumcon11    | 0.61 \n"
     ]
    },
    {
     "data": {
      "application/vnd.plotly.v1+json": {
       "config": {
        "plotlyServerURL": "https://plot.ly"
       },
       "data": [
        {
         "hovertemplate": "player_id=psn_GotYourBach<br>week=%{x}<br>kills_per_min=%{y}<br>text=%{text}<extra></extra>",
         "legendgroup": "psn_GotYourBach",
         "line": {
          "color": "#0B6872",
          "dash": "solid",
          "width": 4
         },
         "marker": {
          "symbol": "circle"
         },
         "mode": "lines+markers+text",
         "name": "psn_GotYourBach",
         "orientation": "v",
         "showlegend": true,
         "text": [
          1.06,
          1.21,
          1.17,
          0.77,
          0.78,
          0.94,
          1.04,
          0.85,
          0.91,
          1.06
         ],
         "textposition": "bottom right",
         "type": "scatter",
         "x": [
          "2021-08-30T00:00:00",
          "2021-09-06T00:00:00",
          "2021-09-13T00:00:00",
          "2021-09-20T00:00:00",
          "2021-09-27T00:00:00",
          "2021-10-04T00:00:00",
          "2021-10-25T00:00:00",
          "2021-11-01T00:00:00",
          "2021-11-08T00:00:00",
          "2021-11-15T00:00:00"
         ],
         "xaxis": "x",
         "y": [
          1.0614285714285714,
          1.2111111111111112,
          1.1716666666666666,
          0.7742857142857142,
          0.7828571428571428,
          0.9414285714285714,
          1.04,
          0.8525,
          0.9144444444444445,
          1.05625
         ],
         "yaxis": "y"
        },
        {
         "hovertemplate": "player_id=psn_MissNemisis<br>week=%{x}<br>kills_per_min=%{y}<br>text=%{text}<extra></extra>",
         "legendgroup": "psn_MissNemisis",
         "line": {
          "color": "#00D3BC",
          "dash": "solid",
          "width": 4
         },
         "marker": {
          "symbol": "circle"
         },
         "mode": "lines+markers+text",
         "name": "psn_MissNemisis",
         "orientation": "v",
         "showlegend": true,
         "text": [
          1.23,
          0.72,
          0.83,
          0.77,
          0.9,
          0.93,
          0.81,
          0.76,
          1.08,
          1.02
         ],
         "textposition": "bottom right",
         "type": "scatter",
         "x": [
          "2021-08-30T00:00:00",
          "2021-09-06T00:00:00",
          "2021-09-13T00:00:00",
          "2021-09-20T00:00:00",
          "2021-09-27T00:00:00",
          "2021-10-04T00:00:00",
          "2021-10-25T00:00:00",
          "2021-11-01T00:00:00",
          "2021-11-08T00:00:00",
          "2021-11-15T00:00:00"
         ],
         "xaxis": "x",
         "y": [
          1.2328571428571429,
          0.7233333333333333,
          0.8266666666666667,
          0.7714285714285715,
          0.8957142857142857,
          0.9261538461538462,
          0.8133333333333334,
          0.7641666666666667,
          1.0777777777777777,
          1.0225
         ],
         "yaxis": "y"
        },
        {
         "hovertemplate": "player_id=psn_SloshySole<br>week=%{x}<br>kills_per_min=%{y}<br>text=%{text}<extra></extra>",
         "legendgroup": "psn_SloshySole",
         "line": {
          "color": "#040404",
          "dash": "solid",
          "width": 4
         },
         "marker": {
          "symbol": "circle"
         },
         "mode": "lines+markers+text",
         "name": "psn_SloshySole",
         "orientation": "v",
         "showlegend": true,
         "text": [
          0.86,
          0.67,
          0.84,
          0.95,
          0.81,
          0.89,
          0.96,
          0.83,
          0.88,
          0.82,
          0.75,
          0.96
         ],
         "textposition": "bottom right",
         "type": "scatter",
         "x": [
          "2021-08-30T00:00:00",
          "2021-09-06T00:00:00",
          "2021-09-13T00:00:00",
          "2021-09-20T00:00:00",
          "2021-09-27T00:00:00",
          "2021-10-04T00:00:00",
          "2021-10-11T00:00:00",
          "2021-10-18T00:00:00",
          "2021-10-25T00:00:00",
          "2021-11-01T00:00:00",
          "2021-11-08T00:00:00",
          "2021-11-15T00:00:00"
         ],
         "xaxis": "x",
         "y": [
          0.8557142857142858,
          0.6655555555555556,
          0.8380000000000001,
          0.9485714285714285,
          0.8071428571428572,
          0.891,
          0.9552631578947368,
          0.8253333333333334,
          0.8847058823529411,
          0.8229411764705883,
          0.7496296296296295,
          0.956551724137931
         ],
         "yaxis": "y"
        },
        {
         "hovertemplate": "player_id=psn_drumcon11<br>week=%{x}<br>kills_per_min=%{y}<br>text=%{text}<extra></extra>",
         "legendgroup": "psn_drumcon11",
         "line": {
          "color": "#F4E9C3",
          "dash": "solid",
          "width": 4
         },
         "marker": {
          "symbol": "circle"
         },
         "mode": "lines+markers+text",
         "name": "psn_drumcon11",
         "orientation": "v",
         "showlegend": true,
         "text": [
          0.23,
          0.33,
          0.43,
          0.34,
          0.27,
          0.28,
          0.27,
          0.26,
          0.3
         ],
         "textposition": "bottom right",
         "type": "scatter",
         "x": [
          "2021-09-06T00:00:00",
          "2021-09-20T00:00:00",
          "2021-10-04T00:00:00",
          "2021-10-11T00:00:00",
          "2021-10-18T00:00:00",
          "2021-10-25T00:00:00",
          "2021-11-01T00:00:00",
          "2021-11-08T00:00:00",
          "2021-11-15T00:00:00"
         ],
         "xaxis": "x",
         "y": [
          0.2333333333333333,
          0.332,
          0.426,
          0.3425,
          0.2676923076923077,
          0.2753846153846154,
          0.26866666666666666,
          0.25529411764705884,
          0.3028571428571429
         ],
         "yaxis": "y"
        },
        {
         "hovertemplate": "player_id=psn_mypremeclean<br>week=%{x}<br>kills_per_min=%{y}<br>text=%{text}<extra></extra>",
         "legendgroup": "psn_mypremeclean",
         "line": {
          "color": "#EF8B79",
          "dash": "solid",
          "width": 4
         },
         "marker": {
          "symbol": "circle"
         },
         "mode": "lines+markers+text",
         "name": "psn_mypremeclean",
         "orientation": "v",
         "showlegend": true,
         "text": [
          0.7,
          0.75,
          0.73,
          0.75,
          0.73,
          0.81
         ],
         "textposition": "bottom right",
         "type": "scatter",
         "x": [
          "2021-10-04T00:00:00",
          "2021-10-11T00:00:00",
          "2021-10-18T00:00:00",
          "2021-10-25T00:00:00",
          "2021-11-01T00:00:00",
          "2021-11-15T00:00:00"
         ],
         "xaxis": "x",
         "y": [
          0.6985714285714285,
          0.7526315789473684,
          0.7333333333333333,
          0.75,
          0.7291666666666666,
          0.8136363636363636
         ],
         "yaxis": "y"
        },
        {
         "hovertemplate": "player_id=psn_GotYourBach<br>day=%{x}<br>kills_per_min=%{y}<br>text=%{text}<extra></extra>",
         "legendgroup": "psn_GotYourBach",
         "line": {
          "color": "#0B6872",
          "dash": "solid",
          "width": 4
         },
         "marker": {
          "symbol": "circle"
         },
         "mode": "lines+markers+text",
         "name": "psn_GotYourBach",
         "orientation": "v",
         "showlegend": true,
         "text": [
          0.8,
          0.88,
          1.02,
          0.96,
          1.15
         ],
         "textposition": "bottom right",
         "type": "scatter",
         "x": [
          "2021-11-10T00:00:00",
          "2021-11-11T00:00:00",
          "2021-11-14T00:00:00",
          "2021-11-17T00:00:00",
          "2021-11-18T00:00:00"
         ],
         "xaxis": "x2",
         "y": [
          0.80125,
          0.87875,
          1.0227272727272727,
          0.96125,
          1.15125
         ],
         "yaxis": "y2"
        },
        {
         "hovertemplate": "player_id=psn_MissNemisis<br>day=%{x}<br>kills_per_min=%{y}<br>text=%{text}<extra></extra>",
         "legendgroup": "psn_MissNemisis",
         "line": {
          "color": "#00D3BC",
          "dash": "solid",
          "width": 4
         },
         "marker": {
          "symbol": "circle"
         },
         "mode": "lines+markers+text",
         "name": "psn_MissNemisis",
         "orientation": "v",
         "showlegend": true,
         "text": [
          1.05,
          0.89,
          1.23,
          1.09,
          0.95
         ],
         "textposition": "bottom right",
         "type": "scatter",
         "x": [
          "2021-11-10T00:00:00",
          "2021-11-11T00:00:00",
          "2021-11-14T00:00:00",
          "2021-11-17T00:00:00",
          "2021-11-18T00:00:00"
         ],
         "xaxis": "x2",
         "y": [
          1.0525,
          0.89,
          1.2327272727272727,
          1.09125,
          0.9537500000000001
         ],
         "yaxis": "y2"
        },
        {
         "hovertemplate": "player_id=psn_SloshySole<br>day=%{x}<br>kills_per_min=%{y}<br>text=%{text}<extra></extra>",
         "legendgroup": "psn_SloshySole",
         "line": {
          "color": "#040404",
          "dash": "solid",
          "width": 4
         },
         "marker": {
          "symbol": "circle"
         },
         "mode": "lines+markers+text",
         "name": "psn_SloshySole",
         "orientation": "v",
         "showlegend": true,
         "text": [
          0.69,
          0.72,
          0.81,
          1.14,
          0.98,
          0.89,
          0.84
         ],
         "textposition": "bottom right",
         "type": "scatter",
         "x": [
          "2021-11-10T00:00:00",
          "2021-11-11T00:00:00",
          "2021-11-14T00:00:00",
          "2021-11-15T00:00:00",
          "2021-11-16T00:00:00",
          "2021-11-17T00:00:00",
          "2021-11-18T00:00:00"
         ],
         "xaxis": "x2",
         "y": [
          0.69,
          0.72125,
          0.8136363636363636,
          1.1428571428571428,
          0.985,
          0.8875000000000001,
          0.8412499999999999
         ],
         "yaxis": "y2"
        },
        {
         "hovertemplate": "player_id=psn_drumcon11<br>day=%{x}<br>kills_per_min=%{y}<br>text=%{text}<extra></extra>",
         "legendgroup": "psn_drumcon11",
         "line": {
          "color": "#F4E9C3",
          "dash": "solid",
          "width": 4
         },
         "marker": {
          "symbol": "circle"
         },
         "mode": "lines+markers+text",
         "name": "psn_drumcon11",
         "orientation": "v",
         "showlegend": true,
         "text": [
          0.34,
          0.21,
          0.15,
          0.3
         ],
         "textposition": "bottom right",
         "type": "scatter",
         "x": [
          "2021-11-10T00:00:00",
          "2021-11-11T00:00:00",
          "2021-11-14T00:00:00",
          "2021-11-15T00:00:00"
         ],
         "xaxis": "x2",
         "y": [
          0.34125,
          0.20600000000000002,
          0.14500000000000002,
          0.3028571428571429
         ],
         "yaxis": "y2"
        },
        {
         "hovertemplate": "player_id=psn_mypremeclean<br>day=%{x}<br>kills_per_min=%{y}<br>text=%{text}<extra></extra>",
         "legendgroup": "psn_mypremeclean",
         "line": {
          "color": "#EF8B79",
          "dash": "solid",
          "width": 4
         },
         "marker": {
          "symbol": "circle"
         },
         "mode": "lines+markers+text",
         "name": "psn_mypremeclean",
         "orientation": "v",
         "showlegend": true,
         "text": [
          0.83,
          0.74,
          0.88
         ],
         "textposition": "bottom right",
         "type": "scatter",
         "x": [
          "2021-11-16T00:00:00",
          "2021-11-17T00:00:00",
          "2021-11-18T00:00:00"
         ],
         "xaxis": "x2",
         "y": [
          0.8300000000000001,
          0.73875,
          0.87625
         ],
         "yaxis": "y2"
        }
       ],
       "layout": {
        "font": {
         "color": "grey",
         "family": "sans-serif"
        },
        "height": 600,
        "legend": {
         "title": {
          "font": {
           "color": "grey"
          }
         }
        },
        "paper_bgcolor": "#E9F2F1",
        "plot_bgcolor": "rgba(0,0,0,0)",
        "shapes": [
         {
          "line": {
           "color": "#00B551",
           "dash": "dash"
          },
          "opacity": 0.4,
          "type": "line",
          "x0": "2021-08-30T00:00:00",
          "x1": "2021-11-15T00:00:00",
          "xref": "x",
          "y0": 1.3,
          "y1": 1.3,
          "yref": "y"
         }
        ],
        "showlegend": false,
        "template": {
         "data": {
          "scatter": [
           {
            "type": "scatter"
           }
          ]
         }
        },
        "title": {
         "font": {
          "color": "black",
          "family": "sans-serif",
          "size": 20
         },
         "text": "<b>Kills Per Min Performance by Player, Last 60/21 Days</b>"
        },
        "width": 2000,
        "xaxis": {
         "anchor": "y",
         "domain": [
          0,
          0.45
         ]
        },
        "xaxis2": {
         "anchor": "y2",
         "domain": [
          0.55,
          1
         ]
        },
        "yaxis": {
         "anchor": "x",
         "domain": [
          0,
          1
         ]
        },
        "yaxis2": {
         "anchor": "x2",
         "domain": [
          0,
          1
         ]
        }
       }
      }
     },
     "metadata": {},
     "output_type": "display_data"
    },
    {
     "name": "stdout",
     "output_type": "stream",
     "text": [
      "Metric: Solider Damages\n",
      "Top 1% 5606.0 | Top 5% 3739.0 | Top 10% 2968.0 | \n",
      "Current Leaderboard: \n",
      "  Average Performance    |     Peak Performance    \n",
      "==================================================\n",
      "1 | MissNemisis  | 2132.19 | 1 | MissNemisis  | 4621 \n",
      "2 | GotYourBach  | 2025.88 | 2 | mypremeclean | 4566 \n",
      "3 | SloshySole   | 1806.28 | 3 | GotYourBach  | 4346 \n",
      "4 | mypremeclean | 1799.91 | 4 | SloshySole   | 3996 \n",
      "5 | drumcon11    | 526.57 | 5 | drumcon11    | 1157 \n"
     ]
    },
    {
     "data": {
      "application/vnd.plotly.v1+json": {
       "config": {
        "plotlyServerURL": "https://plot.ly"
       },
       "data": [
        {
         "hovertemplate": "player_id=psn_GotYourBach<br>week=%{x}<br>solider_damages=%{y}<br>text=%{text}<extra></extra>",
         "legendgroup": "psn_GotYourBach",
         "line": {
          "color": "#0B6872",
          "dash": "solid",
          "width": 4
         },
         "marker": {
          "symbol": "circle"
         },
         "mode": "lines+markers+text",
         "name": "psn_GotYourBach",
         "orientation": "v",
         "showlegend": true,
         "text": [
          2371.86,
          2087.67,
          2890.5,
          2149.29,
          1833.43,
          1654.71,
          1951.44,
          2409.83,
          1844.78,
          2025.88
         ],
         "textposition": "bottom right",
         "type": "scatter",
         "x": [
          "2021-08-30T00:00:00",
          "2021-09-06T00:00:00",
          "2021-09-13T00:00:00",
          "2021-09-20T00:00:00",
          "2021-09-27T00:00:00",
          "2021-10-04T00:00:00",
          "2021-10-25T00:00:00",
          "2021-11-01T00:00:00",
          "2021-11-08T00:00:00",
          "2021-11-15T00:00:00"
         ],
         "xaxis": "x",
         "y": [
          2371.8571428571427,
          2087.6666666666665,
          2890.5,
          2149.285714285714,
          1833.4285714285713,
          1654.7142857142858,
          1951.4444444444443,
          2409.8333333333335,
          1844.7777777777778,
          2025.875
         ],
         "yaxis": "y"
        },
        {
         "hovertemplate": "player_id=psn_MissNemisis<br>week=%{x}<br>solider_damages=%{y}<br>text=%{text}<extra></extra>",
         "legendgroup": "psn_MissNemisis",
         "line": {
          "color": "#00D3BC",
          "dash": "solid",
          "width": 4
         },
         "marker": {
          "symbol": "circle"
         },
         "mode": "lines+markers+text",
         "name": "psn_MissNemisis",
         "orientation": "v",
         "showlegend": true,
         "text": [
          2348.43,
          1571.56,
          2298.67,
          2152.86,
          2195.29,
          1601.08,
          1739.89,
          2207.67,
          1990.04,
          2132.19
         ],
         "textposition": "bottom right",
         "type": "scatter",
         "x": [
          "2021-08-30T00:00:00",
          "2021-09-06T00:00:00",
          "2021-09-13T00:00:00",
          "2021-09-20T00:00:00",
          "2021-09-27T00:00:00",
          "2021-10-04T00:00:00",
          "2021-10-25T00:00:00",
          "2021-11-01T00:00:00",
          "2021-11-08T00:00:00",
          "2021-11-15T00:00:00"
         ],
         "xaxis": "x",
         "y": [
          2348.4285714285716,
          1571.5555555555557,
          2298.6666666666665,
          2152.8571428571427,
          2195.285714285714,
          1601.076923076923,
          1739.888888888889,
          2207.6666666666665,
          1990.037037037037,
          2132.1875
         ],
         "yaxis": "y"
        },
        {
         "hovertemplate": "player_id=psn_SloshySole<br>week=%{x}<br>solider_damages=%{y}<br>text=%{text}<extra></extra>",
         "legendgroup": "psn_SloshySole",
         "line": {
          "color": "#040404",
          "dash": "solid",
          "width": 4
         },
         "marker": {
          "symbol": "circle"
         },
         "mode": "lines+markers+text",
         "name": "psn_SloshySole",
         "orientation": "v",
         "showlegend": true,
         "text": [
          1883.43,
          1377.78,
          2408.6,
          2356.43,
          1935.43,
          1843.95,
          2955.58,
          2423.73,
          2525.41,
          2179.53,
          1568.74,
          1806.28
         ],
         "textposition": "bottom right",
         "type": "scatter",
         "x": [
          "2021-08-30T00:00:00",
          "2021-09-06T00:00:00",
          "2021-09-13T00:00:00",
          "2021-09-20T00:00:00",
          "2021-09-27T00:00:00",
          "2021-10-04T00:00:00",
          "2021-10-11T00:00:00",
          "2021-10-18T00:00:00",
          "2021-10-25T00:00:00",
          "2021-11-01T00:00:00",
          "2021-11-08T00:00:00",
          "2021-11-15T00:00:00"
         ],
         "xaxis": "x",
         "y": [
          1883.4285714285713,
          1377.7777777777778,
          2408.6,
          2356.4285714285716,
          1935.4285714285713,
          1843.95,
          2955.5789473684213,
          2423.733333333333,
          2525.4117647058824,
          2179.529411764706,
          1568.7407407407406,
          1806.2758620689656
         ],
         "yaxis": "y"
        },
        {
         "hovertemplate": "player_id=psn_drumcon11<br>week=%{x}<br>solider_damages=%{y}<br>text=%{text}<extra></extra>",
         "legendgroup": "psn_drumcon11",
         "line": {
          "color": "#F4E9C3",
          "dash": "solid",
          "width": 4
         },
         "marker": {
          "symbol": "circle"
         },
         "mode": "lines+markers+text",
         "name": "psn_drumcon11",
         "orientation": "v",
         "showlegend": true,
         "text": [
          672.33,
          755.2,
          704.8,
          1275.5,
          776.38,
          637.54,
          813.07,
          542,
          526.57
         ],
         "textposition": "bottom right",
         "type": "scatter",
         "x": [
          "2021-09-06T00:00:00",
          "2021-09-20T00:00:00",
          "2021-10-04T00:00:00",
          "2021-10-11T00:00:00",
          "2021-10-18T00:00:00",
          "2021-10-25T00:00:00",
          "2021-11-01T00:00:00",
          "2021-11-08T00:00:00",
          "2021-11-15T00:00:00"
         ],
         "xaxis": "x",
         "y": [
          672.3333333333334,
          755.2,
          704.8,
          1275.5,
          776.3846153846154,
          637.5384615384615,
          813.0666666666667,
          542,
          526.5714285714286
         ],
         "yaxis": "y"
        },
        {
         "hovertemplate": "player_id=psn_mypremeclean<br>week=%{x}<br>solider_damages=%{y}<br>text=%{text}<extra></extra>",
         "legendgroup": "psn_mypremeclean",
         "line": {
          "color": "#EF8B79",
          "dash": "solid",
          "width": 4
         },
         "marker": {
          "symbol": "circle"
         },
         "mode": "lines+markers+text",
         "name": "psn_mypremeclean",
         "orientation": "v",
         "showlegend": true,
         "text": [
          2280,
          2542.74,
          1878.67,
          2418.12,
          1882.75,
          1799.91
         ],
         "textposition": "bottom right",
         "type": "scatter",
         "x": [
          "2021-10-04T00:00:00",
          "2021-10-11T00:00:00",
          "2021-10-18T00:00:00",
          "2021-10-25T00:00:00",
          "2021-11-01T00:00:00",
          "2021-11-15T00:00:00"
         ],
         "xaxis": "x",
         "y": [
          2280,
          2542.7368421052633,
          1878.6666666666667,
          2418.125,
          1882.75,
          1799.909090909091
         ],
         "yaxis": "y"
        },
        {
         "hovertemplate": "player_id=psn_GotYourBach<br>day=%{x}<br>solider_damages=%{y}<br>text=%{text}<extra></extra>",
         "legendgroup": "psn_GotYourBach",
         "line": {
          "color": "#0B6872",
          "dash": "solid",
          "width": 4
         },
         "marker": {
          "symbol": "circle"
         },
         "mode": "lines+markers+text",
         "name": "psn_GotYourBach",
         "orientation": "v",
         "showlegend": true,
         "text": [
          1966.75,
          1778.38,
          1804.36,
          2065.88,
          1985.88
         ],
         "textposition": "bottom right",
         "type": "scatter",
         "x": [
          "2021-11-10T00:00:00",
          "2021-11-11T00:00:00",
          "2021-11-14T00:00:00",
          "2021-11-17T00:00:00",
          "2021-11-18T00:00:00"
         ],
         "xaxis": "x2",
         "y": [
          1966.75,
          1778.375,
          1804.3636363636363,
          2065.875,
          1985.875
         ],
         "yaxis": "y2"
        },
        {
         "hovertemplate": "player_id=psn_MissNemisis<br>day=%{x}<br>solider_damages=%{y}<br>text=%{text}<extra></extra>",
         "legendgroup": "psn_MissNemisis",
         "line": {
          "color": "#00D3BC",
          "dash": "solid",
          "width": 4
         },
         "marker": {
          "symbol": "circle"
         },
         "mode": "lines+markers+text",
         "name": "psn_MissNemisis",
         "orientation": "v",
         "showlegend": true,
         "text": [
          2260,
          1879.5,
          1874.09,
          2363.5,
          1900.88
         ],
         "textposition": "bottom right",
         "type": "scatter",
         "x": [
          "2021-11-10T00:00:00",
          "2021-11-11T00:00:00",
          "2021-11-14T00:00:00",
          "2021-11-17T00:00:00",
          "2021-11-18T00:00:00"
         ],
         "xaxis": "x2",
         "y": [
          2260,
          1879.5,
          1874.090909090909,
          2363.5,
          1900.875
         ],
         "yaxis": "y2"
        },
        {
         "hovertemplate": "player_id=psn_SloshySole<br>day=%{x}<br>solider_damages=%{y}<br>text=%{text}<extra></extra>",
         "legendgroup": "psn_SloshySole",
         "line": {
          "color": "#040404",
          "dash": "solid",
          "width": 4
         },
         "marker": {
          "symbol": "circle"
         },
         "mode": "lines+markers+text",
         "name": "psn_SloshySole",
         "orientation": "v",
         "showlegend": true,
         "text": [
          1550.5,
          1616.75,
          1547.09,
          1893.57,
          2023.17,
          1917,
          1456.5
         ],
         "textposition": "bottom right",
         "type": "scatter",
         "x": [
          "2021-11-10T00:00:00",
          "2021-11-11T00:00:00",
          "2021-11-14T00:00:00",
          "2021-11-15T00:00:00",
          "2021-11-16T00:00:00",
          "2021-11-17T00:00:00",
          "2021-11-18T00:00:00"
         ],
         "xaxis": "x2",
         "y": [
          1550.5,
          1616.75,
          1547.090909090909,
          1893.5714285714287,
          2023.1666666666667,
          1917,
          1456.5
         ],
         "yaxis": "y2"
        },
        {
         "hovertemplate": "player_id=psn_drumcon11<br>day=%{x}<br>solider_damages=%{y}<br>text=%{text}<extra></extra>",
         "legendgroup": "psn_drumcon11",
         "line": {
          "color": "#F4E9C3",
          "dash": "solid",
          "width": 4
         },
         "marker": {
          "symbol": "circle"
         },
         "mode": "lines+markers+text",
         "name": "psn_drumcon11",
         "orientation": "v",
         "showlegend": true,
         "text": [
          672.25,
          583.4,
          229.75,
          526.57
         ],
         "textposition": "bottom right",
         "type": "scatter",
         "x": [
          "2021-11-10T00:00:00",
          "2021-11-11T00:00:00",
          "2021-11-14T00:00:00",
          "2021-11-15T00:00:00"
         ],
         "xaxis": "x2",
         "y": [
          672.25,
          583.4,
          229.75,
          526.5714285714286
         ],
         "yaxis": "y2"
        },
        {
         "hovertemplate": "player_id=psn_mypremeclean<br>day=%{x}<br>solider_damages=%{y}<br>text=%{text}<extra></extra>",
         "legendgroup": "psn_mypremeclean",
         "line": {
          "color": "#EF8B79",
          "dash": "solid",
          "width": 4
         },
         "marker": {
          "symbol": "circle"
         },
         "mode": "lines+markers+text",
         "name": "psn_mypremeclean",
         "orientation": "v",
         "showlegend": true,
         "text": [
          1579.5,
          1956.38,
          1808.75
         ],
         "textposition": "bottom right",
         "type": "scatter",
         "x": [
          "2021-11-16T00:00:00",
          "2021-11-17T00:00:00",
          "2021-11-18T00:00:00"
         ],
         "xaxis": "x2",
         "y": [
          1579.5,
          1956.375,
          1808.75
         ],
         "yaxis": "y2"
        }
       ],
       "layout": {
        "font": {
         "color": "grey",
         "family": "sans-serif"
        },
        "height": 600,
        "legend": {
         "title": {
          "font": {
           "color": "grey"
          }
         }
        },
        "paper_bgcolor": "#E9F2F1",
        "plot_bgcolor": "rgba(0,0,0,0)",
        "shapes": [
         {
          "line": {
           "color": "#00B551",
           "dash": "dash"
          },
          "opacity": 0.4,
          "type": "line",
          "x0": "2021-08-30T00:00:00",
          "x1": "2021-11-15T00:00:00",
          "xref": "x",
          "y0": 2968,
          "y1": 2968,
          "yref": "y"
         }
        ],
        "showlegend": false,
        "template": {
         "data": {
          "scatter": [
           {
            "type": "scatter"
           }
          ]
         }
        },
        "title": {
         "font": {
          "color": "black",
          "family": "sans-serif",
          "size": 20
         },
         "text": "<b>Solider Damages Performance by Player, Last 60/21 Days</b>"
        },
        "width": 2000,
        "xaxis": {
         "anchor": "y",
         "domain": [
          0,
          0.45
         ]
        },
        "xaxis2": {
         "anchor": "y2",
         "domain": [
          0.55,
          1
         ]
        },
        "yaxis": {
         "anchor": "x",
         "domain": [
          0,
          1
         ]
        },
        "yaxis2": {
         "anchor": "x2",
         "domain": [
          0,
          1
         ]
        }
       }
      }
     },
     "metadata": {},
     "output_type": "display_data"
    },
    {
     "name": "stdout",
     "output_type": "stream",
     "text": [
      "Metric: Shots Taken\n",
      "Top 1% 2252.0 | Top 5% 1248.0 | Top 10% 928.0 | \n",
      "Current Leaderboard: \n",
      "  Average Performance    |     Peak Performance    \n",
      "==================================================\n",
      "1 | MissNemisis  | 527.62 | 1 | SloshySole   | 1105 \n",
      "2 | SloshySole   | 481.34 | 2 | MissNemisis  | 1032 \n",
      "3 | GotYourBach  | 420.56 | 3 | GotYourBach  |  806 \n",
      "4 | drumcon11    | 275.86 | 4 | mypremeclean |  480 \n",
      "5 | mypremeclean | 166.95 | 5 | drumcon11    |  465 \n"
     ]
    },
    {
     "data": {
      "application/vnd.plotly.v1+json": {
       "config": {
        "plotlyServerURL": "https://plot.ly"
       },
       "data": [
        {
         "hovertemplate": "player_id=psn_GotYourBach<br>week=%{x}<br>shots_taken=%{y}<br>text=%{text}<extra></extra>",
         "legendgroup": "psn_GotYourBach",
         "line": {
          "color": "#0B6872",
          "dash": "solid",
          "width": 4
         },
         "marker": {
          "symbol": "circle"
         },
         "mode": "lines+markers+text",
         "name": "psn_GotYourBach",
         "orientation": "v",
         "showlegend": true,
         "text": [
          451.43,
          436,
          588.67,
          449.29,
          433.43,
          399.57,
          423.78,
          433.67,
          453.33,
          420.56
         ],
         "textposition": "bottom right",
         "type": "scatter",
         "x": [
          "2021-08-30T00:00:00",
          "2021-09-06T00:00:00",
          "2021-09-13T00:00:00",
          "2021-09-20T00:00:00",
          "2021-09-27T00:00:00",
          "2021-10-04T00:00:00",
          "2021-10-25T00:00:00",
          "2021-11-01T00:00:00",
          "2021-11-08T00:00:00",
          "2021-11-15T00:00:00"
         ],
         "xaxis": "x",
         "y": [
          451.42857142857144,
          436,
          588.6666666666666,
          449.2857142857143,
          433.42857142857144,
          399.57142857142856,
          423.77777777777777,
          433.6666666666667,
          453.3333333333333,
          420.5625
         ],
         "yaxis": "y"
        },
        {
         "hovertemplate": "player_id=psn_MissNemisis<br>week=%{x}<br>shots_taken=%{y}<br>text=%{text}<extra></extra>",
         "legendgroup": "psn_MissNemisis",
         "line": {
          "color": "#00D3BC",
          "dash": "solid",
          "width": 4
         },
         "marker": {
          "symbol": "circle"
         },
         "mode": "lines+markers+text",
         "name": "psn_MissNemisis",
         "orientation": "v",
         "showlegend": true,
         "text": [
          580.71,
          395.67,
          613.33,
          562.29,
          577.86,
          415,
          454.67,
          591,
          431.41,
          527.62
         ],
         "textposition": "bottom right",
         "type": "scatter",
         "x": [
          "2021-08-30T00:00:00",
          "2021-09-06T00:00:00",
          "2021-09-13T00:00:00",
          "2021-09-20T00:00:00",
          "2021-09-27T00:00:00",
          "2021-10-04T00:00:00",
          "2021-10-25T00:00:00",
          "2021-11-01T00:00:00",
          "2021-11-08T00:00:00",
          "2021-11-15T00:00:00"
         ],
         "xaxis": "x",
         "y": [
          580.7142857142857,
          395.6666666666667,
          613.3333333333334,
          562.2857142857143,
          577.8571428571429,
          415,
          454.6666666666667,
          591,
          431.4074074074074,
          527.625
         ],
         "yaxis": "y"
        },
        {
         "hovertemplate": "player_id=psn_SloshySole<br>week=%{x}<br>shots_taken=%{y}<br>text=%{text}<extra></extra>",
         "legendgroup": "psn_SloshySole",
         "line": {
          "color": "#040404",
          "dash": "solid",
          "width": 4
         },
         "marker": {
          "symbol": "circle"
         },
         "mode": "lines+markers+text",
         "name": "psn_SloshySole",
         "orientation": "v",
         "showlegend": true,
         "text": [
          568,
          396.11,
          822,
          713.86,
          653.43,
          502.6,
          770.05,
          615.73,
          635.53,
          645.59,
          452.11,
          481.34
         ],
         "textposition": "bottom right",
         "type": "scatter",
         "x": [
          "2021-08-30T00:00:00",
          "2021-09-06T00:00:00",
          "2021-09-13T00:00:00",
          "2021-09-20T00:00:00",
          "2021-09-27T00:00:00",
          "2021-10-04T00:00:00",
          "2021-10-11T00:00:00",
          "2021-10-18T00:00:00",
          "2021-10-25T00:00:00",
          "2021-11-01T00:00:00",
          "2021-11-08T00:00:00",
          "2021-11-15T00:00:00"
         ],
         "xaxis": "x",
         "y": [
          568,
          396.1111111111111,
          822,
          713.8571428571429,
          653.4285714285714,
          502.6,
          770.0526315789474,
          615.7333333333333,
          635.5294117647059,
          645.5882352941177,
          452.1111111111111,
          481.3448275862069
         ],
         "yaxis": "y"
        },
        {
         "hovertemplate": "player_id=psn_drumcon11<br>week=%{x}<br>shots_taken=%{y}<br>text=%{text}<extra></extra>",
         "legendgroup": "psn_drumcon11",
         "line": {
          "color": "#F4E9C3",
          "dash": "solid",
          "width": 4
         },
         "marker": {
          "symbol": "circle"
         },
         "mode": "lines+markers+text",
         "name": "psn_drumcon11",
         "orientation": "v",
         "showlegend": true,
         "text": [
          327.67,
          362.2,
          329.8,
          678.5,
          441.54,
          461.46,
          468.2,
          320.94,
          275.86
         ],
         "textposition": "bottom right",
         "type": "scatter",
         "x": [
          "2021-09-06T00:00:00",
          "2021-09-20T00:00:00",
          "2021-10-04T00:00:00",
          "2021-10-11T00:00:00",
          "2021-10-18T00:00:00",
          "2021-10-25T00:00:00",
          "2021-11-01T00:00:00",
          "2021-11-08T00:00:00",
          "2021-11-15T00:00:00"
         ],
         "xaxis": "x",
         "y": [
          327.6666666666667,
          362.2,
          329.8,
          678.5,
          441.53846153846155,
          461.46153846153845,
          468.2,
          320.94117647058823,
          275.85714285714283
         ],
         "yaxis": "y"
        },
        {
         "hovertemplate": "player_id=psn_mypremeclean<br>week=%{x}<br>shots_taken=%{y}<br>text=%{text}<extra></extra>",
         "legendgroup": "psn_mypremeclean",
         "line": {
          "color": "#EF8B79",
          "dash": "solid",
          "width": 4
         },
         "marker": {
          "symbol": "circle"
         },
         "mode": "lines+markers+text",
         "name": "psn_mypremeclean",
         "orientation": "v",
         "showlegend": true,
         "text": [
          218.43,
          229.74,
          229.8,
          346,
          320.17,
          166.95
         ],
         "textposition": "bottom right",
         "type": "scatter",
         "x": [
          "2021-10-04T00:00:00",
          "2021-10-11T00:00:00",
          "2021-10-18T00:00:00",
          "2021-10-25T00:00:00",
          "2021-11-01T00:00:00",
          "2021-11-15T00:00:00"
         ],
         "xaxis": "x",
         "y": [
          218.42857142857142,
          229.73684210526315,
          229.8,
          346,
          320.1666666666667,
          166.95454545454547
         ],
         "yaxis": "y"
        },
        {
         "hovertemplate": "player_id=psn_GotYourBach<br>day=%{x}<br>shots_taken=%{y}<br>text=%{text}<extra></extra>",
         "legendgroup": "psn_GotYourBach",
         "line": {
          "color": "#0B6872",
          "dash": "solid",
          "width": 4
         },
         "marker": {
          "symbol": "circle"
         },
         "mode": "lines+markers+text",
         "name": "psn_GotYourBach",
         "orientation": "v",
         "showlegend": true,
         "text": [
          504,
          419.88,
          440.82,
          361.25,
          479.88
         ],
         "textposition": "bottom right",
         "type": "scatter",
         "x": [
          "2021-11-10T00:00:00",
          "2021-11-11T00:00:00",
          "2021-11-14T00:00:00",
          "2021-11-17T00:00:00",
          "2021-11-18T00:00:00"
         ],
         "xaxis": "x2",
         "y": [
          504,
          419.875,
          440.8181818181818,
          361.25,
          479.875
         ],
         "yaxis": "y2"
        },
        {
         "hovertemplate": "player_id=psn_MissNemisis<br>day=%{x}<br>shots_taken=%{y}<br>text=%{text}<extra></extra>",
         "legendgroup": "psn_MissNemisis",
         "line": {
          "color": "#00D3BC",
          "dash": "solid",
          "width": 4
         },
         "marker": {
          "symbol": "circle"
         },
         "mode": "lines+markers+text",
         "name": "psn_MissNemisis",
         "orientation": "v",
         "showlegend": true,
         "text": [
          471,
          435.88,
          399.36,
          562.25,
          493
         ],
         "textposition": "bottom right",
         "type": "scatter",
         "x": [
          "2021-11-10T00:00:00",
          "2021-11-11T00:00:00",
          "2021-11-14T00:00:00",
          "2021-11-17T00:00:00",
          "2021-11-18T00:00:00"
         ],
         "xaxis": "x2",
         "y": [
          471,
          435.875,
          399.3636363636364,
          562.25,
          493
         ],
         "yaxis": "y2"
        },
        {
         "hovertemplate": "player_id=psn_SloshySole<br>day=%{x}<br>shots_taken=%{y}<br>text=%{text}<extra></extra>",
         "legendgroup": "psn_SloshySole",
         "line": {
          "color": "#040404",
          "dash": "solid",
          "width": 4
         },
         "marker": {
          "symbol": "circle"
         },
         "mode": "lines+markers+text",
         "name": "psn_SloshySole",
         "orientation": "v",
         "showlegend": true,
         "text": [
          471.62,
          462.38,
          430.45,
          451,
          466.33,
          574.62,
          425.88
         ],
         "textposition": "bottom right",
         "type": "scatter",
         "x": [
          "2021-11-10T00:00:00",
          "2021-11-11T00:00:00",
          "2021-11-14T00:00:00",
          "2021-11-15T00:00:00",
          "2021-11-16T00:00:00",
          "2021-11-17T00:00:00",
          "2021-11-18T00:00:00"
         ],
         "xaxis": "x2",
         "y": [
          471.625,
          462.375,
          430.45454545454544,
          451,
          466.3333333333333,
          574.625,
          425.875
         ],
         "yaxis": "y2"
        },
        {
         "hovertemplate": "player_id=psn_drumcon11<br>day=%{x}<br>shots_taken=%{y}<br>text=%{text}<extra></extra>",
         "legendgroup": "psn_drumcon11",
         "line": {
          "color": "#F4E9C3",
          "dash": "solid",
          "width": 4
         },
         "marker": {
          "symbol": "circle"
         },
         "mode": "lines+markers+text",
         "name": "psn_drumcon11",
         "orientation": "v",
         "showlegend": true,
         "text": [
          397.38,
          347.8,
          134.5,
          275.86
         ],
         "textposition": "bottom right",
         "type": "scatter",
         "x": [
          "2021-11-10T00:00:00",
          "2021-11-11T00:00:00",
          "2021-11-14T00:00:00",
          "2021-11-15T00:00:00"
         ],
         "xaxis": "x2",
         "y": [
          397.375,
          347.8,
          134.5,
          275.85714285714283
         ],
         "yaxis": "y2"
        },
        {
         "hovertemplate": "player_id=psn_mypremeclean<br>day=%{x}<br>shots_taken=%{y}<br>text=%{text}<extra></extra>",
         "legendgroup": "psn_mypremeclean",
         "line": {
          "color": "#EF8B79",
          "dash": "solid",
          "width": 4
         },
         "marker": {
          "symbol": "circle"
         },
         "mode": "lines+markers+text",
         "name": "psn_mypremeclean",
         "orientation": "v",
         "showlegend": true,
         "text": [
          161.5,
          185.88,
          152.12
         ],
         "textposition": "bottom right",
         "type": "scatter",
         "x": [
          "2021-11-16T00:00:00",
          "2021-11-17T00:00:00",
          "2021-11-18T00:00:00"
         ],
         "xaxis": "x2",
         "y": [
          161.5,
          185.875,
          152.125
         ],
         "yaxis": "y2"
        }
       ],
       "layout": {
        "font": {
         "color": "grey",
         "family": "sans-serif"
        },
        "height": 600,
        "legend": {
         "title": {
          "font": {
           "color": "grey"
          }
         }
        },
        "paper_bgcolor": "#E9F2F1",
        "plot_bgcolor": "rgba(0,0,0,0)",
        "shapes": [
         {
          "line": {
           "color": "#00B551",
           "dash": "dash"
          },
          "opacity": 0.4,
          "type": "line",
          "x0": "2021-08-30T00:00:00",
          "x1": "2021-11-15T00:00:00",
          "xref": "x",
          "y0": 928,
          "y1": 928,
          "yref": "y"
         }
        ],
        "showlegend": false,
        "template": {
         "data": {
          "scatter": [
           {
            "type": "scatter"
           }
          ]
         }
        },
        "title": {
         "font": {
          "color": "black",
          "family": "sans-serif",
          "size": 20
         },
         "text": "<b>Shots Taken Performance by Player, Last 60/21 Days</b>"
        },
        "width": 2000,
        "xaxis": {
         "anchor": "y",
         "domain": [
          0,
          0.45
         ]
        },
        "xaxis2": {
         "anchor": "y2",
         "domain": [
          0.55,
          1
         ]
        },
        "yaxis": {
         "anchor": "x",
         "domain": [
          0,
          1
         ]
        },
        "yaxis2": {
         "anchor": "x2",
         "domain": [
          0,
          1
         ]
        }
       }
      }
     },
     "metadata": {},
     "output_type": "display_data"
    },
    {
     "name": "stdout",
     "output_type": "stream",
     "text": [
      "Metric: Shots Hit\n",
      "Top 1% 252.0 | Top 5% 156.0 | Top 10% 120.0 | \n",
      "Current Leaderboard: \n",
      "  Average Performance    |     Peak Performance    \n",
      "==================================================\n",
      "1 | MissNemisis  | 100.69 | 1 | MissNemisis  |  202 \n",
      "2 | GotYourBach  | 82.0  | 2 | SloshySole   |  175 \n",
      "3 | SloshySole   | 81.79 | 3 | GotYourBach  |  144 \n",
      "4 | mypremeclean | 42.45 | 4 | mypremeclean |  103 \n",
      "5 | drumcon11    | 28.57 | 5 | drumcon11    |  64  \n"
     ]
    },
    {
     "data": {
      "application/vnd.plotly.v1+json": {
       "config": {
        "plotlyServerURL": "https://plot.ly"
       },
       "data": [
        {
         "hovertemplate": "player_id=psn_GotYourBach<br>week=%{x}<br>shots_hit=%{y}<br>text=%{text}<extra></extra>",
         "legendgroup": "psn_GotYourBach",
         "line": {
          "color": "#0B6872",
          "dash": "solid",
          "width": 4
         },
         "marker": {
          "symbol": "circle"
         },
         "mode": "lines+markers+text",
         "name": "psn_GotYourBach",
         "orientation": "v",
         "showlegend": true,
         "text": [
          88.57,
          87.22,
          116,
          77.57,
          75.29,
          80.43,
          80.89,
          86.33,
          76.89,
          82
         ],
         "textposition": "bottom right",
         "type": "scatter",
         "x": [
          "2021-08-30T00:00:00",
          "2021-09-06T00:00:00",
          "2021-09-13T00:00:00",
          "2021-09-20T00:00:00",
          "2021-09-27T00:00:00",
          "2021-10-04T00:00:00",
          "2021-10-25T00:00:00",
          "2021-11-01T00:00:00",
          "2021-11-08T00:00:00",
          "2021-11-15T00:00:00"
         ],
         "xaxis": "x",
         "y": [
          88.57142857142857,
          87.22222222222223,
          116,
          77.57142857142857,
          75.28571428571429,
          80.42857142857143,
          80.88888888888889,
          86.33333333333333,
          76.88888888888889,
          82
         ],
         "yaxis": "y"
        },
        {
         "hovertemplate": "player_id=psn_MissNemisis<br>week=%{x}<br>shots_hit=%{y}<br>text=%{text}<extra></extra>",
         "legendgroup": "psn_MissNemisis",
         "line": {
          "color": "#00D3BC",
          "dash": "solid",
          "width": 4
         },
         "marker": {
          "symbol": "circle"
         },
         "mode": "lines+markers+text",
         "name": "psn_MissNemisis",
         "orientation": "v",
         "showlegend": true,
         "text": [
          105.14,
          74.56,
          111.67,
          104.57,
          100.71,
          74.08,
          81.56,
          105,
          89.81,
          100.69
         ],
         "textposition": "bottom right",
         "type": "scatter",
         "x": [
          "2021-08-30T00:00:00",
          "2021-09-06T00:00:00",
          "2021-09-13T00:00:00",
          "2021-09-20T00:00:00",
          "2021-09-27T00:00:00",
          "2021-10-04T00:00:00",
          "2021-10-25T00:00:00",
          "2021-11-01T00:00:00",
          "2021-11-08T00:00:00",
          "2021-11-15T00:00:00"
         ],
         "xaxis": "x",
         "y": [
          105.14285714285714,
          74.55555555555556,
          111.66666666666667,
          104.57142857142857,
          100.71428571428571,
          74.07692307692308,
          81.55555555555556,
          105,
          89.81481481481481,
          100.6875
         ],
         "yaxis": "y"
        },
        {
         "hovertemplate": "player_id=psn_SloshySole<br>week=%{x}<br>shots_hit=%{y}<br>text=%{text}<extra></extra>",
         "legendgroup": "psn_SloshySole",
         "line": {
          "color": "#040404",
          "dash": "solid",
          "width": 4
         },
         "marker": {
          "symbol": "circle"
         },
         "mode": "lines+markers+text",
         "name": "psn_SloshySole",
         "orientation": "v",
         "showlegend": true,
         "text": [
          97.57,
          71,
          118.8,
          107.71,
          96.29,
          82.75,
          134.53,
          108.6,
          110.59,
          101.47,
          68.96,
          81.79
         ],
         "textposition": "bottom right",
         "type": "scatter",
         "x": [
          "2021-08-30T00:00:00",
          "2021-09-06T00:00:00",
          "2021-09-13T00:00:00",
          "2021-09-20T00:00:00",
          "2021-09-27T00:00:00",
          "2021-10-04T00:00:00",
          "2021-10-11T00:00:00",
          "2021-10-18T00:00:00",
          "2021-10-25T00:00:00",
          "2021-11-01T00:00:00",
          "2021-11-08T00:00:00",
          "2021-11-15T00:00:00"
         ],
         "xaxis": "x",
         "y": [
          97.57142857142857,
          71,
          118.8,
          107.71428571428571,
          96.28571428571429,
          82.75,
          134.52631578947367,
          108.6,
          110.58823529411765,
          101.47058823529412,
          68.96296296296296,
          81.79310344827586
         ],
         "yaxis": "y"
        },
        {
         "hovertemplate": "player_id=psn_drumcon11<br>week=%{x}<br>shots_hit=%{y}<br>text=%{text}<extra></extra>",
         "legendgroup": "psn_drumcon11",
         "line": {
          "color": "#F4E9C3",
          "dash": "solid",
          "width": 4
         },
         "marker": {
          "symbol": "circle"
         },
         "mode": "lines+markers+text",
         "name": "psn_drumcon11",
         "orientation": "v",
         "showlegend": true,
         "text": [
          33,
          39.4,
          39.8,
          67.5,
          41.08,
          36.38,
          44.87,
          27.06,
          28.57
         ],
         "textposition": "bottom right",
         "type": "scatter",
         "x": [
          "2021-09-06T00:00:00",
          "2021-09-20T00:00:00",
          "2021-10-04T00:00:00",
          "2021-10-11T00:00:00",
          "2021-10-18T00:00:00",
          "2021-10-25T00:00:00",
          "2021-11-01T00:00:00",
          "2021-11-08T00:00:00",
          "2021-11-15T00:00:00"
         ],
         "xaxis": "x",
         "y": [
          33,
          39.4,
          39.8,
          67.5,
          41.07692307692308,
          36.38461538461539,
          44.86666666666667,
          27.058823529411764,
          28.571428571428573
         ],
         "yaxis": "y"
        },
        {
         "hovertemplate": "player_id=psn_mypremeclean<br>week=%{x}<br>shots_hit=%{y}<br>text=%{text}<extra></extra>",
         "legendgroup": "psn_mypremeclean",
         "line": {
          "color": "#EF8B79",
          "dash": "solid",
          "width": 4
         },
         "marker": {
          "symbol": "circle"
         },
         "mode": "lines+markers+text",
         "name": "psn_mypremeclean",
         "orientation": "v",
         "showlegend": true,
         "text": [
          50.14,
          61.84,
          54.07,
          69.88,
          52.75,
          42.45
         ],
         "textposition": "bottom right",
         "type": "scatter",
         "x": [
          "2021-10-04T00:00:00",
          "2021-10-11T00:00:00",
          "2021-10-18T00:00:00",
          "2021-10-25T00:00:00",
          "2021-11-01T00:00:00",
          "2021-11-15T00:00:00"
         ],
         "xaxis": "x",
         "y": [
          50.142857142857146,
          61.8421052631579,
          54.06666666666667,
          69.875,
          52.75,
          42.45454545454545
         ],
         "yaxis": "y"
        },
        {
         "hovertemplate": "player_id=psn_GotYourBach<br>day=%{x}<br>shots_hit=%{y}<br>text=%{text}<extra></extra>",
         "legendgroup": "psn_GotYourBach",
         "line": {
          "color": "#0B6872",
          "dash": "solid",
          "width": 4
         },
         "marker": {
          "symbol": "circle"
         },
         "mode": "lines+markers+text",
         "name": "psn_GotYourBach",
         "orientation": "v",
         "showlegend": true,
         "text": [
          80.38,
          73,
          77.18,
          74.75,
          89.25
         ],
         "textposition": "bottom right",
         "type": "scatter",
         "x": [
          "2021-11-10T00:00:00",
          "2021-11-11T00:00:00",
          "2021-11-14T00:00:00",
          "2021-11-17T00:00:00",
          "2021-11-18T00:00:00"
         ],
         "xaxis": "x2",
         "y": [
          80.375,
          73,
          77.18181818181819,
          74.75,
          89.25
         ],
         "yaxis": "y2"
        },
        {
         "hovertemplate": "player_id=psn_MissNemisis<br>day=%{x}<br>shots_hit=%{y}<br>text=%{text}<extra></extra>",
         "legendgroup": "psn_MissNemisis",
         "line": {
          "color": "#00D3BC",
          "dash": "solid",
          "width": 4
         },
         "marker": {
          "symbol": "circle"
         },
         "mode": "lines+markers+text",
         "name": "psn_MissNemisis",
         "orientation": "v",
         "showlegend": true,
         "text": [
          97.62,
          84.75,
          87.82,
          110.12,
          91.25
         ],
         "textposition": "bottom right",
         "type": "scatter",
         "x": [
          "2021-11-10T00:00:00",
          "2021-11-11T00:00:00",
          "2021-11-14T00:00:00",
          "2021-11-17T00:00:00",
          "2021-11-18T00:00:00"
         ],
         "xaxis": "x2",
         "y": [
          97.625,
          84.75,
          87.81818181818181,
          110.125,
          91.25
         ],
         "yaxis": "y2"
        },
        {
         "hovertemplate": "player_id=psn_SloshySole<br>day=%{x}<br>shots_hit=%{y}<br>text=%{text}<extra></extra>",
         "legendgroup": "psn_SloshySole",
         "line": {
          "color": "#040404",
          "dash": "solid",
          "width": 4
         },
         "marker": {
          "symbol": "circle"
         },
         "mode": "lines+markers+text",
         "name": "psn_SloshySole",
         "orientation": "v",
         "showlegend": true,
         "text": [
          67.88,
          72.5,
          67.18,
          83,
          91.83,
          85.88,
          69.12
         ],
         "textposition": "bottom right",
         "type": "scatter",
         "x": [
          "2021-11-10T00:00:00",
          "2021-11-11T00:00:00",
          "2021-11-14T00:00:00",
          "2021-11-15T00:00:00",
          "2021-11-16T00:00:00",
          "2021-11-17T00:00:00",
          "2021-11-18T00:00:00"
         ],
         "xaxis": "x2",
         "y": [
          67.875,
          72.5,
          67.18181818181819,
          83,
          91.83333333333333,
          85.875,
          69.125
         ],
         "yaxis": "y2"
        },
        {
         "hovertemplate": "player_id=psn_drumcon11<br>day=%{x}<br>shots_hit=%{y}<br>text=%{text}<extra></extra>",
         "legendgroup": "psn_drumcon11",
         "line": {
          "color": "#F4E9C3",
          "dash": "solid",
          "width": 4
         },
         "marker": {
          "symbol": "circle"
         },
         "mode": "lines+markers+text",
         "name": "psn_drumcon11",
         "orientation": "v",
         "showlegend": true,
         "text": [
          34.25,
          28.8,
          10.5,
          28.57
         ],
         "textposition": "bottom right",
         "type": "scatter",
         "x": [
          "2021-11-10T00:00:00",
          "2021-11-11T00:00:00",
          "2021-11-14T00:00:00",
          "2021-11-15T00:00:00"
         ],
         "xaxis": "x2",
         "y": [
          34.25,
          28.8,
          10.5,
          28.571428571428573
         ],
         "yaxis": "y2"
        },
        {
         "hovertemplate": "player_id=psn_mypremeclean<br>day=%{x}<br>shots_hit=%{y}<br>text=%{text}<extra></extra>",
         "legendgroup": "psn_mypremeclean",
         "line": {
          "color": "#EF8B79",
          "dash": "solid",
          "width": 4
         },
         "marker": {
          "symbol": "circle"
         },
         "mode": "lines+markers+text",
         "name": "psn_mypremeclean",
         "orientation": "v",
         "showlegend": true,
         "text": [
          40.17,
          45.88,
          40.75
         ],
         "textposition": "bottom right",
         "type": "scatter",
         "x": [
          "2021-11-16T00:00:00",
          "2021-11-17T00:00:00",
          "2021-11-18T00:00:00"
         ],
         "xaxis": "x2",
         "y": [
          40.166666666666664,
          45.875,
          40.75
         ],
         "yaxis": "y2"
        }
       ],
       "layout": {
        "font": {
         "color": "grey",
         "family": "sans-serif"
        },
        "height": 600,
        "legend": {
         "title": {
          "font": {
           "color": "grey"
          }
         }
        },
        "paper_bgcolor": "#E9F2F1",
        "plot_bgcolor": "rgba(0,0,0,0)",
        "shapes": [
         {
          "line": {
           "color": "#00B551",
           "dash": "dash"
          },
          "opacity": 0.4,
          "type": "line",
          "x0": "2021-08-30T00:00:00",
          "x1": "2021-11-15T00:00:00",
          "xref": "x",
          "y0": 120,
          "y1": 120,
          "yref": "y"
         }
        ],
        "showlegend": false,
        "template": {
         "data": {
          "scatter": [
           {
            "type": "scatter"
           }
          ]
         }
        },
        "title": {
         "font": {
          "color": "black",
          "family": "sans-serif",
          "size": 20
         },
         "text": "<b>Shots Hit Performance by Player, Last 60/21 Days</b>"
        },
        "width": 2000,
        "xaxis": {
         "anchor": "y",
         "domain": [
          0,
          0.45
         ]
        },
        "xaxis2": {
         "anchor": "y2",
         "domain": [
          0.55,
          1
         ]
        },
        "yaxis": {
         "anchor": "x",
         "domain": [
          0,
          1
         ]
        },
        "yaxis2": {
         "anchor": "x2",
         "domain": [
          0,
          1
         ]
        }
       }
      }
     },
     "metadata": {},
     "output_type": "display_data"
    },
    {
     "name": "stdout",
     "output_type": "stream",
     "text": [
      "Metric: Shot Accuracy\n",
      "Top 1% 0.7 |   Top 5% 0.4 |   Top 10% 0.3 |  \n",
      "Current Leaderboard: \n",
      "  Average Performance    |     Peak Performance    \n",
      "==================================================\n",
      "1 | mypremeclean | 0.33  | 1 | mypremeclean | 0.67 \n",
      "2 | GotYourBach  |  0.2  | 2 | GotYourBach  | 0.31 \n",
      "3 | MissNemisis  |  0.2  | 3 | MissNemisis  | 0.28 \n",
      "4 | SloshySole   | 0.16  | 4 | SloshySole   | 0.23 \n",
      "5 | drumcon11    |  0.1  | 5 | drumcon11    | 0.14 \n"
     ]
    },
    {
     "data": {
      "application/vnd.plotly.v1+json": {
       "config": {
        "plotlyServerURL": "https://plot.ly"
       },
       "data": [
        {
         "hovertemplate": "player_id=psn_GotYourBach<br>week=%{x}<br>shot_accuracy=%{y}<br>text=%{text}<extra></extra>",
         "legendgroup": "psn_GotYourBach",
         "line": {
          "color": "#0B6872",
          "dash": "solid",
          "width": 4
         },
         "marker": {
          "symbol": "circle"
         },
         "mode": "lines+markers+text",
         "name": "psn_GotYourBach",
         "orientation": "v",
         "showlegend": true,
         "text": [
          0.22,
          0.18,
          0.2,
          0.18,
          0.22,
          0.18,
          0.21,
          0.21,
          0.17,
          0.2
         ],
         "textposition": "bottom right",
         "type": "scatter",
         "x": [
          "2021-08-30T00:00:00",
          "2021-09-06T00:00:00",
          "2021-09-13T00:00:00",
          "2021-09-20T00:00:00",
          "2021-09-27T00:00:00",
          "2021-10-04T00:00:00",
          "2021-10-25T00:00:00",
          "2021-11-01T00:00:00",
          "2021-11-08T00:00:00",
          "2021-11-15T00:00:00"
         ],
         "xaxis": "x",
         "y": [
          0.22042857142857142,
          0.17955555555555558,
          0.20033333333333334,
          0.1824285714285714,
          0.2174285714285714,
          0.18407142857142858,
          0.20800000000000002,
          0.2051666666666667,
          0.16677777777777777,
          0.203625
         ],
         "yaxis": "y"
        },
        {
         "hovertemplate": "player_id=psn_MissNemisis<br>week=%{x}<br>shot_accuracy=%{y}<br>text=%{text}<extra></extra>",
         "legendgroup": "psn_MissNemisis",
         "line": {
          "color": "#00D3BC",
          "dash": "solid",
          "width": 4
         },
         "marker": {
          "symbol": "circle"
         },
         "mode": "lines+markers+text",
         "name": "psn_MissNemisis",
         "orientation": "v",
         "showlegend": true,
         "text": [
          0.18,
          0.17,
          0.18,
          0.18,
          0.18,
          0.16,
          0.18,
          0.17,
          0.21,
          0.2
         ],
         "textposition": "bottom right",
         "type": "scatter",
         "x": [
          "2021-08-30T00:00:00",
          "2021-09-06T00:00:00",
          "2021-09-13T00:00:00",
          "2021-09-20T00:00:00",
          "2021-09-27T00:00:00",
          "2021-10-04T00:00:00",
          "2021-10-25T00:00:00",
          "2021-11-01T00:00:00",
          "2021-11-08T00:00:00",
          "2021-11-15T00:00:00"
         ],
         "xaxis": "x",
         "y": [
          0.18257142857142858,
          0.1661111111111111,
          0.18233333333333335,
          0.18285714285714286,
          0.17957142857142855,
          0.15569230769230769,
          0.18266666666666667,
          0.17466666666666666,
          0.21488888888888888,
          0.1988125
         ],
         "yaxis": "y"
        },
        {
         "hovertemplate": "player_id=psn_SloshySole<br>week=%{x}<br>shot_accuracy=%{y}<br>text=%{text}<extra></extra>",
         "legendgroup": "psn_SloshySole",
         "line": {
          "color": "#040404",
          "dash": "solid",
          "width": 4
         },
         "marker": {
          "symbol": "circle"
         },
         "mode": "lines+markers+text",
         "name": "psn_SloshySole",
         "orientation": "v",
         "showlegend": true,
         "text": [
          0.17,
          0.15,
          0.15,
          0.15,
          0.15,
          0.15,
          0.17,
          0.17,
          0.17,
          0.15,
          0.15,
          0.16
         ],
         "textposition": "bottom right",
         "type": "scatter",
         "x": [
          "2021-08-30T00:00:00",
          "2021-09-06T00:00:00",
          "2021-09-13T00:00:00",
          "2021-09-20T00:00:00",
          "2021-09-27T00:00:00",
          "2021-10-04T00:00:00",
          "2021-10-11T00:00:00",
          "2021-10-18T00:00:00",
          "2021-10-25T00:00:00",
          "2021-11-01T00:00:00",
          "2021-11-08T00:00:00",
          "2021-11-15T00:00:00"
         ],
         "xaxis": "x",
         "y": [
          0.16942857142857143,
          0.15433333333333332,
          0.1462,
          0.14985714285714286,
          0.14714285714285716,
          0.1508,
          0.16631578947368422,
          0.1668,
          0.1701176470588235,
          0.1532941176470588,
          0.14762962962962964,
          0.16324137931034483
         ],
         "yaxis": "y"
        },
        {
         "hovertemplate": "player_id=psn_drumcon11<br>week=%{x}<br>shot_accuracy=%{y}<br>text=%{text}<extra></extra>",
         "legendgroup": "psn_drumcon11",
         "line": {
          "color": "#F4E9C3",
          "dash": "solid",
          "width": 4
         },
         "marker": {
          "symbol": "circle"
         },
         "mode": "lines+markers+text",
         "name": "psn_drumcon11",
         "orientation": "v",
         "showlegend": true,
         "text": [
          0.1,
          0.12,
          0.11,
          0.1,
          0.08,
          0.08,
          0.1,
          0.08,
          0.1
         ],
         "textposition": "bottom right",
         "type": "scatter",
         "x": [
          "2021-09-06T00:00:00",
          "2021-09-20T00:00:00",
          "2021-10-04T00:00:00",
          "2021-10-11T00:00:00",
          "2021-10-18T00:00:00",
          "2021-10-25T00:00:00",
          "2021-11-01T00:00:00",
          "2021-11-08T00:00:00",
          "2021-11-15T00:00:00"
         ],
         "xaxis": "x",
         "y": [
          0.09966666666666667,
          0.11600000000000002,
          0.1062,
          0.097,
          0.07823076923076923,
          0.07653846153846154,
          0.0992,
          0.07823529411764707,
          0.09899999999999999
         ],
         "yaxis": "y"
        },
        {
         "hovertemplate": "player_id=psn_mypremeclean<br>week=%{x}<br>shot_accuracy=%{y}<br>text=%{text}<extra></extra>",
         "legendgroup": "psn_mypremeclean",
         "line": {
          "color": "#EF8B79",
          "dash": "solid",
          "width": 4
         },
         "marker": {
          "symbol": "circle"
         },
         "mode": "lines+markers+text",
         "name": "psn_mypremeclean",
         "orientation": "v",
         "showlegend": true,
         "text": [
          0.33,
          0.31,
          0.3,
          0.24,
          0.26,
          0.33
         ],
         "textposition": "bottom right",
         "type": "scatter",
         "x": [
          "2021-10-04T00:00:00",
          "2021-10-11T00:00:00",
          "2021-10-18T00:00:00",
          "2021-10-25T00:00:00",
          "2021-11-01T00:00:00",
          "2021-11-15T00:00:00"
         ],
         "xaxis": "x",
         "y": [
          0.3258571428571428,
          0.3086842105263158,
          0.29786666666666667,
          0.235625,
          0.25516666666666665,
          0.32822727272727276
         ],
         "yaxis": "y"
        },
        {
         "hovertemplate": "player_id=psn_GotYourBach<br>day=%{x}<br>shot_accuracy=%{y}<br>text=%{text}<extra></extra>",
         "legendgroup": "psn_GotYourBach",
         "line": {
          "color": "#0B6872",
          "dash": "solid",
          "width": 4
         },
         "marker": {
          "symbol": "circle"
         },
         "mode": "lines+markers+text",
         "name": "psn_GotYourBach",
         "orientation": "v",
         "showlegend": true,
         "text": [
          0.17,
          0.17,
          0.16,
          0.21,
          0.2
         ],
         "textposition": "bottom right",
         "type": "scatter",
         "x": [
          "2021-11-10T00:00:00",
          "2021-11-11T00:00:00",
          "2021-11-14T00:00:00",
          "2021-11-17T00:00:00",
          "2021-11-18T00:00:00"
         ],
         "xaxis": "x2",
         "y": [
          0.16775,
          0.17124999999999999,
          0.1628181818181818,
          0.211,
          0.19625
         ],
         "yaxis": "y2"
        },
        {
         "hovertemplate": "player_id=psn_MissNemisis<br>day=%{x}<br>shot_accuracy=%{y}<br>text=%{text}<extra></extra>",
         "legendgroup": "psn_MissNemisis",
         "line": {
          "color": "#00D3BC",
          "dash": "solid",
          "width": 4
         },
         "marker": {
          "symbol": "circle"
         },
         "mode": "lines+markers+text",
         "name": "psn_MissNemisis",
         "orientation": "v",
         "showlegend": true,
         "text": [
          0.21,
          0.19,
          0.24,
          0.2,
          0.2
         ],
         "textposition": "bottom right",
         "type": "scatter",
         "x": [
          "2021-11-10T00:00:00",
          "2021-11-11T00:00:00",
          "2021-11-14T00:00:00",
          "2021-11-17T00:00:00",
          "2021-11-18T00:00:00"
         ],
         "xaxis": "x2",
         "y": [
          0.205625,
          0.19225,
          0.2380909090909091,
          0.200625,
          0.197
         ],
         "yaxis": "y2"
        },
        {
         "hovertemplate": "player_id=psn_SloshySole<br>day=%{x}<br>shot_accuracy=%{y}<br>text=%{text}<extra></extra>",
         "legendgroup": "psn_SloshySole",
         "line": {
          "color": "#040404",
          "dash": "solid",
          "width": 4
         },
         "marker": {
          "symbol": "circle"
         },
         "mode": "lines+markers+text",
         "name": "psn_SloshySole",
         "orientation": "v",
         "showlegend": true,
         "text": [
          0.14,
          0.15,
          0.15,
          0.18,
          0.19,
          0.14,
          0.15
         ],
         "textposition": "bottom right",
         "type": "scatter",
         "x": [
          "2021-11-10T00:00:00",
          "2021-11-11T00:00:00",
          "2021-11-14T00:00:00",
          "2021-11-15T00:00:00",
          "2021-11-16T00:00:00",
          "2021-11-17T00:00:00",
          "2021-11-18T00:00:00"
         ],
         "xaxis": "x2",
         "y": [
          0.14450000000000002,
          0.14975,
          0.14836363636363636,
          0.181,
          0.18983333333333333,
          0.144625,
          0.146375
         ],
         "yaxis": "y2"
        },
        {
         "hovertemplate": "player_id=psn_drumcon11<br>day=%{x}<br>shot_accuracy=%{y}<br>text=%{text}<extra></extra>",
         "legendgroup": "psn_drumcon11",
         "line": {
          "color": "#F4E9C3",
          "dash": "solid",
          "width": 4
         },
         "marker": {
          "symbol": "circle"
         },
         "mode": "lines+markers+text",
         "name": "psn_drumcon11",
         "orientation": "v",
         "showlegend": true,
         "text": [
          0.09,
          0.09,
          0.05,
          0.1
         ],
         "textposition": "bottom right",
         "type": "scatter",
         "x": [
          "2021-11-10T00:00:00",
          "2021-11-11T00:00:00",
          "2021-11-14T00:00:00",
          "2021-11-15T00:00:00"
         ],
         "xaxis": "x2",
         "y": [
          0.0865,
          0.0856,
          0.05249999999999999,
          0.09899999999999999
         ],
         "yaxis": "y2"
        },
        {
         "hovertemplate": "player_id=psn_mypremeclean<br>day=%{x}<br>shot_accuracy=%{y}<br>text=%{text}<extra></extra>",
         "legendgroup": "psn_mypremeclean",
         "line": {
          "color": "#EF8B79",
          "dash": "solid",
          "width": 4
         },
         "marker": {
          "symbol": "circle"
         },
         "mode": "lines+markers+text",
         "name": "psn_mypremeclean",
         "orientation": "v",
         "showlegend": true,
         "text": [
          0.36,
          0.28,
          0.35
         ],
         "textposition": "bottom right",
         "type": "scatter",
         "x": [
          "2021-11-16T00:00:00",
          "2021-11-17T00:00:00",
          "2021-11-18T00:00:00"
         ],
         "xaxis": "x2",
         "y": [
          0.36366666666666664,
          0.27825,
          0.351625
         ],
         "yaxis": "y2"
        }
       ],
       "layout": {
        "font": {
         "color": "grey",
         "family": "sans-serif"
        },
        "height": 600,
        "legend": {
         "title": {
          "font": {
           "color": "grey"
          }
         }
        },
        "paper_bgcolor": "#E9F2F1",
        "plot_bgcolor": "rgba(0,0,0,0)",
        "shapes": [
         {
          "line": {
           "color": "#00B551",
           "dash": "dash"
          },
          "opacity": 0.4,
          "type": "line",
          "x0": "2021-08-30T00:00:00",
          "x1": "2021-11-15T00:00:00",
          "xref": "x",
          "y0": 0.3,
          "y1": 0.3,
          "yref": "y"
         }
        ],
        "showlegend": false,
        "template": {
         "data": {
          "scatter": [
           {
            "type": "scatter"
           }
          ]
         }
        },
        "title": {
         "font": {
          "color": "black",
          "family": "sans-serif",
          "size": 20
         },
         "text": "<b>Shot Accuracy Performance by Player, Last 60/21 Days</b>"
        },
        "width": 2000,
        "xaxis": {
         "anchor": "y",
         "domain": [
          0,
          0.45
         ]
        },
        "xaxis2": {
         "anchor": "y2",
         "domain": [
          0.55,
          1
         ]
        },
        "yaxis": {
         "anchor": "x",
         "domain": [
          0,
          1
         ]
        },
        "yaxis2": {
         "anchor": "x2",
         "domain": [
          0,
          1
         ]
        }
       }
      }
     },
     "metadata": {},
     "output_type": "display_data"
    },
    {
     "name": "stdout",
     "output_type": "stream",
     "text": [
      "Metric: Heals\n",
      "Top 1% 440.0 | Top 5% 179.0 | Top 10% 85.0 | \n",
      "Current Leaderboard: \n",
      "  Average Performance    |     Peak Performance    \n",
      "==================================================\n",
      "1 | SloshySole   | 168.97 | 1 | SloshySole   |  754 \n",
      "2 | drumcon11    | 102.57 | 2 | drumcon11    |  347 \n",
      "3 | GotYourBach  | 38.75 | 3 | GotYourBach  |  128 \n",
      "4 | MissNemisis  |  4.5  | 4 | MissNemisis  |  72  \n",
      "5 | mypremeclean |  0.0  | 5 | mypremeclean |   0  \n"
     ]
    },
    {
     "data": {
      "application/vnd.plotly.v1+json": {
       "config": {
        "plotlyServerURL": "https://plot.ly"
       },
       "data": [
        {
         "hovertemplate": "player_id=psn_GotYourBach<br>week=%{x}<br>heals=%{y}<br>text=%{text}<extra></extra>",
         "legendgroup": "psn_GotYourBach",
         "line": {
          "color": "#0B6872",
          "dash": "solid",
          "width": 4
         },
         "marker": {
          "symbol": "circle"
         },
         "mode": "lines+markers+text",
         "name": "psn_GotYourBach",
         "orientation": "v",
         "showlegend": true,
         "text": [
          180.29,
          80.33,
          163.33,
          131.86,
          147,
          78.71,
          126.11,
          57.08,
          131.59,
          38.75
         ],
         "textposition": "bottom right",
         "type": "scatter",
         "x": [
          "2021-08-30T00:00:00",
          "2021-09-06T00:00:00",
          "2021-09-13T00:00:00",
          "2021-09-20T00:00:00",
          "2021-09-27T00:00:00",
          "2021-10-04T00:00:00",
          "2021-10-25T00:00:00",
          "2021-11-01T00:00:00",
          "2021-11-08T00:00:00",
          "2021-11-15T00:00:00"
         ],
         "xaxis": "x",
         "y": [
          180.28571428571428,
          80.33333333333333,
          163.33333333333334,
          131.85714285714286,
          147,
          78.71428571428571,
          126.11111111111111,
          57.083333333333336,
          131.59259259259258,
          38.75
         ],
         "yaxis": "y"
        },
        {
         "hovertemplate": "player_id=psn_MissNemisis<br>week=%{x}<br>heals=%{y}<br>text=%{text}<extra></extra>",
         "legendgroup": "psn_MissNemisis",
         "line": {
          "color": "#00D3BC",
          "dash": "solid",
          "width": 4
         },
         "marker": {
          "symbol": "circle"
         },
         "mode": "lines+markers+text",
         "name": "psn_MissNemisis",
         "orientation": "v",
         "showlegend": true,
         "text": [
          0,
          0,
          0,
          0,
          0,
          0,
          0,
          0,
          0,
          4.5
         ],
         "textposition": "bottom right",
         "type": "scatter",
         "x": [
          "2021-08-30T00:00:00",
          "2021-09-06T00:00:00",
          "2021-09-13T00:00:00",
          "2021-09-20T00:00:00",
          "2021-09-27T00:00:00",
          "2021-10-04T00:00:00",
          "2021-10-25T00:00:00",
          "2021-11-01T00:00:00",
          "2021-11-08T00:00:00",
          "2021-11-15T00:00:00"
         ],
         "xaxis": "x",
         "y": [
          0,
          0,
          0,
          0,
          0,
          0,
          0,
          0,
          0,
          4.5
         ],
         "yaxis": "y"
        },
        {
         "hovertemplate": "player_id=psn_SloshySole<br>week=%{x}<br>heals=%{y}<br>text=%{text}<extra></extra>",
         "legendgroup": "psn_SloshySole",
         "line": {
          "color": "#040404",
          "dash": "solid",
          "width": 4
         },
         "marker": {
          "symbol": "circle"
         },
         "mode": "lines+markers+text",
         "name": "psn_SloshySole",
         "orientation": "v",
         "showlegend": true,
         "text": [
          172.86,
          48.11,
          129,
          83.86,
          103.43,
          104.15,
          151.68,
          133.13,
          207.35,
          177.24,
          93,
          168.97
         ],
         "textposition": "bottom right",
         "type": "scatter",
         "x": [
          "2021-08-30T00:00:00",
          "2021-09-06T00:00:00",
          "2021-09-13T00:00:00",
          "2021-09-20T00:00:00",
          "2021-09-27T00:00:00",
          "2021-10-04T00:00:00",
          "2021-10-11T00:00:00",
          "2021-10-18T00:00:00",
          "2021-10-25T00:00:00",
          "2021-11-01T00:00:00",
          "2021-11-08T00:00:00",
          "2021-11-15T00:00:00"
         ],
         "xaxis": "x",
         "y": [
          172.85714285714286,
          48.111111111111114,
          129,
          83.85714285714286,
          103.42857142857143,
          104.15,
          151.68421052631578,
          133.13333333333333,
          207.35294117647058,
          177.23529411764707,
          93,
          168.9655172413793
         ],
         "yaxis": "y"
        },
        {
         "hovertemplate": "player_id=psn_drumcon11<br>week=%{x}<br>heals=%{y}<br>text=%{text}<extra></extra>",
         "legendgroup": "psn_drumcon11",
         "line": {
          "color": "#F4E9C3",
          "dash": "solid",
          "width": 4
         },
         "marker": {
          "symbol": "circle"
         },
         "mode": "lines+markers+text",
         "name": "psn_drumcon11",
         "orientation": "v",
         "showlegend": true,
         "text": [
          0,
          0,
          0,
          0,
          39.46,
          140.15,
          206.13,
          184.88,
          102.57
         ],
         "textposition": "bottom right",
         "type": "scatter",
         "x": [
          "2021-09-06T00:00:00",
          "2021-09-20T00:00:00",
          "2021-10-04T00:00:00",
          "2021-10-11T00:00:00",
          "2021-10-18T00:00:00",
          "2021-10-25T00:00:00",
          "2021-11-01T00:00:00",
          "2021-11-08T00:00:00",
          "2021-11-15T00:00:00"
         ],
         "xaxis": "x",
         "y": [
          0,
          0,
          0,
          0,
          39.46153846153846,
          140.15384615384616,
          206.13333333333333,
          184.88235294117646,
          102.57142857142857
         ],
         "yaxis": "y"
        },
        {
         "hovertemplate": "player_id=psn_mypremeclean<br>week=%{x}<br>heals=%{y}<br>text=%{text}<extra></extra>",
         "legendgroup": "psn_mypremeclean",
         "line": {
          "color": "#EF8B79",
          "dash": "solid",
          "width": 4
         },
         "marker": {
          "symbol": "circle"
         },
         "mode": "lines+markers+text",
         "name": "psn_mypremeclean",
         "orientation": "v",
         "showlegend": true,
         "text": [
          28.86,
          49.79,
          57.13,
          87.38,
          0,
          0
         ],
         "textposition": "bottom right",
         "type": "scatter",
         "x": [
          "2021-10-04T00:00:00",
          "2021-10-11T00:00:00",
          "2021-10-18T00:00:00",
          "2021-10-25T00:00:00",
          "2021-11-01T00:00:00",
          "2021-11-15T00:00:00"
         ],
         "xaxis": "x",
         "y": [
          28.857142857142858,
          49.78947368421053,
          57.13333333333333,
          87.375,
          0,
          0
         ],
         "yaxis": "y"
        },
        {
         "hovertemplate": "player_id=psn_GotYourBach<br>day=%{x}<br>heals=%{y}<br>text=%{text}<extra></extra>",
         "legendgroup": "psn_GotYourBach",
         "line": {
          "color": "#0B6872",
          "dash": "solid",
          "width": 4
         },
         "marker": {
          "symbol": "circle"
         },
         "mode": "lines+markers+text",
         "name": "psn_GotYourBach",
         "orientation": "v",
         "showlegend": true,
         "text": [
          213.12,
          87.75,
          104.18,
          63.38,
          14.12
         ],
         "textposition": "bottom right",
         "type": "scatter",
         "x": [
          "2021-11-10T00:00:00",
          "2021-11-11T00:00:00",
          "2021-11-14T00:00:00",
          "2021-11-17T00:00:00",
          "2021-11-18T00:00:00"
         ],
         "xaxis": "x2",
         "y": [
          213.125,
          87.75,
          104.18181818181819,
          63.375,
          14.125
         ],
         "yaxis": "y2"
        },
        {
         "hovertemplate": "player_id=psn_MissNemisis<br>day=%{x}<br>heals=%{y}<br>text=%{text}<extra></extra>",
         "legendgroup": "psn_MissNemisis",
         "line": {
          "color": "#00D3BC",
          "dash": "solid",
          "width": 4
         },
         "marker": {
          "symbol": "circle"
         },
         "mode": "lines+markers+text",
         "name": "psn_MissNemisis",
         "orientation": "v",
         "showlegend": true,
         "text": [
          0,
          0,
          0,
          9,
          0
         ],
         "textposition": "bottom right",
         "type": "scatter",
         "x": [
          "2021-11-10T00:00:00",
          "2021-11-11T00:00:00",
          "2021-11-14T00:00:00",
          "2021-11-17T00:00:00",
          "2021-11-18T00:00:00"
         ],
         "xaxis": "x2",
         "y": [
          0,
          0,
          0,
          9,
          0
         ],
         "yaxis": "y2"
        },
        {
         "hovertemplate": "player_id=psn_SloshySole<br>day=%{x}<br>heals=%{y}<br>text=%{text}<extra></extra>",
         "legendgroup": "psn_SloshySole",
         "line": {
          "color": "#040404",
          "dash": "solid",
          "width": 4
         },
         "marker": {
          "symbol": "circle"
         },
         "mode": "lines+markers+text",
         "name": "psn_SloshySole",
         "orientation": "v",
         "showlegend": true,
         "text": [
          75.12,
          127.75,
          80.73,
          82.43,
          131.83,
          235.62,
          205.88
         ],
         "textposition": "bottom right",
         "type": "scatter",
         "x": [
          "2021-11-10T00:00:00",
          "2021-11-11T00:00:00",
          "2021-11-14T00:00:00",
          "2021-11-15T00:00:00",
          "2021-11-16T00:00:00",
          "2021-11-17T00:00:00",
          "2021-11-18T00:00:00"
         ],
         "xaxis": "x2",
         "y": [
          75.125,
          127.75,
          80.72727272727273,
          82.42857142857143,
          131.83333333333334,
          235.625,
          205.875
         ],
         "yaxis": "y2"
        },
        {
         "hovertemplate": "player_id=psn_drumcon11<br>day=%{x}<br>heals=%{y}<br>text=%{text}<extra></extra>",
         "legendgroup": "psn_drumcon11",
         "line": {
          "color": "#F4E9C3",
          "dash": "solid",
          "width": 4
         },
         "marker": {
          "symbol": "circle"
         },
         "mode": "lines+markers+text",
         "name": "psn_drumcon11",
         "orientation": "v",
         "showlegend": true,
         "text": [
          165.12,
          257.6,
          133.5,
          102.57
         ],
         "textposition": "bottom right",
         "type": "scatter",
         "x": [
          "2021-11-10T00:00:00",
          "2021-11-11T00:00:00",
          "2021-11-14T00:00:00",
          "2021-11-15T00:00:00"
         ],
         "xaxis": "x2",
         "y": [
          165.125,
          257.6,
          133.5,
          102.57142857142857
         ],
         "yaxis": "y2"
        },
        {
         "hovertemplate": "player_id=psn_mypremeclean<br>day=%{x}<br>heals=%{y}<br>text=%{text}<extra></extra>",
         "legendgroup": "psn_mypremeclean",
         "line": {
          "color": "#EF8B79",
          "dash": "solid",
          "width": 4
         },
         "marker": {
          "symbol": "circle"
         },
         "mode": "lines+markers+text",
         "name": "psn_mypremeclean",
         "orientation": "v",
         "showlegend": true,
         "text": [
          0,
          0,
          0
         ],
         "textposition": "bottom right",
         "type": "scatter",
         "x": [
          "2021-11-16T00:00:00",
          "2021-11-17T00:00:00",
          "2021-11-18T00:00:00"
         ],
         "xaxis": "x2",
         "y": [
          0,
          0,
          0
         ],
         "yaxis": "y2"
        }
       ],
       "layout": {
        "font": {
         "color": "grey",
         "family": "sans-serif"
        },
        "height": 600,
        "legend": {
         "title": {
          "font": {
           "color": "grey"
          }
         }
        },
        "paper_bgcolor": "#E9F2F1",
        "plot_bgcolor": "rgba(0,0,0,0)",
        "shapes": [
         {
          "line": {
           "color": "#00B551",
           "dash": "dash"
          },
          "opacity": 0.4,
          "type": "line",
          "x0": "2021-08-30T00:00:00",
          "x1": "2021-11-15T00:00:00",
          "xref": "x",
          "y0": 85,
          "y1": 85,
          "yref": "y"
         }
        ],
        "showlegend": false,
        "template": {
         "data": {
          "scatter": [
           {
            "type": "scatter"
           }
          ]
         }
        },
        "title": {
         "font": {
          "color": "black",
          "family": "sans-serif",
          "size": 20
         },
         "text": "<b>Heals Performance by Player, Last 60/21 Days</b>"
        },
        "width": 2000,
        "xaxis": {
         "anchor": "y",
         "domain": [
          0,
          0.45
         ]
        },
        "xaxis2": {
         "anchor": "y2",
         "domain": [
          0.55,
          1
         ]
        },
        "yaxis": {
         "anchor": "x",
         "domain": [
          0,
          1
         ]
        },
        "yaxis2": {
         "anchor": "x2",
         "domain": [
          0,
          1
         ]
        }
       }
      }
     },
     "metadata": {},
     "output_type": "display_data"
    },
    {
     "name": "stdout",
     "output_type": "stream",
     "text": [
      "Metric: Revives\n",
      "Top 1% 19.0 |  Top 5% 9.0 |   Top 10% 6.0 |  \n",
      "Current Leaderboard: \n",
      "  Average Performance    |     Peak Performance    \n",
      "==================================================\n",
      "1 | SloshySole   | 13.07 | 1 | SloshySole   |  32  \n",
      "2 | drumcon11    | 8.86  | 2 | drumcon11    |  21  \n",
      "3 | GotYourBach  | 4.88  | 3 | GotYourBach  |  14  \n",
      "4 | MissNemisis  |  1.5  | 4 | mypremeclean |   6  \n",
      "5 | mypremeclean | 1.32  | 5 | MissNemisis  |   3  \n"
     ]
    },
    {
     "data": {
      "application/vnd.plotly.v1+json": {
       "config": {
        "plotlyServerURL": "https://plot.ly"
       },
       "data": [
        {
         "hovertemplate": "player_id=psn_GotYourBach<br>week=%{x}<br>revives=%{y}<br>text=%{text}<extra></extra>",
         "legendgroup": "psn_GotYourBach",
         "line": {
          "color": "#0B6872",
          "dash": "solid",
          "width": 4
         },
         "marker": {
          "symbol": "circle"
         },
         "mode": "lines+markers+text",
         "name": "psn_GotYourBach",
         "orientation": "v",
         "showlegend": true,
         "text": [
          8.71,
          2.56,
          9.17,
          8.14,
          9,
          5.71,
          7.22,
          5.67,
          5.78,
          4.88
         ],
         "textposition": "bottom right",
         "type": "scatter",
         "x": [
          "2021-08-30T00:00:00",
          "2021-09-06T00:00:00",
          "2021-09-13T00:00:00",
          "2021-09-20T00:00:00",
          "2021-09-27T00:00:00",
          "2021-10-04T00:00:00",
          "2021-10-25T00:00:00",
          "2021-11-01T00:00:00",
          "2021-11-08T00:00:00",
          "2021-11-15T00:00:00"
         ],
         "xaxis": "x",
         "y": [
          8.714285714285714,
          2.5555555555555554,
          9.166666666666666,
          8.142857142857142,
          9,
          5.714285714285714,
          7.222222222222222,
          5.666666666666667,
          5.777777777777778,
          4.875
         ],
         "yaxis": "y"
        },
        {
         "hovertemplate": "player_id=psn_MissNemisis<br>week=%{x}<br>revives=%{y}<br>text=%{text}<extra></extra>",
         "legendgroup": "psn_MissNemisis",
         "line": {
          "color": "#00D3BC",
          "dash": "solid",
          "width": 4
         },
         "marker": {
          "symbol": "circle"
         },
         "mode": "lines+markers+text",
         "name": "psn_MissNemisis",
         "orientation": "v",
         "showlegend": true,
         "text": [
          1.29,
          0.67,
          1.5,
          1.71,
          0.86,
          0.54,
          1.33,
          1.83,
          0.89,
          1.5
         ],
         "textposition": "bottom right",
         "type": "scatter",
         "x": [
          "2021-08-30T00:00:00",
          "2021-09-06T00:00:00",
          "2021-09-13T00:00:00",
          "2021-09-20T00:00:00",
          "2021-09-27T00:00:00",
          "2021-10-04T00:00:00",
          "2021-10-25T00:00:00",
          "2021-11-01T00:00:00",
          "2021-11-08T00:00:00",
          "2021-11-15T00:00:00"
         ],
         "xaxis": "x",
         "y": [
          1.2857142857142858,
          0.6666666666666666,
          1.5,
          1.7142857142857142,
          0.8571428571428571,
          0.5384615384615384,
          1.3333333333333333,
          1.8333333333333333,
          0.8888888888888888,
          1.5
         ],
         "yaxis": "y"
        },
        {
         "hovertemplate": "player_id=psn_SloshySole<br>week=%{x}<br>revives=%{y}<br>text=%{text}<extra></extra>",
         "legendgroup": "psn_SloshySole",
         "line": {
          "color": "#040404",
          "dash": "solid",
          "width": 4
         },
         "marker": {
          "symbol": "circle"
         },
         "mode": "lines+markers+text",
         "name": "psn_SloshySole",
         "orientation": "v",
         "showlegend": true,
         "text": [
          12.86,
          7.89,
          14.4,
          15.29,
          11.29,
          10.25,
          9.63,
          12.87,
          12.71,
          15.88,
          11.96,
          13.07
         ],
         "textposition": "bottom right",
         "type": "scatter",
         "x": [
          "2021-08-30T00:00:00",
          "2021-09-06T00:00:00",
          "2021-09-13T00:00:00",
          "2021-09-20T00:00:00",
          "2021-09-27T00:00:00",
          "2021-10-04T00:00:00",
          "2021-10-11T00:00:00",
          "2021-10-18T00:00:00",
          "2021-10-25T00:00:00",
          "2021-11-01T00:00:00",
          "2021-11-08T00:00:00",
          "2021-11-15T00:00:00"
         ],
         "xaxis": "x",
         "y": [
          12.857142857142858,
          7.888888888888889,
          14.4,
          15.285714285714286,
          11.285714285714286,
          10.25,
          9.631578947368421,
          12.866666666666667,
          12.705882352941176,
          15.882352941176471,
          11.962962962962964,
          13.068965517241379
         ],
         "yaxis": "y"
        },
        {
         "hovertemplate": "player_id=psn_drumcon11<br>week=%{x}<br>revives=%{y}<br>text=%{text}<extra></extra>",
         "legendgroup": "psn_drumcon11",
         "line": {
          "color": "#F4E9C3",
          "dash": "solid",
          "width": 4
         },
         "marker": {
          "symbol": "circle"
         },
         "mode": "lines+markers+text",
         "name": "psn_drumcon11",
         "orientation": "v",
         "showlegend": true,
         "text": [
          1.67,
          0.8,
          0.7,
          3.75,
          4.85,
          11.69,
          12.6,
          9.94,
          8.86
         ],
         "textposition": "bottom right",
         "type": "scatter",
         "x": [
          "2021-09-06T00:00:00",
          "2021-09-20T00:00:00",
          "2021-10-04T00:00:00",
          "2021-10-11T00:00:00",
          "2021-10-18T00:00:00",
          "2021-10-25T00:00:00",
          "2021-11-01T00:00:00",
          "2021-11-08T00:00:00",
          "2021-11-15T00:00:00"
         ],
         "xaxis": "x",
         "y": [
          1.6666666666666667,
          0.8,
          0.7,
          3.75,
          4.846153846153846,
          11.692307692307692,
          12.6,
          9.941176470588236,
          8.857142857142858
         ],
         "yaxis": "y"
        },
        {
         "hovertemplate": "player_id=psn_mypremeclean<br>week=%{x}<br>revives=%{y}<br>text=%{text}<extra></extra>",
         "legendgroup": "psn_mypremeclean",
         "line": {
          "color": "#EF8B79",
          "dash": "solid",
          "width": 4
         },
         "marker": {
          "symbol": "circle"
         },
         "mode": "lines+markers+text",
         "name": "psn_mypremeclean",
         "orientation": "v",
         "showlegend": true,
         "text": [
          2.43,
          3.74,
          3.73,
          5,
          2.08,
          1.32
         ],
         "textposition": "bottom right",
         "type": "scatter",
         "x": [
          "2021-10-04T00:00:00",
          "2021-10-11T00:00:00",
          "2021-10-18T00:00:00",
          "2021-10-25T00:00:00",
          "2021-11-01T00:00:00",
          "2021-11-15T00:00:00"
         ],
         "xaxis": "x",
         "y": [
          2.4285714285714284,
          3.736842105263158,
          3.7333333333333334,
          5,
          2.0833333333333335,
          1.3181818181818181
         ],
         "yaxis": "y"
        },
        {
         "hovertemplate": "player_id=psn_GotYourBach<br>day=%{x}<br>revives=%{y}<br>text=%{text}<extra></extra>",
         "legendgroup": "psn_GotYourBach",
         "line": {
          "color": "#0B6872",
          "dash": "solid",
          "width": 4
         },
         "marker": {
          "symbol": "circle"
         },
         "mode": "lines+markers+text",
         "name": "psn_GotYourBach",
         "orientation": "v",
         "showlegend": true,
         "text": [
          8,
          4.88,
          4.82,
          6.38,
          3.38
         ],
         "textposition": "bottom right",
         "type": "scatter",
         "x": [
          "2021-11-10T00:00:00",
          "2021-11-11T00:00:00",
          "2021-11-14T00:00:00",
          "2021-11-17T00:00:00",
          "2021-11-18T00:00:00"
         ],
         "xaxis": "x2",
         "y": [
          8,
          4.875,
          4.818181818181818,
          6.375,
          3.375
         ],
         "yaxis": "y2"
        },
        {
         "hovertemplate": "player_id=psn_MissNemisis<br>day=%{x}<br>revives=%{y}<br>text=%{text}<extra></extra>",
         "legendgroup": "psn_MissNemisis",
         "line": {
          "color": "#00D3BC",
          "dash": "solid",
          "width": 4
         },
         "marker": {
          "symbol": "circle"
         },
         "mode": "lines+markers+text",
         "name": "psn_MissNemisis",
         "orientation": "v",
         "showlegend": true,
         "text": [
          0.5,
          1.38,
          0.82,
          2,
          1
         ],
         "textposition": "bottom right",
         "type": "scatter",
         "x": [
          "2021-11-10T00:00:00",
          "2021-11-11T00:00:00",
          "2021-11-14T00:00:00",
          "2021-11-17T00:00:00",
          "2021-11-18T00:00:00"
         ],
         "xaxis": "x2",
         "y": [
          0.5,
          1.375,
          0.8181818181818182,
          2,
          1
         ],
         "yaxis": "y2"
        },
        {
         "hovertemplate": "player_id=psn_SloshySole<br>day=%{x}<br>revives=%{y}<br>text=%{text}<extra></extra>",
         "legendgroup": "psn_SloshySole",
         "line": {
          "color": "#040404",
          "dash": "solid",
          "width": 4
         },
         "marker": {
          "symbol": "circle"
         },
         "mode": "lines+markers+text",
         "name": "psn_SloshySole",
         "orientation": "v",
         "showlegend": true,
         "text": [
          10.88,
          15.25,
          10.36,
          9.29,
          9.17,
          17.5,
          14.88
         ],
         "textposition": "bottom right",
         "type": "scatter",
         "x": [
          "2021-11-10T00:00:00",
          "2021-11-11T00:00:00",
          "2021-11-14T00:00:00",
          "2021-11-15T00:00:00",
          "2021-11-16T00:00:00",
          "2021-11-17T00:00:00",
          "2021-11-18T00:00:00"
         ],
         "xaxis": "x2",
         "y": [
          10.875,
          15.25,
          10.363636363636363,
          9.285714285714286,
          9.166666666666666,
          17.5,
          14.875
         ],
         "yaxis": "y2"
        },
        {
         "hovertemplate": "player_id=psn_drumcon11<br>day=%{x}<br>revives=%{y}<br>text=%{text}<extra></extra>",
         "legendgroup": "psn_drumcon11",
         "line": {
          "color": "#F4E9C3",
          "dash": "solid",
          "width": 4
         },
         "marker": {
          "symbol": "circle"
         },
         "mode": "lines+markers+text",
         "name": "psn_drumcon11",
         "orientation": "v",
         "showlegend": true,
         "text": [
          9.88,
          13,
          6.25,
          8.86
         ],
         "textposition": "bottom right",
         "type": "scatter",
         "x": [
          "2021-11-10T00:00:00",
          "2021-11-11T00:00:00",
          "2021-11-14T00:00:00",
          "2021-11-15T00:00:00"
         ],
         "xaxis": "x2",
         "y": [
          9.875,
          13,
          6.25,
          8.857142857142858
         ],
         "yaxis": "y2"
        },
        {
         "hovertemplate": "player_id=psn_mypremeclean<br>day=%{x}<br>revives=%{y}<br>text=%{text}<extra></extra>",
         "legendgroup": "psn_mypremeclean",
         "line": {
          "color": "#EF8B79",
          "dash": "solid",
          "width": 4
         },
         "marker": {
          "symbol": "circle"
         },
         "mode": "lines+markers+text",
         "name": "psn_mypremeclean",
         "orientation": "v",
         "showlegend": true,
         "text": [
          1.5,
          1.12,
          1.38
         ],
         "textposition": "bottom right",
         "type": "scatter",
         "x": [
          "2021-11-16T00:00:00",
          "2021-11-17T00:00:00",
          "2021-11-18T00:00:00"
         ],
         "xaxis": "x2",
         "y": [
          1.5,
          1.125,
          1.375
         ],
         "yaxis": "y2"
        }
       ],
       "layout": {
        "font": {
         "color": "grey",
         "family": "sans-serif"
        },
        "height": 600,
        "legend": {
         "title": {
          "font": {
           "color": "grey"
          }
         }
        },
        "paper_bgcolor": "#E9F2F1",
        "plot_bgcolor": "rgba(0,0,0,0)",
        "shapes": [
         {
          "line": {
           "color": "#00B551",
           "dash": "dash"
          },
          "opacity": 0.4,
          "type": "line",
          "x0": "2021-08-30T00:00:00",
          "x1": "2021-11-15T00:00:00",
          "xref": "x",
          "y0": 6,
          "y1": 6,
          "yref": "y"
         }
        ],
        "showlegend": false,
        "template": {
         "data": {
          "scatter": [
           {
            "type": "scatter"
           }
          ]
         }
        },
        "title": {
         "font": {
          "color": "black",
          "family": "sans-serif",
          "size": 20
         },
         "text": "<b>Revives Performance by Player, Last 60/21 Days</b>"
        },
        "width": 2000,
        "xaxis": {
         "anchor": "y",
         "domain": [
          0,
          0.45
         ]
        },
        "xaxis2": {
         "anchor": "y2",
         "domain": [
          0.55,
          1
         ]
        },
        "yaxis": {
         "anchor": "x",
         "domain": [
          0,
          1
         ]
        },
        "yaxis2": {
         "anchor": "x2",
         "domain": [
          0,
          1
         ]
        }
       }
      }
     },
     "metadata": {},
     "output_type": "display_data"
    },
    {
     "name": "stdout",
     "output_type": "stream",
     "text": [
      "Metric: Revives Recieved\n",
      "Top 1% 11.0 |  Top 5% 7.0 |   Top 10% 5.0 |  \n",
      "Current Leaderboard: \n",
      "  Average Performance    |     Peak Performance    \n",
      "==================================================\n",
      "1 | MissNemisis  |  8.0  | 1 | MissNemisis  |  17  \n",
      "2 | GotYourBach  | 6.62  | 2 | GotYourBach  |  16  \n",
      "3 | SloshySole   | 4.28  | 3 | SloshySole   |  10  \n",
      "4 | drumcon11    | 4.14  | 4 | mypremeclean |   9  \n",
      "5 | mypremeclean | 3.95  | 5 | drumcon11    |   7  \n"
     ]
    },
    {
     "data": {
      "application/vnd.plotly.v1+json": {
       "config": {
        "plotlyServerURL": "https://plot.ly"
       },
       "data": [
        {
         "hovertemplate": "player_id=psn_GotYourBach<br>week=%{x}<br>revives_recieved=%{y}<br>text=%{text}<extra></extra>",
         "legendgroup": "psn_GotYourBach",
         "line": {
          "color": "#0B6872",
          "dash": "solid",
          "width": 4
         },
         "marker": {
          "symbol": "circle"
         },
         "mode": "lines+markers+text",
         "name": "psn_GotYourBach",
         "orientation": "v",
         "showlegend": true,
         "text": [
          6.29,
          4,
          5.33,
          4.57,
          7.43,
          4.79,
          4.89,
          8.25,
          5.93,
          6.62
         ],
         "textposition": "bottom right",
         "type": "scatter",
         "x": [
          "2021-08-30T00:00:00",
          "2021-09-06T00:00:00",
          "2021-09-13T00:00:00",
          "2021-09-20T00:00:00",
          "2021-09-27T00:00:00",
          "2021-10-04T00:00:00",
          "2021-10-25T00:00:00",
          "2021-11-01T00:00:00",
          "2021-11-08T00:00:00",
          "2021-11-15T00:00:00"
         ],
         "xaxis": "x",
         "y": [
          6.285714285714286,
          4,
          5.333333333333333,
          4.571428571428571,
          7.428571428571429,
          4.785714285714286,
          4.888888888888889,
          8.25,
          5.925925925925926,
          6.625
         ],
         "yaxis": "y"
        },
        {
         "hovertemplate": "player_id=psn_MissNemisis<br>week=%{x}<br>revives_recieved=%{y}<br>text=%{text}<extra></extra>",
         "legendgroup": "psn_MissNemisis",
         "line": {
          "color": "#00D3BC",
          "dash": "solid",
          "width": 4
         },
         "marker": {
          "symbol": "circle"
         },
         "mode": "lines+markers+text",
         "name": "psn_MissNemisis",
         "orientation": "v",
         "showlegend": true,
         "text": [
          8.14,
          5,
          7.17,
          8,
          8.86,
          4.85,
          7.67,
          9.67,
          6.85,
          8
         ],
         "textposition": "bottom right",
         "type": "scatter",
         "x": [
          "2021-08-30T00:00:00",
          "2021-09-06T00:00:00",
          "2021-09-13T00:00:00",
          "2021-09-20T00:00:00",
          "2021-09-27T00:00:00",
          "2021-10-04T00:00:00",
          "2021-10-25T00:00:00",
          "2021-11-01T00:00:00",
          "2021-11-08T00:00:00",
          "2021-11-15T00:00:00"
         ],
         "xaxis": "x",
         "y": [
          8.142857142857142,
          5,
          7.166666666666667,
          8,
          8.857142857142858,
          4.846153846153846,
          7.666666666666667,
          9.666666666666666,
          6.851851851851852,
          8
         ],
         "yaxis": "y"
        },
        {
         "hovertemplate": "player_id=psn_SloshySole<br>week=%{x}<br>revives_recieved=%{y}<br>text=%{text}<extra></extra>",
         "legendgroup": "psn_SloshySole",
         "line": {
          "color": "#040404",
          "dash": "solid",
          "width": 4
         },
         "marker": {
          "symbol": "circle"
         },
         "mode": "lines+markers+text",
         "name": "psn_SloshySole",
         "orientation": "v",
         "showlegend": true,
         "text": [
          6.71,
          3.22,
          6.6,
          5.71,
          5.14,
          4.65,
          6.16,
          5.47,
          7.24,
          6.12,
          5.52,
          4.28
         ],
         "textposition": "bottom right",
         "type": "scatter",
         "x": [
          "2021-08-30T00:00:00",
          "2021-09-06T00:00:00",
          "2021-09-13T00:00:00",
          "2021-09-20T00:00:00",
          "2021-09-27T00:00:00",
          "2021-10-04T00:00:00",
          "2021-10-11T00:00:00",
          "2021-10-18T00:00:00",
          "2021-10-25T00:00:00",
          "2021-11-01T00:00:00",
          "2021-11-08T00:00:00",
          "2021-11-15T00:00:00"
         ],
         "xaxis": "x",
         "y": [
          6.714285714285714,
          3.2222222222222223,
          6.6,
          5.714285714285714,
          5.142857142857143,
          4.65,
          6.157894736842105,
          5.466666666666667,
          7.235294117647059,
          6.117647058823529,
          5.518518518518518,
          4.275862068965517
         ],
         "yaxis": "y"
        },
        {
         "hovertemplate": "player_id=psn_drumcon11<br>week=%{x}<br>revives_recieved=%{y}<br>text=%{text}<extra></extra>",
         "legendgroup": "psn_drumcon11",
         "line": {
          "color": "#F4E9C3",
          "dash": "solid",
          "width": 4
         },
         "marker": {
          "symbol": "circle"
         },
         "mode": "lines+markers+text",
         "name": "psn_drumcon11",
         "orientation": "v",
         "showlegend": true,
         "text": [
          5.67,
          5,
          4.8,
          11.5,
          7.08,
          6.62,
          6.33,
          6.18,
          4.14
         ],
         "textposition": "bottom right",
         "type": "scatter",
         "x": [
          "2021-09-06T00:00:00",
          "2021-09-20T00:00:00",
          "2021-10-04T00:00:00",
          "2021-10-11T00:00:00",
          "2021-10-18T00:00:00",
          "2021-10-25T00:00:00",
          "2021-11-01T00:00:00",
          "2021-11-08T00:00:00",
          "2021-11-15T00:00:00"
         ],
         "xaxis": "x",
         "y": [
          5.666666666666667,
          5,
          4.8,
          11.5,
          7.076923076923077,
          6.615384615384615,
          6.333333333333333,
          6.176470588235294,
          4.142857142857143
         ],
         "yaxis": "y"
        },
        {
         "hovertemplate": "player_id=psn_mypremeclean<br>week=%{x}<br>revives_recieved=%{y}<br>text=%{text}<extra></extra>",
         "legendgroup": "psn_mypremeclean",
         "line": {
          "color": "#EF8B79",
          "dash": "solid",
          "width": 4
         },
         "marker": {
          "symbol": "circle"
         },
         "mode": "lines+markers+text",
         "name": "psn_mypremeclean",
         "orientation": "v",
         "showlegend": true,
         "text": [
          7.29,
          7,
          4.93,
          8.12,
          5.75,
          3.95
         ],
         "textposition": "bottom right",
         "type": "scatter",
         "x": [
          "2021-10-04T00:00:00",
          "2021-10-11T00:00:00",
          "2021-10-18T00:00:00",
          "2021-10-25T00:00:00",
          "2021-11-01T00:00:00",
          "2021-11-15T00:00:00"
         ],
         "xaxis": "x",
         "y": [
          7.285714285714286,
          7,
          4.933333333333334,
          8.125,
          5.75,
          3.9545454545454546
         ],
         "yaxis": "y"
        },
        {
         "hovertemplate": "player_id=psn_GotYourBach<br>day=%{x}<br>revives_recieved=%{y}<br>text=%{text}<extra></extra>",
         "legendgroup": "psn_GotYourBach",
         "line": {
          "color": "#0B6872",
          "dash": "solid",
          "width": 4
         },
         "marker": {
          "symbol": "circle"
         },
         "mode": "lines+markers+text",
         "name": "psn_GotYourBach",
         "orientation": "v",
         "showlegend": true,
         "text": [
          5.88,
          6.38,
          5.64,
          8,
          5.25
         ],
         "textposition": "bottom right",
         "type": "scatter",
         "x": [
          "2021-11-10T00:00:00",
          "2021-11-11T00:00:00",
          "2021-11-14T00:00:00",
          "2021-11-17T00:00:00",
          "2021-11-18T00:00:00"
         ],
         "xaxis": "x2",
         "y": [
          5.875,
          6.375,
          5.636363636363637,
          8,
          5.25
         ],
         "yaxis": "y2"
        },
        {
         "hovertemplate": "player_id=psn_MissNemisis<br>day=%{x}<br>revives_recieved=%{y}<br>text=%{text}<extra></extra>",
         "legendgroup": "psn_MissNemisis",
         "line": {
          "color": "#00D3BC",
          "dash": "solid",
          "width": 4
         },
         "marker": {
          "symbol": "circle"
         },
         "mode": "lines+markers+text",
         "name": "psn_MissNemisis",
         "orientation": "v",
         "showlegend": true,
         "text": [
          8.38,
          7.12,
          5.55,
          9,
          7
         ],
         "textposition": "bottom right",
         "type": "scatter",
         "x": [
          "2021-11-10T00:00:00",
          "2021-11-11T00:00:00",
          "2021-11-14T00:00:00",
          "2021-11-17T00:00:00",
          "2021-11-18T00:00:00"
         ],
         "xaxis": "x2",
         "y": [
          8.375,
          7.125,
          5.545454545454546,
          9,
          7
         ],
         "yaxis": "y2"
        },
        {
         "hovertemplate": "player_id=psn_SloshySole<br>day=%{x}<br>revives_recieved=%{y}<br>text=%{text}<extra></extra>",
         "legendgroup": "psn_SloshySole",
         "line": {
          "color": "#040404",
          "dash": "solid",
          "width": 4
         },
         "marker": {
          "symbol": "circle"
         },
         "mode": "lines+markers+text",
         "name": "psn_SloshySole",
         "orientation": "v",
         "showlegend": true,
         "text": [
          5.38,
          6.5,
          4.91,
          3.57,
          2.83,
          5.62,
          4.62
         ],
         "textposition": "bottom right",
         "type": "scatter",
         "x": [
          "2021-11-10T00:00:00",
          "2021-11-11T00:00:00",
          "2021-11-14T00:00:00",
          "2021-11-15T00:00:00",
          "2021-11-16T00:00:00",
          "2021-11-17T00:00:00",
          "2021-11-18T00:00:00"
         ],
         "xaxis": "x2",
         "y": [
          5.375,
          6.5,
          4.909090909090909,
          3.5714285714285716,
          2.8333333333333335,
          5.625,
          4.625
         ],
         "yaxis": "y2"
        },
        {
         "hovertemplate": "player_id=psn_drumcon11<br>day=%{x}<br>revives_recieved=%{y}<br>text=%{text}<extra></extra>",
         "legendgroup": "psn_drumcon11",
         "line": {
          "color": "#F4E9C3",
          "dash": "solid",
          "width": 4
         },
         "marker": {
          "symbol": "circle"
         },
         "mode": "lines+markers+text",
         "name": "psn_drumcon11",
         "orientation": "v",
         "showlegend": true,
         "text": [
          6.12,
          8.2,
          3.75,
          4.14
         ],
         "textposition": "bottom right",
         "type": "scatter",
         "x": [
          "2021-11-10T00:00:00",
          "2021-11-11T00:00:00",
          "2021-11-14T00:00:00",
          "2021-11-15T00:00:00"
         ],
         "xaxis": "x2",
         "y": [
          6.125,
          8.2,
          3.75,
          4.142857142857143
         ],
         "yaxis": "y2"
        },
        {
         "hovertemplate": "player_id=psn_mypremeclean<br>day=%{x}<br>revives_recieved=%{y}<br>text=%{text}<extra></extra>",
         "legendgroup": "psn_mypremeclean",
         "line": {
          "color": "#EF8B79",
          "dash": "solid",
          "width": 4
         },
         "marker": {
          "symbol": "circle"
         },
         "mode": "lines+markers+text",
         "name": "psn_mypremeclean",
         "orientation": "v",
         "showlegend": true,
         "text": [
          2.83,
          3.75,
          5
         ],
         "textposition": "bottom right",
         "type": "scatter",
         "x": [
          "2021-11-16T00:00:00",
          "2021-11-17T00:00:00",
          "2021-11-18T00:00:00"
         ],
         "xaxis": "x2",
         "y": [
          2.8333333333333335,
          3.75,
          5
         ],
         "yaxis": "y2"
        }
       ],
       "layout": {
        "font": {
         "color": "grey",
         "family": "sans-serif"
        },
        "height": 600,
        "legend": {
         "title": {
          "font": {
           "color": "grey"
          }
         }
        },
        "paper_bgcolor": "#E9F2F1",
        "plot_bgcolor": "rgba(0,0,0,0)",
        "shapes": [
         {
          "line": {
           "color": "#00B551",
           "dash": "dash"
          },
          "opacity": 0.4,
          "type": "line",
          "x0": "2021-08-30T00:00:00",
          "x1": "2021-11-15T00:00:00",
          "xref": "x",
          "y0": 5,
          "y1": 5,
          "yref": "y"
         }
        ],
        "showlegend": false,
        "template": {
         "data": {
          "scatter": [
           {
            "type": "scatter"
           }
          ]
         }
        },
        "title": {
         "font": {
          "color": "black",
          "family": "sans-serif",
          "size": 20
         },
         "text": "<b>Revives Recieved Performance by Player, Last 60/21 Days</b>"
        },
        "width": 2000,
        "xaxis": {
         "anchor": "y",
         "domain": [
          0,
          0.45
         ]
        },
        "xaxis2": {
         "anchor": "y2",
         "domain": [
          0.55,
          1
         ]
        },
        "yaxis": {
         "anchor": "x",
         "domain": [
          0,
          1
         ]
        },
        "yaxis2": {
         "anchor": "x2",
         "domain": [
          0,
          1
         ]
        }
       }
      }
     },
     "metadata": {},
     "output_type": "display_data"
    },
    {
     "name": "stdout",
     "output_type": "stream",
     "text": [
      "Metric: Resupplies\n",
      "Top 1% 56.0 |  Top 5% 25.0 |  Top 10% 14.0 | \n",
      "Current Leaderboard: \n",
      "  Average Performance    |     Peak Performance    \n",
      "==================================================\n",
      "1 | MissNemisis  | 38.56 | 1 | MissNemisis  |  77  \n",
      "2 | GotYourBach  | 30.06 | 2 | GotYourBach  |  62  \n",
      "3 | SloshySole   | 8.66  | 3 | SloshySole   |  24  \n",
      "4 | drumcon11    | 5.43  | 4 | mypremeclean |  21  \n",
      "5 | mypremeclean | 4.64  | 5 | drumcon11    |  11  \n"
     ]
    },
    {
     "data": {
      "application/vnd.plotly.v1+json": {
       "config": {
        "plotlyServerURL": "https://plot.ly"
       },
       "data": [
        {
         "hovertemplate": "player_id=psn_GotYourBach<br>week=%{x}<br>resupplies=%{y}<br>text=%{text}<extra></extra>",
         "legendgroup": "psn_GotYourBach",
         "line": {
          "color": "#0B6872",
          "dash": "solid",
          "width": 4
         },
         "marker": {
          "symbol": "circle"
         },
         "mode": "lines+markers+text",
         "name": "psn_GotYourBach",
         "orientation": "v",
         "showlegend": true,
         "text": [
          15.86,
          7.11,
          20.67,
          11.43,
          15.43,
          7,
          7.67,
          5.08,
          19.44,
          30.06
         ],
         "textposition": "bottom right",
         "type": "scatter",
         "x": [
          "2021-08-30T00:00:00",
          "2021-09-06T00:00:00",
          "2021-09-13T00:00:00",
          "2021-09-20T00:00:00",
          "2021-09-27T00:00:00",
          "2021-10-04T00:00:00",
          "2021-10-25T00:00:00",
          "2021-11-01T00:00:00",
          "2021-11-08T00:00:00",
          "2021-11-15T00:00:00"
         ],
         "xaxis": "x",
         "y": [
          15.857142857142858,
          7.111111111111111,
          20.666666666666668,
          11.428571428571429,
          15.428571428571429,
          7,
          7.666666666666667,
          5.083333333333333,
          19.444444444444443,
          30.0625
         ],
         "yaxis": "y"
        },
        {
         "hovertemplate": "player_id=psn_MissNemisis<br>week=%{x}<br>resupplies=%{y}<br>text=%{text}<extra></extra>",
         "legendgroup": "psn_MissNemisis",
         "line": {
          "color": "#00D3BC",
          "dash": "solid",
          "width": 4
         },
         "marker": {
          "symbol": "circle"
         },
         "mode": "lines+markers+text",
         "name": "psn_MissNemisis",
         "orientation": "v",
         "showlegend": true,
         "text": [
          59.86,
          32.44,
          45.17,
          45.86,
          31.43,
          27.69,
          36.33,
          49.17,
          39.04,
          38.56
         ],
         "textposition": "bottom right",
         "type": "scatter",
         "x": [
          "2021-08-30T00:00:00",
          "2021-09-06T00:00:00",
          "2021-09-13T00:00:00",
          "2021-09-20T00:00:00",
          "2021-09-27T00:00:00",
          "2021-10-04T00:00:00",
          "2021-10-25T00:00:00",
          "2021-11-01T00:00:00",
          "2021-11-08T00:00:00",
          "2021-11-15T00:00:00"
         ],
         "xaxis": "x",
         "y": [
          59.857142857142854,
          32.44444444444444,
          45.166666666666664,
          45.857142857142854,
          31.428571428571427,
          27.692307692307693,
          36.333333333333336,
          49.166666666666664,
          39.03703703703704,
          38.5625
         ],
         "yaxis": "y"
        },
        {
         "hovertemplate": "player_id=psn_SloshySole<br>week=%{x}<br>resupplies=%{y}<br>text=%{text}<extra></extra>",
         "legendgroup": "psn_SloshySole",
         "line": {
          "color": "#040404",
          "dash": "solid",
          "width": 4
         },
         "marker": {
          "symbol": "circle"
         },
         "mode": "lines+markers+text",
         "name": "psn_SloshySole",
         "orientation": "v",
         "showlegend": true,
         "text": [
          9.86,
          3.67,
          9,
          4.57,
          7,
          5.3,
          8.47,
          9.93,
          10,
          10.18,
          5.41,
          8.66
         ],
         "textposition": "bottom right",
         "type": "scatter",
         "x": [
          "2021-08-30T00:00:00",
          "2021-09-06T00:00:00",
          "2021-09-13T00:00:00",
          "2021-09-20T00:00:00",
          "2021-09-27T00:00:00",
          "2021-10-04T00:00:00",
          "2021-10-11T00:00:00",
          "2021-10-18T00:00:00",
          "2021-10-25T00:00:00",
          "2021-11-01T00:00:00",
          "2021-11-08T00:00:00",
          "2021-11-15T00:00:00"
         ],
         "xaxis": "x",
         "y": [
          9.857142857142858,
          3.6666666666666665,
          9,
          4.571428571428571,
          7,
          5.3,
          8.473684210526315,
          9.933333333333334,
          10,
          10.176470588235293,
          5.407407407407407,
          8.655172413793103
         ],
         "yaxis": "y"
        },
        {
         "hovertemplate": "player_id=psn_drumcon11<br>week=%{x}<br>resupplies=%{y}<br>text=%{text}<extra></extra>",
         "legendgroup": "psn_drumcon11",
         "line": {
          "color": "#F4E9C3",
          "dash": "solid",
          "width": 4
         },
         "marker": {
          "symbol": "circle"
         },
         "mode": "lines+markers+text",
         "name": "psn_drumcon11",
         "orientation": "v",
         "showlegend": true,
         "text": [
          6.5,
          1.8,
          1.5,
          9.75,
          7.15,
          13.62,
          15.4,
          11.76,
          5.43
         ],
         "textposition": "bottom right",
         "type": "scatter",
         "x": [
          "2021-09-06T00:00:00",
          "2021-09-20T00:00:00",
          "2021-10-04T00:00:00",
          "2021-10-11T00:00:00",
          "2021-10-18T00:00:00",
          "2021-10-25T00:00:00",
          "2021-11-01T00:00:00",
          "2021-11-08T00:00:00",
          "2021-11-15T00:00:00"
         ],
         "xaxis": "x",
         "y": [
          6.5,
          1.8,
          1.5,
          9.75,
          7.153846153846154,
          13.615384615384615,
          15.4,
          11.764705882352942,
          5.428571428571429
         ],
         "yaxis": "y"
        },
        {
         "hovertemplate": "player_id=psn_mypremeclean<br>week=%{x}<br>resupplies=%{y}<br>text=%{text}<extra></extra>",
         "legendgroup": "psn_mypremeclean",
         "line": {
          "color": "#EF8B79",
          "dash": "solid",
          "width": 4
         },
         "marker": {
          "symbol": "circle"
         },
         "mode": "lines+markers+text",
         "name": "psn_mypremeclean",
         "orientation": "v",
         "showlegend": true,
         "text": [
          2.57,
          3.74,
          17.53,
          21.12,
          15.17,
          4.64
         ],
         "textposition": "bottom right",
         "type": "scatter",
         "x": [
          "2021-10-04T00:00:00",
          "2021-10-11T00:00:00",
          "2021-10-18T00:00:00",
          "2021-10-25T00:00:00",
          "2021-11-01T00:00:00",
          "2021-11-15T00:00:00"
         ],
         "xaxis": "x",
         "y": [
          2.5714285714285716,
          3.736842105263158,
          17.533333333333335,
          21.125,
          15.166666666666666,
          4.636363636363637
         ],
         "yaxis": "y"
        },
        {
         "hovertemplate": "player_id=psn_GotYourBach<br>day=%{x}<br>resupplies=%{y}<br>text=%{text}<extra></extra>",
         "legendgroup": "psn_GotYourBach",
         "line": {
          "color": "#0B6872",
          "dash": "solid",
          "width": 4
         },
         "marker": {
          "symbol": "circle"
         },
         "mode": "lines+markers+text",
         "name": "psn_GotYourBach",
         "orientation": "v",
         "showlegend": true,
         "text": [
          15.88,
          22.75,
          19.64,
          21.5,
          38.62
         ],
         "textposition": "bottom right",
         "type": "scatter",
         "x": [
          "2021-11-10T00:00:00",
          "2021-11-11T00:00:00",
          "2021-11-14T00:00:00",
          "2021-11-17T00:00:00",
          "2021-11-18T00:00:00"
         ],
         "xaxis": "x2",
         "y": [
          15.875,
          22.75,
          19.636363636363637,
          21.5,
          38.625
         ],
         "yaxis": "y2"
        },
        {
         "hovertemplate": "player_id=psn_MissNemisis<br>day=%{x}<br>resupplies=%{y}<br>text=%{text}<extra></extra>",
         "legendgroup": "psn_MissNemisis",
         "line": {
          "color": "#00D3BC",
          "dash": "solid",
          "width": 4
         },
         "marker": {
          "symbol": "circle"
         },
         "mode": "lines+markers+text",
         "name": "psn_MissNemisis",
         "orientation": "v",
         "showlegend": true,
         "text": [
          42.5,
          39.25,
          36.36,
          42.62,
          34.5
         ],
         "textposition": "bottom right",
         "type": "scatter",
         "x": [
          "2021-11-10T00:00:00",
          "2021-11-11T00:00:00",
          "2021-11-14T00:00:00",
          "2021-11-17T00:00:00",
          "2021-11-18T00:00:00"
         ],
         "xaxis": "x2",
         "y": [
          42.5,
          39.25,
          36.36363636363637,
          42.625,
          34.5
         ],
         "yaxis": "y2"
        },
        {
         "hovertemplate": "player_id=psn_SloshySole<br>day=%{x}<br>resupplies=%{y}<br>text=%{text}<extra></extra>",
         "legendgroup": "psn_SloshySole",
         "line": {
          "color": "#040404",
          "dash": "solid",
          "width": 4
         },
         "marker": {
          "symbol": "circle"
         },
         "mode": "lines+markers+text",
         "name": "psn_SloshySole",
         "orientation": "v",
         "showlegend": true,
         "text": [
          4.88,
          6.12,
          5.27,
          4.86,
          5.67,
          10.5,
          12.38
         ],
         "textposition": "bottom right",
         "type": "scatter",
         "x": [
          "2021-11-10T00:00:00",
          "2021-11-11T00:00:00",
          "2021-11-14T00:00:00",
          "2021-11-15T00:00:00",
          "2021-11-16T00:00:00",
          "2021-11-17T00:00:00",
          "2021-11-18T00:00:00"
         ],
         "xaxis": "x2",
         "y": [
          4.875,
          6.125,
          5.2727272727272725,
          4.857142857142857,
          5.666666666666667,
          10.5,
          12.375
         ],
         "yaxis": "y2"
        },
        {
         "hovertemplate": "player_id=psn_drumcon11<br>day=%{x}<br>resupplies=%{y}<br>text=%{text}<extra></extra>",
         "legendgroup": "psn_drumcon11",
         "line": {
          "color": "#F4E9C3",
          "dash": "solid",
          "width": 4
         },
         "marker": {
          "symbol": "circle"
         },
         "mode": "lines+markers+text",
         "name": "psn_drumcon11",
         "orientation": "v",
         "showlegend": true,
         "text": [
          10.62,
          16,
          8.75,
          5.43
         ],
         "textposition": "bottom right",
         "type": "scatter",
         "x": [
          "2021-11-10T00:00:00",
          "2021-11-11T00:00:00",
          "2021-11-14T00:00:00",
          "2021-11-15T00:00:00"
         ],
         "xaxis": "x2",
         "y": [
          10.625,
          16,
          8.75,
          5.428571428571429
         ],
         "yaxis": "y2"
        },
        {
         "hovertemplate": "player_id=psn_mypremeclean<br>day=%{x}<br>resupplies=%{y}<br>text=%{text}<extra></extra>",
         "legendgroup": "psn_mypremeclean",
         "line": {
          "color": "#EF8B79",
          "dash": "solid",
          "width": 4
         },
         "marker": {
          "symbol": "circle"
         },
         "mode": "lines+markers+text",
         "name": "psn_mypremeclean",
         "orientation": "v",
         "showlegend": true,
         "text": [
          4.83,
          3.5,
          5.62
         ],
         "textposition": "bottom right",
         "type": "scatter",
         "x": [
          "2021-11-16T00:00:00",
          "2021-11-17T00:00:00",
          "2021-11-18T00:00:00"
         ],
         "xaxis": "x2",
         "y": [
          4.833333333333333,
          3.5,
          5.625
         ],
         "yaxis": "y2"
        }
       ],
       "layout": {
        "font": {
         "color": "grey",
         "family": "sans-serif"
        },
        "height": 600,
        "legend": {
         "title": {
          "font": {
           "color": "grey"
          }
         }
        },
        "paper_bgcolor": "#E9F2F1",
        "plot_bgcolor": "rgba(0,0,0,0)",
        "shapes": [
         {
          "line": {
           "color": "#00B551",
           "dash": "dash"
          },
          "opacity": 0.4,
          "type": "line",
          "x0": "2021-08-30T00:00:00",
          "x1": "2021-11-15T00:00:00",
          "xref": "x",
          "y0": 14,
          "y1": 14,
          "yref": "y"
         }
        ],
        "showlegend": false,
        "template": {
         "data": {
          "scatter": [
           {
            "type": "scatter"
           }
          ]
         }
        },
        "title": {
         "font": {
          "color": "black",
          "family": "sans-serif",
          "size": 20
         },
         "text": "<b>Resupplies Performance by Player, Last 60/21 Days</b>"
        },
        "width": 2000,
        "xaxis": {
         "anchor": "y",
         "domain": [
          0,
          0.45
         ]
        },
        "xaxis2": {
         "anchor": "y2",
         "domain": [
          0.55,
          1
         ]
        },
        "yaxis": {
         "anchor": "x",
         "domain": [
          0,
          1
         ]
        },
        "yaxis2": {
         "anchor": "x2",
         "domain": [
          0,
          1
         ]
        }
       }
      }
     },
     "metadata": {},
     "output_type": "display_data"
    },
    {
     "name": "stdout",
     "output_type": "stream",
     "text": [
      "Metric: Repairs\n",
      "Top 1% 28.0 |  Top 5% 0.0 |   Top 10% 0.0 |  \n",
      "Current Leaderboard: \n",
      "  Average Performance    |     Peak Performance    \n",
      "==================================================\n",
      "1 | GotYourBach  | 1.25  | 1 | GotYourBach  |  20  \n",
      "2 | MissNemisis  | 0.06  | 2 | MissNemisis  |   1  \n",
      "3 | SloshySole   |  0.0  | 3 | SloshySole   |   0  \n",
      "4 | drumcon11    |  0.0  | 4 | drumcon11    |   0  \n",
      "5 | mypremeclean |  0.0  | 5 | mypremeclean |   0  \n"
     ]
    },
    {
     "data": {
      "application/vnd.plotly.v1+json": {
       "config": {
        "plotlyServerURL": "https://plot.ly"
       },
       "data": [
        {
         "hovertemplate": "player_id=psn_GotYourBach<br>week=%{x}<br>repairs=%{y}<br>text=%{text}<extra></extra>",
         "legendgroup": "psn_GotYourBach",
         "line": {
          "color": "#0B6872",
          "dash": "solid",
          "width": 4
         },
         "marker": {
          "symbol": "circle"
         },
         "mode": "lines+markers+text",
         "name": "psn_GotYourBach",
         "orientation": "v",
         "showlegend": true,
         "text": [
          0,
          0,
          0,
          0.86,
          0,
          0,
          0,
          0,
          0,
          1.25
         ],
         "textposition": "bottom right",
         "type": "scatter",
         "x": [
          "2021-08-30T00:00:00",
          "2021-09-06T00:00:00",
          "2021-09-13T00:00:00",
          "2021-09-20T00:00:00",
          "2021-09-27T00:00:00",
          "2021-10-04T00:00:00",
          "2021-10-25T00:00:00",
          "2021-11-01T00:00:00",
          "2021-11-08T00:00:00",
          "2021-11-15T00:00:00"
         ],
         "xaxis": "x",
         "y": [
          0,
          0,
          0,
          0.8571428571428571,
          0,
          0,
          0,
          0,
          0,
          1.25
         ],
         "yaxis": "y"
        },
        {
         "hovertemplate": "player_id=psn_MissNemisis<br>week=%{x}<br>repairs=%{y}<br>text=%{text}<extra></extra>",
         "legendgroup": "psn_MissNemisis",
         "line": {
          "color": "#00D3BC",
          "dash": "solid",
          "width": 4
         },
         "marker": {
          "symbol": "circle"
         },
         "mode": "lines+markers+text",
         "name": "psn_MissNemisis",
         "orientation": "v",
         "showlegend": true,
         "text": [
          1,
          0,
          0,
          0,
          3.43,
          0.31,
          0,
          0,
          0.59,
          0.06
         ],
         "textposition": "bottom right",
         "type": "scatter",
         "x": [
          "2021-08-30T00:00:00",
          "2021-09-06T00:00:00",
          "2021-09-13T00:00:00",
          "2021-09-20T00:00:00",
          "2021-09-27T00:00:00",
          "2021-10-04T00:00:00",
          "2021-10-25T00:00:00",
          "2021-11-01T00:00:00",
          "2021-11-08T00:00:00",
          "2021-11-15T00:00:00"
         ],
         "xaxis": "x",
         "y": [
          1,
          0,
          0,
          0,
          3.4285714285714284,
          0.3076923076923077,
          0,
          0,
          0.5925925925925926,
          0.0625
         ],
         "yaxis": "y"
        },
        {
         "hovertemplate": "player_id=psn_SloshySole<br>week=%{x}<br>repairs=%{y}<br>text=%{text}<extra></extra>",
         "legendgroup": "psn_SloshySole",
         "line": {
          "color": "#040404",
          "dash": "solid",
          "width": 4
         },
         "marker": {
          "symbol": "circle"
         },
         "mode": "lines+markers+text",
         "name": "psn_SloshySole",
         "orientation": "v",
         "showlegend": true,
         "text": [
          0,
          0,
          0,
          0,
          0,
          0,
          0,
          0,
          0,
          0,
          0,
          0
         ],
         "textposition": "bottom right",
         "type": "scatter",
         "x": [
          "2021-08-30T00:00:00",
          "2021-09-06T00:00:00",
          "2021-09-13T00:00:00",
          "2021-09-20T00:00:00",
          "2021-09-27T00:00:00",
          "2021-10-04T00:00:00",
          "2021-10-11T00:00:00",
          "2021-10-18T00:00:00",
          "2021-10-25T00:00:00",
          "2021-11-01T00:00:00",
          "2021-11-08T00:00:00",
          "2021-11-15T00:00:00"
         ],
         "xaxis": "x",
         "y": [
          0,
          0,
          0,
          0,
          0,
          0,
          0,
          0,
          0,
          0,
          0,
          0
         ],
         "yaxis": "y"
        },
        {
         "hovertemplate": "player_id=psn_drumcon11<br>week=%{x}<br>repairs=%{y}<br>text=%{text}<extra></extra>",
         "legendgroup": "psn_drumcon11",
         "line": {
          "color": "#F4E9C3",
          "dash": "solid",
          "width": 4
         },
         "marker": {
          "symbol": "circle"
         },
         "mode": "lines+markers+text",
         "name": "psn_drumcon11",
         "orientation": "v",
         "showlegend": true,
         "text": [
          0,
          0,
          0,
          0,
          0,
          0,
          0,
          0,
          0
         ],
         "textposition": "bottom right",
         "type": "scatter",
         "x": [
          "2021-09-06T00:00:00",
          "2021-09-20T00:00:00",
          "2021-10-04T00:00:00",
          "2021-10-11T00:00:00",
          "2021-10-18T00:00:00",
          "2021-10-25T00:00:00",
          "2021-11-01T00:00:00",
          "2021-11-08T00:00:00",
          "2021-11-15T00:00:00"
         ],
         "xaxis": "x",
         "y": [
          0,
          0,
          0,
          0,
          0,
          0,
          0,
          0,
          0
         ],
         "yaxis": "y"
        },
        {
         "hovertemplate": "player_id=psn_mypremeclean<br>week=%{x}<br>repairs=%{y}<br>text=%{text}<extra></extra>",
         "legendgroup": "psn_mypremeclean",
         "line": {
          "color": "#EF8B79",
          "dash": "solid",
          "width": 4
         },
         "marker": {
          "symbol": "circle"
         },
         "mode": "lines+markers+text",
         "name": "psn_mypremeclean",
         "orientation": "v",
         "showlegend": true,
         "text": [
          0,
          0,
          0,
          0,
          0.5,
          0
         ],
         "textposition": "bottom right",
         "type": "scatter",
         "x": [
          "2021-10-04T00:00:00",
          "2021-10-11T00:00:00",
          "2021-10-18T00:00:00",
          "2021-10-25T00:00:00",
          "2021-11-01T00:00:00",
          "2021-11-15T00:00:00"
         ],
         "xaxis": "x",
         "y": [
          0,
          0,
          0,
          0,
          0.5,
          0
         ],
         "yaxis": "y"
        },
        {
         "hovertemplate": "player_id=psn_GotYourBach<br>day=%{x}<br>repairs=%{y}<br>text=%{text}<extra></extra>",
         "legendgroup": "psn_GotYourBach",
         "line": {
          "color": "#0B6872",
          "dash": "solid",
          "width": 4
         },
         "marker": {
          "symbol": "circle"
         },
         "mode": "lines+markers+text",
         "name": "psn_GotYourBach",
         "orientation": "v",
         "showlegend": true,
         "text": [
          0,
          0,
          0,
          2.5,
          0
         ],
         "textposition": "bottom right",
         "type": "scatter",
         "x": [
          "2021-11-10T00:00:00",
          "2021-11-11T00:00:00",
          "2021-11-14T00:00:00",
          "2021-11-17T00:00:00",
          "2021-11-18T00:00:00"
         ],
         "xaxis": "x2",
         "y": [
          0,
          0,
          0,
          2.5,
          0
         ],
         "yaxis": "y2"
        },
        {
         "hovertemplate": "player_id=psn_MissNemisis<br>day=%{x}<br>repairs=%{y}<br>text=%{text}<extra></extra>",
         "legendgroup": "psn_MissNemisis",
         "line": {
          "color": "#00D3BC",
          "dash": "solid",
          "width": 4
         },
         "marker": {
          "symbol": "circle"
         },
         "mode": "lines+markers+text",
         "name": "psn_MissNemisis",
         "orientation": "v",
         "showlegend": true,
         "text": [
          0,
          2,
          0,
          0,
          0.12
         ],
         "textposition": "bottom right",
         "type": "scatter",
         "x": [
          "2021-11-10T00:00:00",
          "2021-11-11T00:00:00",
          "2021-11-14T00:00:00",
          "2021-11-17T00:00:00",
          "2021-11-18T00:00:00"
         ],
         "xaxis": "x2",
         "y": [
          0,
          2,
          0,
          0,
          0.125
         ],
         "yaxis": "y2"
        },
        {
         "hovertemplate": "player_id=psn_SloshySole<br>day=%{x}<br>repairs=%{y}<br>text=%{text}<extra></extra>",
         "legendgroup": "psn_SloshySole",
         "line": {
          "color": "#040404",
          "dash": "solid",
          "width": 4
         },
         "marker": {
          "symbol": "circle"
         },
         "mode": "lines+markers+text",
         "name": "psn_SloshySole",
         "orientation": "v",
         "showlegend": true,
         "text": [
          0,
          0,
          0,
          0,
          0,
          0,
          0
         ],
         "textposition": "bottom right",
         "type": "scatter",
         "x": [
          "2021-11-10T00:00:00",
          "2021-11-11T00:00:00",
          "2021-11-14T00:00:00",
          "2021-11-15T00:00:00",
          "2021-11-16T00:00:00",
          "2021-11-17T00:00:00",
          "2021-11-18T00:00:00"
         ],
         "xaxis": "x2",
         "y": [
          0,
          0,
          0,
          0,
          0,
          0,
          0
         ],
         "yaxis": "y2"
        },
        {
         "hovertemplate": "player_id=psn_drumcon11<br>day=%{x}<br>repairs=%{y}<br>text=%{text}<extra></extra>",
         "legendgroup": "psn_drumcon11",
         "line": {
          "color": "#F4E9C3",
          "dash": "solid",
          "width": 4
         },
         "marker": {
          "symbol": "circle"
         },
         "mode": "lines+markers+text",
         "name": "psn_drumcon11",
         "orientation": "v",
         "showlegend": true,
         "text": [
          0,
          0,
          0,
          0
         ],
         "textposition": "bottom right",
         "type": "scatter",
         "x": [
          "2021-11-10T00:00:00",
          "2021-11-11T00:00:00",
          "2021-11-14T00:00:00",
          "2021-11-15T00:00:00"
         ],
         "xaxis": "x2",
         "y": [
          0,
          0,
          0,
          0
         ],
         "yaxis": "y2"
        },
        {
         "hovertemplate": "player_id=psn_mypremeclean<br>day=%{x}<br>repairs=%{y}<br>text=%{text}<extra></extra>",
         "legendgroup": "psn_mypremeclean",
         "line": {
          "color": "#EF8B79",
          "dash": "solid",
          "width": 4
         },
         "marker": {
          "symbol": "circle"
         },
         "mode": "lines+markers+text",
         "name": "psn_mypremeclean",
         "orientation": "v",
         "showlegend": true,
         "text": [
          0,
          0,
          0
         ],
         "textposition": "bottom right",
         "type": "scatter",
         "x": [
          "2021-11-16T00:00:00",
          "2021-11-17T00:00:00",
          "2021-11-18T00:00:00"
         ],
         "xaxis": "x2",
         "y": [
          0,
          0,
          0
         ],
         "yaxis": "y2"
        }
       ],
       "layout": {
        "font": {
         "color": "grey",
         "family": "sans-serif"
        },
        "height": 600,
        "legend": {
         "title": {
          "font": {
           "color": "grey"
          }
         }
        },
        "paper_bgcolor": "#E9F2F1",
        "plot_bgcolor": "rgba(0,0,0,0)",
        "shapes": [
         {
          "line": {
           "color": "#00B551",
           "dash": "dash"
          },
          "opacity": 0.4,
          "type": "line",
          "x0": "2021-08-30T00:00:00",
          "x1": "2021-11-15T00:00:00",
          "xref": "x",
          "y0": 0,
          "y1": 0,
          "yref": "y"
         }
        ],
        "showlegend": false,
        "template": {
         "data": {
          "scatter": [
           {
            "type": "scatter"
           }
          ]
         }
        },
        "title": {
         "font": {
          "color": "black",
          "family": "sans-serif",
          "size": 20
         },
         "text": "<b>Repairs Performance by Player, Last 60/21 Days</b>"
        },
        "width": 2000,
        "xaxis": {
         "anchor": "y",
         "domain": [
          0,
          0.45
         ]
        },
        "xaxis2": {
         "anchor": "y2",
         "domain": [
          0.55,
          1
         ]
        },
        "yaxis": {
         "anchor": "x",
         "domain": [
          0,
          1
         ]
        },
        "yaxis2": {
         "anchor": "x2",
         "domain": [
          0,
          1
         ]
        }
       }
      }
     },
     "metadata": {},
     "output_type": "display_data"
    },
    {
     "name": "stdout",
     "output_type": "stream",
     "text": [
      "Metric: Squad Spawns\n",
      "Top 1% 20.0 |  Top 5% 13.0 |  Top 10% 11.0 | \n",
      "Current Leaderboard: \n",
      "  Average Performance    |     Peak Performance    \n",
      "==================================================\n",
      "1 | MissNemisis  | 7.75  | 1 | mypremeclean |  24  \n",
      "2 | mypremeclean | 6.91  | 2 | MissNemisis  |  19  \n",
      "3 | GotYourBach  | 5.44  | 3 | GotYourBach  |  15  \n",
      "4 | SloshySole   |  5.1  | 4 | SloshySole   |  14  \n",
      "5 | drumcon11    | 3.71  | 5 | drumcon11    |   7  \n"
     ]
    },
    {
     "data": {
      "application/vnd.plotly.v1+json": {
       "config": {
        "plotlyServerURL": "https://plot.ly"
       },
       "data": [
        {
         "hovertemplate": "player_id=psn_GotYourBach<br>week=%{x}<br>squad_spawns=%{y}<br>text=%{text}<extra></extra>",
         "legendgroup": "psn_GotYourBach",
         "line": {
          "color": "#0B6872",
          "dash": "solid",
          "width": 4
         },
         "marker": {
          "symbol": "circle"
         },
         "mode": "lines+markers+text",
         "name": "psn_GotYourBach",
         "orientation": "v",
         "showlegend": true,
         "text": [
          6,
          4.44,
          9.17,
          12.43,
          7.86,
          4.29,
          8.56,
          11,
          5.48,
          5.44
         ],
         "textposition": "bottom right",
         "type": "scatter",
         "x": [
          "2021-08-30T00:00:00",
          "2021-09-06T00:00:00",
          "2021-09-13T00:00:00",
          "2021-09-20T00:00:00",
          "2021-09-27T00:00:00",
          "2021-10-04T00:00:00",
          "2021-10-25T00:00:00",
          "2021-11-01T00:00:00",
          "2021-11-08T00:00:00",
          "2021-11-15T00:00:00"
         ],
         "xaxis": "x",
         "y": [
          6,
          4.444444444444445,
          9.166666666666666,
          12.428571428571429,
          7.857142857142857,
          4.285714285714286,
          8.555555555555555,
          11,
          5.481481481481482,
          5.4375
         ],
         "yaxis": "y"
        },
        {
         "hovertemplate": "player_id=psn_MissNemisis<br>week=%{x}<br>squad_spawns=%{y}<br>text=%{text}<extra></extra>",
         "legendgroup": "psn_MissNemisis",
         "line": {
          "color": "#00D3BC",
          "dash": "solid",
          "width": 4
         },
         "marker": {
          "symbol": "circle"
         },
         "mode": "lines+markers+text",
         "name": "psn_MissNemisis",
         "orientation": "v",
         "showlegend": true,
         "text": [
          5.29,
          9,
          8.17,
          9.43,
          8.86,
          6.23,
          5.56,
          7.67,
          6.85,
          7.75
         ],
         "textposition": "bottom right",
         "type": "scatter",
         "x": [
          "2021-08-30T00:00:00",
          "2021-09-06T00:00:00",
          "2021-09-13T00:00:00",
          "2021-09-20T00:00:00",
          "2021-09-27T00:00:00",
          "2021-10-04T00:00:00",
          "2021-10-25T00:00:00",
          "2021-11-01T00:00:00",
          "2021-11-08T00:00:00",
          "2021-11-15T00:00:00"
         ],
         "xaxis": "x",
         "y": [
          5.285714285714286,
          9,
          8.166666666666666,
          9.428571428571429,
          8.857142857142858,
          6.230769230769231,
          5.555555555555555,
          7.666666666666667,
          6.851851851851852,
          7.75
         ],
         "yaxis": "y"
        },
        {
         "hovertemplate": "player_id=psn_SloshySole<br>week=%{x}<br>squad_spawns=%{y}<br>text=%{text}<extra></extra>",
         "legendgroup": "psn_SloshySole",
         "line": {
          "color": "#040404",
          "dash": "solid",
          "width": 4
         },
         "marker": {
          "symbol": "circle"
         },
         "mode": "lines+markers+text",
         "name": "psn_SloshySole",
         "orientation": "v",
         "showlegend": true,
         "text": [
          7,
          5.33,
          12.4,
          6.86,
          9.29,
          6.55,
          10.26,
          10,
          8.06,
          9.41,
          6.07,
          5.1
         ],
         "textposition": "bottom right",
         "type": "scatter",
         "x": [
          "2021-08-30T00:00:00",
          "2021-09-06T00:00:00",
          "2021-09-13T00:00:00",
          "2021-09-20T00:00:00",
          "2021-09-27T00:00:00",
          "2021-10-04T00:00:00",
          "2021-10-11T00:00:00",
          "2021-10-18T00:00:00",
          "2021-10-25T00:00:00",
          "2021-11-01T00:00:00",
          "2021-11-08T00:00:00",
          "2021-11-15T00:00:00"
         ],
         "xaxis": "x",
         "y": [
          7,
          5.333333333333333,
          12.4,
          6.857142857142857,
          9.285714285714286,
          6.55,
          10.263157894736842,
          10,
          8.058823529411764,
          9.411764705882353,
          6.074074074074074,
          5.103448275862069
         ],
         "yaxis": "y"
        },
        {
         "hovertemplate": "player_id=psn_drumcon11<br>week=%{x}<br>squad_spawns=%{y}<br>text=%{text}<extra></extra>",
         "legendgroup": "psn_drumcon11",
         "line": {
          "color": "#F4E9C3",
          "dash": "solid",
          "width": 4
         },
         "marker": {
          "symbol": "circle"
         },
         "mode": "lines+markers+text",
         "name": "psn_drumcon11",
         "orientation": "v",
         "showlegend": true,
         "text": [
          4.5,
          4.4,
          1.7,
          10,
          6.08,
          4.31,
          6.67,
          4,
          3.71
         ],
         "textposition": "bottom right",
         "type": "scatter",
         "x": [
          "2021-09-06T00:00:00",
          "2021-09-20T00:00:00",
          "2021-10-04T00:00:00",
          "2021-10-11T00:00:00",
          "2021-10-18T00:00:00",
          "2021-10-25T00:00:00",
          "2021-11-01T00:00:00",
          "2021-11-08T00:00:00",
          "2021-11-15T00:00:00"
         ],
         "xaxis": "x",
         "y": [
          4.5,
          4.4,
          1.7,
          10,
          6.076923076923077,
          4.3076923076923075,
          6.666666666666667,
          4,
          3.7142857142857144
         ],
         "yaxis": "y"
        },
        {
         "hovertemplate": "player_id=psn_mypremeclean<br>week=%{x}<br>squad_spawns=%{y}<br>text=%{text}<extra></extra>",
         "legendgroup": "psn_mypremeclean",
         "line": {
          "color": "#EF8B79",
          "dash": "solid",
          "width": 4
         },
         "marker": {
          "symbol": "circle"
         },
         "mode": "lines+markers+text",
         "name": "psn_mypremeclean",
         "orientation": "v",
         "showlegend": true,
         "text": [
          9.29,
          9.47,
          8.6,
          11.88,
          8.5,
          6.91
         ],
         "textposition": "bottom right",
         "type": "scatter",
         "x": [
          "2021-10-04T00:00:00",
          "2021-10-11T00:00:00",
          "2021-10-18T00:00:00",
          "2021-10-25T00:00:00",
          "2021-11-01T00:00:00",
          "2021-11-15T00:00:00"
         ],
         "xaxis": "x",
         "y": [
          9.285714285714286,
          9.473684210526315,
          8.6,
          11.875,
          8.5,
          6.909090909090909
         ],
         "yaxis": "y"
        },
        {
         "hovertemplate": "player_id=psn_GotYourBach<br>day=%{x}<br>squad_spawns=%{y}<br>text=%{text}<extra></extra>",
         "legendgroup": "psn_GotYourBach",
         "line": {
          "color": "#0B6872",
          "dash": "solid",
          "width": 4
         },
         "marker": {
          "symbol": "circle"
         },
         "mode": "lines+markers+text",
         "name": "psn_GotYourBach",
         "orientation": "v",
         "showlegend": true,
         "text": [
          7.62,
          4.88,
          4.36,
          6.38,
          4.5
         ],
         "textposition": "bottom right",
         "type": "scatter",
         "x": [
          "2021-11-10T00:00:00",
          "2021-11-11T00:00:00",
          "2021-11-14T00:00:00",
          "2021-11-17T00:00:00",
          "2021-11-18T00:00:00"
         ],
         "xaxis": "x2",
         "y": [
          7.625,
          4.875,
          4.363636363636363,
          6.375,
          4.5
         ],
         "yaxis": "y2"
        },
        {
         "hovertemplate": "player_id=psn_MissNemisis<br>day=%{x}<br>squad_spawns=%{y}<br>text=%{text}<extra></extra>",
         "legendgroup": "psn_MissNemisis",
         "line": {
          "color": "#00D3BC",
          "dash": "solid",
          "width": 4
         },
         "marker": {
          "symbol": "circle"
         },
         "mode": "lines+markers+text",
         "name": "psn_MissNemisis",
         "orientation": "v",
         "showlegend": true,
         "text": [
          6.75,
          6,
          7.55,
          9,
          6.5
         ],
         "textposition": "bottom right",
         "type": "scatter",
         "x": [
          "2021-11-10T00:00:00",
          "2021-11-11T00:00:00",
          "2021-11-14T00:00:00",
          "2021-11-17T00:00:00",
          "2021-11-18T00:00:00"
         ],
         "xaxis": "x2",
         "y": [
          6.75,
          6,
          7.545454545454546,
          9,
          6.5
         ],
         "yaxis": "y2"
        },
        {
         "hovertemplate": "player_id=psn_SloshySole<br>day=%{x}<br>squad_spawns=%{y}<br>text=%{text}<extra></extra>",
         "legendgroup": "psn_SloshySole",
         "line": {
          "color": "#040404",
          "dash": "solid",
          "width": 4
         },
         "marker": {
          "symbol": "circle"
         },
         "mode": "lines+markers+text",
         "name": "psn_SloshySole",
         "orientation": "v",
         "showlegend": true,
         "text": [
          7.25,
          5.38,
          5.73,
          5.29,
          4.83,
          6.12,
          4.12
         ],
         "textposition": "bottom right",
         "type": "scatter",
         "x": [
          "2021-11-10T00:00:00",
          "2021-11-11T00:00:00",
          "2021-11-14T00:00:00",
          "2021-11-15T00:00:00",
          "2021-11-16T00:00:00",
          "2021-11-17T00:00:00",
          "2021-11-18T00:00:00"
         ],
         "xaxis": "x2",
         "y": [
          7.25,
          5.375,
          5.7272727272727275,
          5.285714285714286,
          4.833333333333333,
          6.125,
          4.125
         ],
         "yaxis": "y2"
        },
        {
         "hovertemplate": "player_id=psn_drumcon11<br>day=%{x}<br>squad_spawns=%{y}<br>text=%{text}<extra></extra>",
         "legendgroup": "psn_drumcon11",
         "line": {
          "color": "#F4E9C3",
          "dash": "solid",
          "width": 4
         },
         "marker": {
          "symbol": "circle"
         },
         "mode": "lines+markers+text",
         "name": "psn_drumcon11",
         "orientation": "v",
         "showlegend": true,
         "text": [
          4.88,
          5.2,
          0.75,
          3.71
         ],
         "textposition": "bottom right",
         "type": "scatter",
         "x": [
          "2021-11-10T00:00:00",
          "2021-11-11T00:00:00",
          "2021-11-14T00:00:00",
          "2021-11-15T00:00:00"
         ],
         "xaxis": "x2",
         "y": [
          4.875,
          5.2,
          0.75,
          3.7142857142857144
         ],
         "yaxis": "y2"
        },
        {
         "hovertemplate": "player_id=psn_mypremeclean<br>day=%{x}<br>squad_spawns=%{y}<br>text=%{text}<extra></extra>",
         "legendgroup": "psn_mypremeclean",
         "line": {
          "color": "#EF8B79",
          "dash": "solid",
          "width": 4
         },
         "marker": {
          "symbol": "circle"
         },
         "mode": "lines+markers+text",
         "name": "psn_mypremeclean",
         "orientation": "v",
         "showlegend": true,
         "text": [
          6.17,
          8.5,
          5.88
         ],
         "textposition": "bottom right",
         "type": "scatter",
         "x": [
          "2021-11-16T00:00:00",
          "2021-11-17T00:00:00",
          "2021-11-18T00:00:00"
         ],
         "xaxis": "x2",
         "y": [
          6.166666666666667,
          8.5,
          5.875
         ],
         "yaxis": "y2"
        }
       ],
       "layout": {
        "font": {
         "color": "grey",
         "family": "sans-serif"
        },
        "height": 600,
        "legend": {
         "title": {
          "font": {
           "color": "grey"
          }
         }
        },
        "paper_bgcolor": "#E9F2F1",
        "plot_bgcolor": "rgba(0,0,0,0)",
        "shapes": [
         {
          "line": {
           "color": "#00B551",
           "dash": "dash"
          },
          "opacity": 0.4,
          "type": "line",
          "x0": "2021-08-30T00:00:00",
          "x1": "2021-11-15T00:00:00",
          "xref": "x",
          "y0": 11,
          "y1": 11,
          "yref": "y"
         }
        ],
        "showlegend": false,
        "template": {
         "data": {
          "scatter": [
           {
            "type": "scatter"
           }
          ]
         }
        },
        "title": {
         "font": {
          "color": "black",
          "family": "sans-serif",
          "size": 20
         },
         "text": "<b>Squad Spawns Performance by Player, Last 60/21 Days</b>"
        },
        "width": 2000,
        "xaxis": {
         "anchor": "y",
         "domain": [
          0,
          0.45
         ]
        },
        "xaxis2": {
         "anchor": "y2",
         "domain": [
          0.55,
          1
         ]
        },
        "yaxis": {
         "anchor": "x",
         "domain": [
          0,
          1
         ]
        },
        "yaxis2": {
         "anchor": "x2",
         "domain": [
          0,
          1
         ]
        }
       }
      }
     },
     "metadata": {},
     "output_type": "display_data"
    },
    {
     "name": "stdout",
     "output_type": "stream",
     "text": [
      "Metric: Squad Wipes\n",
      "Top 1% 2.0 |   Top 5% 1.0 |   Top 10% 1.0 |  \n",
      "Current Leaderboard: \n",
      "  Average Performance    |     Peak Performance    \n",
      "==================================================\n",
      "1 | mypremeclean | 0.64  | 1 | GotYourBach  |   5  \n",
      "2 | SloshySole   | 0.59  | 2 | SloshySole   |   3  \n",
      "3 | GotYourBach  |  0.5  | 3 | mypremeclean |   3  \n",
      "4 | MissNemisis  | 0.44  | 4 | MissNemisis  |   2  \n",
      "5 | drumcon11    |  0.0  | 5 | drumcon11    |   0  \n"
     ]
    },
    {
     "data": {
      "application/vnd.plotly.v1+json": {
       "config": {
        "plotlyServerURL": "https://plot.ly"
       },
       "data": [
        {
         "hovertemplate": "player_id=psn_GotYourBach<br>week=%{x}<br>squad_wipes=%{y}<br>text=%{text}<extra></extra>",
         "legendgroup": "psn_GotYourBach",
         "line": {
          "color": "#0B6872",
          "dash": "solid",
          "width": 4
         },
         "marker": {
          "symbol": "circle"
         },
         "mode": "lines+markers+text",
         "name": "psn_GotYourBach",
         "orientation": "v",
         "showlegend": true,
         "text": [
          0.29,
          0.44,
          1.33,
          0,
          0.29,
          0.29,
          0.33,
          0.42,
          0.3,
          0.5
         ],
         "textposition": "bottom right",
         "type": "scatter",
         "x": [
          "2021-08-30T00:00:00",
          "2021-09-06T00:00:00",
          "2021-09-13T00:00:00",
          "2021-09-20T00:00:00",
          "2021-09-27T00:00:00",
          "2021-10-04T00:00:00",
          "2021-10-25T00:00:00",
          "2021-11-01T00:00:00",
          "2021-11-08T00:00:00",
          "2021-11-15T00:00:00"
         ],
         "xaxis": "x",
         "y": [
          0.2857142857142857,
          0.4444444444444444,
          1.3333333333333333,
          0,
          0.2857142857142857,
          0.2857142857142857,
          0.3333333333333333,
          0.4166666666666667,
          0.2962962962962963,
          0.5
         ],
         "yaxis": "y"
        },
        {
         "hovertemplate": "player_id=psn_MissNemisis<br>week=%{x}<br>squad_wipes=%{y}<br>text=%{text}<extra></extra>",
         "legendgroup": "psn_MissNemisis",
         "line": {
          "color": "#00D3BC",
          "dash": "solid",
          "width": 4
         },
         "marker": {
          "symbol": "circle"
         },
         "mode": "lines+markers+text",
         "name": "psn_MissNemisis",
         "orientation": "v",
         "showlegend": true,
         "text": [
          0.14,
          0.11,
          0.17,
          0.57,
          0.29,
          0.23,
          0,
          0.33,
          0.19,
          0.44
         ],
         "textposition": "bottom right",
         "type": "scatter",
         "x": [
          "2021-08-30T00:00:00",
          "2021-09-06T00:00:00",
          "2021-09-13T00:00:00",
          "2021-09-20T00:00:00",
          "2021-09-27T00:00:00",
          "2021-10-04T00:00:00",
          "2021-10-25T00:00:00",
          "2021-11-01T00:00:00",
          "2021-11-08T00:00:00",
          "2021-11-15T00:00:00"
         ],
         "xaxis": "x",
         "y": [
          0.14285714285714285,
          0.1111111111111111,
          0.16666666666666666,
          0.5714285714285714,
          0.2857142857142857,
          0.23076923076923078,
          0,
          0.3333333333333333,
          0.18518518518518517,
          0.4375
         ],
         "yaxis": "y"
        },
        {
         "hovertemplate": "player_id=psn_SloshySole<br>week=%{x}<br>squad_wipes=%{y}<br>text=%{text}<extra></extra>",
         "legendgroup": "psn_SloshySole",
         "line": {
          "color": "#040404",
          "dash": "solid",
          "width": 4
         },
         "marker": {
          "symbol": "circle"
         },
         "mode": "lines+markers+text",
         "name": "psn_SloshySole",
         "orientation": "v",
         "showlegend": true,
         "text": [
          0.29,
          0.33,
          0.6,
          0.14,
          0,
          0.1,
          0.53,
          0.4,
          0.47,
          0.18,
          0.26,
          0.59
         ],
         "textposition": "bottom right",
         "type": "scatter",
         "x": [
          "2021-08-30T00:00:00",
          "2021-09-06T00:00:00",
          "2021-09-13T00:00:00",
          "2021-09-20T00:00:00",
          "2021-09-27T00:00:00",
          "2021-10-04T00:00:00",
          "2021-10-11T00:00:00",
          "2021-10-18T00:00:00",
          "2021-10-25T00:00:00",
          "2021-11-01T00:00:00",
          "2021-11-08T00:00:00",
          "2021-11-15T00:00:00"
         ],
         "xaxis": "x",
         "y": [
          0.2857142857142857,
          0.3333333333333333,
          0.6,
          0.14285714285714285,
          0,
          0.1,
          0.5263157894736842,
          0.4,
          0.47058823529411764,
          0.17647058823529413,
          0.25925925925925924,
          0.5862068965517241
         ],
         "yaxis": "y"
        },
        {
         "hovertemplate": "player_id=psn_drumcon11<br>week=%{x}<br>squad_wipes=%{y}<br>text=%{text}<extra></extra>",
         "legendgroup": "psn_drumcon11",
         "line": {
          "color": "#F4E9C3",
          "dash": "solid",
          "width": 4
         },
         "marker": {
          "symbol": "circle"
         },
         "mode": "lines+markers+text",
         "name": "psn_drumcon11",
         "orientation": "v",
         "showlegend": true,
         "text": [
          0.17,
          0,
          0.3,
          0.25,
          0.08,
          0.15,
          0.07,
          0.24,
          0
         ],
         "textposition": "bottom right",
         "type": "scatter",
         "x": [
          "2021-09-06T00:00:00",
          "2021-09-20T00:00:00",
          "2021-10-04T00:00:00",
          "2021-10-11T00:00:00",
          "2021-10-18T00:00:00",
          "2021-10-25T00:00:00",
          "2021-11-01T00:00:00",
          "2021-11-08T00:00:00",
          "2021-11-15T00:00:00"
         ],
         "xaxis": "x",
         "y": [
          0.16666666666666666,
          0,
          0.3,
          0.25,
          0.07692307692307693,
          0.15384615384615385,
          0.06666666666666667,
          0.23529411764705882,
          0
         ],
         "yaxis": "y"
        },
        {
         "hovertemplate": "player_id=psn_mypremeclean<br>week=%{x}<br>squad_wipes=%{y}<br>text=%{text}<extra></extra>",
         "legendgroup": "psn_mypremeclean",
         "line": {
          "color": "#EF8B79",
          "dash": "solid",
          "width": 4
         },
         "marker": {
          "symbol": "circle"
         },
         "mode": "lines+markers+text",
         "name": "psn_mypremeclean",
         "orientation": "v",
         "showlegend": true,
         "text": [
          0.29,
          0.21,
          0.27,
          0,
          0.17,
          0.64
         ],
         "textposition": "bottom right",
         "type": "scatter",
         "x": [
          "2021-10-04T00:00:00",
          "2021-10-11T00:00:00",
          "2021-10-18T00:00:00",
          "2021-10-25T00:00:00",
          "2021-11-01T00:00:00",
          "2021-11-15T00:00:00"
         ],
         "xaxis": "x",
         "y": [
          0.2857142857142857,
          0.21052631578947367,
          0.26666666666666666,
          0,
          0.16666666666666666,
          0.6363636363636364
         ],
         "yaxis": "y"
        },
        {
         "hovertemplate": "player_id=psn_GotYourBach<br>day=%{x}<br>squad_wipes=%{y}<br>text=%{text}<extra></extra>",
         "legendgroup": "psn_GotYourBach",
         "line": {
          "color": "#0B6872",
          "dash": "solid",
          "width": 4
         },
         "marker": {
          "symbol": "circle"
         },
         "mode": "lines+markers+text",
         "name": "psn_GotYourBach",
         "orientation": "v",
         "showlegend": true,
         "text": [
          0,
          0.38,
          0.45,
          0.88,
          0.12
         ],
         "textposition": "bottom right",
         "type": "scatter",
         "x": [
          "2021-11-10T00:00:00",
          "2021-11-11T00:00:00",
          "2021-11-14T00:00:00",
          "2021-11-17T00:00:00",
          "2021-11-18T00:00:00"
         ],
         "xaxis": "x2",
         "y": [
          0,
          0.375,
          0.45454545454545453,
          0.875,
          0.125
         ],
         "yaxis": "y2"
        },
        {
         "hovertemplate": "player_id=psn_MissNemisis<br>day=%{x}<br>squad_wipes=%{y}<br>text=%{text}<extra></extra>",
         "legendgroup": "psn_MissNemisis",
         "line": {
          "color": "#00D3BC",
          "dash": "solid",
          "width": 4
         },
         "marker": {
          "symbol": "circle"
         },
         "mode": "lines+markers+text",
         "name": "psn_MissNemisis",
         "orientation": "v",
         "showlegend": true,
         "text": [
          0.12,
          0.38,
          0.09,
          0.62,
          0.25
         ],
         "textposition": "bottom right",
         "type": "scatter",
         "x": [
          "2021-11-10T00:00:00",
          "2021-11-11T00:00:00",
          "2021-11-14T00:00:00",
          "2021-11-17T00:00:00",
          "2021-11-18T00:00:00"
         ],
         "xaxis": "x2",
         "y": [
          0.125,
          0.375,
          0.09090909090909091,
          0.625,
          0.25
         ],
         "yaxis": "y2"
        },
        {
         "hovertemplate": "player_id=psn_SloshySole<br>day=%{x}<br>squad_wipes=%{y}<br>text=%{text}<extra></extra>",
         "legendgroup": "psn_SloshySole",
         "line": {
          "color": "#040404",
          "dash": "solid",
          "width": 4
         },
         "marker": {
          "symbol": "circle"
         },
         "mode": "lines+markers+text",
         "name": "psn_SloshySole",
         "orientation": "v",
         "showlegend": true,
         "text": [
          0,
          0.62,
          0.18,
          0.43,
          0.83,
          0.62,
          0.5
         ],
         "textposition": "bottom right",
         "type": "scatter",
         "x": [
          "2021-11-10T00:00:00",
          "2021-11-11T00:00:00",
          "2021-11-14T00:00:00",
          "2021-11-15T00:00:00",
          "2021-11-16T00:00:00",
          "2021-11-17T00:00:00",
          "2021-11-18T00:00:00"
         ],
         "xaxis": "x2",
         "y": [
          0,
          0.625,
          0.18181818181818182,
          0.42857142857142855,
          0.8333333333333334,
          0.625,
          0.5
         ],
         "yaxis": "y2"
        },
        {
         "hovertemplate": "player_id=psn_drumcon11<br>day=%{x}<br>squad_wipes=%{y}<br>text=%{text}<extra></extra>",
         "legendgroup": "psn_drumcon11",
         "line": {
          "color": "#F4E9C3",
          "dash": "solid",
          "width": 4
         },
         "marker": {
          "symbol": "circle"
         },
         "mode": "lines+markers+text",
         "name": "psn_drumcon11",
         "orientation": "v",
         "showlegend": true,
         "text": [
          0.12,
          0.4,
          0.25,
          0
         ],
         "textposition": "bottom right",
         "type": "scatter",
         "x": [
          "2021-11-10T00:00:00",
          "2021-11-11T00:00:00",
          "2021-11-14T00:00:00",
          "2021-11-15T00:00:00"
         ],
         "xaxis": "x2",
         "y": [
          0.125,
          0.4,
          0.25,
          0
         ],
         "yaxis": "y2"
        },
        {
         "hovertemplate": "player_id=psn_mypremeclean<br>day=%{x}<br>squad_wipes=%{y}<br>text=%{text}<extra></extra>",
         "legendgroup": "psn_mypremeclean",
         "line": {
          "color": "#EF8B79",
          "dash": "solid",
          "width": 4
         },
         "marker": {
          "symbol": "circle"
         },
         "mode": "lines+markers+text",
         "name": "psn_mypremeclean",
         "orientation": "v",
         "showlegend": true,
         "text": [
          0.67,
          0.75,
          0.5
         ],
         "textposition": "bottom right",
         "type": "scatter",
         "x": [
          "2021-11-16T00:00:00",
          "2021-11-17T00:00:00",
          "2021-11-18T00:00:00"
         ],
         "xaxis": "x2",
         "y": [
          0.6666666666666666,
          0.75,
          0.5
         ],
         "yaxis": "y2"
        }
       ],
       "layout": {
        "font": {
         "color": "grey",
         "family": "sans-serif"
        },
        "height": 600,
        "legend": {
         "title": {
          "font": {
           "color": "grey"
          }
         }
        },
        "paper_bgcolor": "#E9F2F1",
        "plot_bgcolor": "rgba(0,0,0,0)",
        "shapes": [
         {
          "line": {
           "color": "#00B551",
           "dash": "dash"
          },
          "opacity": 0.4,
          "type": "line",
          "x0": "2021-08-30T00:00:00",
          "x1": "2021-11-15T00:00:00",
          "xref": "x",
          "y0": 1,
          "y1": 1,
          "yref": "y"
         }
        ],
        "showlegend": false,
        "template": {
         "data": {
          "scatter": [
           {
            "type": "scatter"
           }
          ]
         }
        },
        "title": {
         "font": {
          "color": "black",
          "family": "sans-serif",
          "size": 20
         },
         "text": "<b>Squad Wipes Performance by Player, Last 60/21 Days</b>"
        },
        "width": 2000,
        "xaxis": {
         "anchor": "y",
         "domain": [
          0,
          0.45
         ]
        },
        "xaxis2": {
         "anchor": "y2",
         "domain": [
          0.55,
          1
         ]
        },
        "yaxis": {
         "anchor": "x",
         "domain": [
          0,
          1
         ]
        },
        "yaxis2": {
         "anchor": "x2",
         "domain": [
          0,
          1
         ]
        }
       }
      }
     },
     "metadata": {},
     "output_type": "display_data"
    },
    {
     "name": "stdout",
     "output_type": "stream",
     "text": [
      "Metric: Orders Completed\n",
      "Top 1% 15.0 |  Top 5% 9.0 |   Top 10% 7.0 |  \n",
      "Current Leaderboard: \n",
      "  Average Performance    |     Peak Performance    \n",
      "==================================================\n",
      "1 | MissNemisis  | 7.75  | 1 | GotYourBach  |  17  \n",
      "2 | GotYourBach  | 7.69  | 2 | MissNemisis  |  17  \n",
      "3 | mypremeclean | 6.86  | 3 | SloshySole   |  17  \n",
      "4 | SloshySole   | 6.14  | 4 | mypremeclean |  17  \n",
      "5 | drumcon11    | 3.86  | 5 | drumcon11    |   6  \n"
     ]
    },
    {
     "data": {
      "application/vnd.plotly.v1+json": {
       "config": {
        "plotlyServerURL": "https://plot.ly"
       },
       "data": [
        {
         "hovertemplate": "player_id=psn_GotYourBach<br>week=%{x}<br>orders_completed=%{y}<br>text=%{text}<extra></extra>",
         "legendgroup": "psn_GotYourBach",
         "line": {
          "color": "#0B6872",
          "dash": "solid",
          "width": 4
         },
         "marker": {
          "symbol": "circle"
         },
         "mode": "lines+markers+text",
         "name": "psn_GotYourBach",
         "orientation": "v",
         "showlegend": true,
         "text": [
          7.43,
          5.89,
          7.17,
          3,
          4,
          4.86,
          5.78,
          6.17,
          5.78,
          7.69
         ],
         "textposition": "bottom right",
         "type": "scatter",
         "x": [
          "2021-08-30T00:00:00",
          "2021-09-06T00:00:00",
          "2021-09-13T00:00:00",
          "2021-09-20T00:00:00",
          "2021-09-27T00:00:00",
          "2021-10-04T00:00:00",
          "2021-10-25T00:00:00",
          "2021-11-01T00:00:00",
          "2021-11-08T00:00:00",
          "2021-11-15T00:00:00"
         ],
         "xaxis": "x",
         "y": [
          7.428571428571429,
          5.888888888888889,
          7.166666666666667,
          3,
          4,
          4.857142857142857,
          5.777777777777778,
          6.166666666666667,
          5.777777777777778,
          7.6875
         ],
         "yaxis": "y"
        },
        {
         "hovertemplate": "player_id=psn_MissNemisis<br>week=%{x}<br>orders_completed=%{y}<br>text=%{text}<extra></extra>",
         "legendgroup": "psn_MissNemisis",
         "line": {
          "color": "#00D3BC",
          "dash": "solid",
          "width": 4
         },
         "marker": {
          "symbol": "circle"
         },
         "mode": "lines+markers+text",
         "name": "psn_MissNemisis",
         "orientation": "v",
         "showlegend": true,
         "text": [
          7.43,
          5.89,
          7,
          3,
          4,
          5.15,
          5.78,
          6.17,
          5.78,
          7.75
         ],
         "textposition": "bottom right",
         "type": "scatter",
         "x": [
          "2021-08-30T00:00:00",
          "2021-09-06T00:00:00",
          "2021-09-13T00:00:00",
          "2021-09-20T00:00:00",
          "2021-09-27T00:00:00",
          "2021-10-04T00:00:00",
          "2021-10-25T00:00:00",
          "2021-11-01T00:00:00",
          "2021-11-08T00:00:00",
          "2021-11-15T00:00:00"
         ],
         "xaxis": "x",
         "y": [
          7.428571428571429,
          5.888888888888889,
          7,
          3,
          4,
          5.153846153846154,
          5.777777777777778,
          6.166666666666667,
          5.777777777777778,
          7.75
         ],
         "yaxis": "y"
        },
        {
         "hovertemplate": "player_id=psn_SloshySole<br>week=%{x}<br>orders_completed=%{y}<br>text=%{text}<extra></extra>",
         "legendgroup": "psn_SloshySole",
         "line": {
          "color": "#040404",
          "dash": "solid",
          "width": 4
         },
         "marker": {
          "symbol": "circle"
         },
         "mode": "lines+markers+text",
         "name": "psn_SloshySole",
         "orientation": "v",
         "showlegend": true,
         "text": [
          7.43,
          5.89,
          8.4,
          3,
          4,
          3.95,
          2.95,
          4.27,
          6.71,
          6,
          5.78,
          6.14
         ],
         "textposition": "bottom right",
         "type": "scatter",
         "x": [
          "2021-08-30T00:00:00",
          "2021-09-06T00:00:00",
          "2021-09-13T00:00:00",
          "2021-09-20T00:00:00",
          "2021-09-27T00:00:00",
          "2021-10-04T00:00:00",
          "2021-10-11T00:00:00",
          "2021-10-18T00:00:00",
          "2021-10-25T00:00:00",
          "2021-11-01T00:00:00",
          "2021-11-08T00:00:00",
          "2021-11-15T00:00:00"
         ],
         "xaxis": "x",
         "y": [
          7.428571428571429,
          5.888888888888889,
          8.4,
          3,
          4,
          3.95,
          2.9473684210526314,
          4.266666666666667,
          6.705882352941177,
          6,
          5.777777777777778,
          6.137931034482759
         ],
         "yaxis": "y"
        },
        {
         "hovertemplate": "player_id=psn_drumcon11<br>week=%{x}<br>orders_completed=%{y}<br>text=%{text}<extra></extra>",
         "legendgroup": "psn_drumcon11",
         "line": {
          "color": "#F4E9C3",
          "dash": "solid",
          "width": 4
         },
         "marker": {
          "symbol": "circle"
         },
         "mode": "lines+markers+text",
         "name": "psn_drumcon11",
         "orientation": "v",
         "showlegend": true,
         "text": [
          7.5,
          2.6,
          5.4,
          5.5,
          3.85,
          5.31,
          5.73,
          5.76,
          3.86
         ],
         "textposition": "bottom right",
         "type": "scatter",
         "x": [
          "2021-09-06T00:00:00",
          "2021-09-20T00:00:00",
          "2021-10-04T00:00:00",
          "2021-10-11T00:00:00",
          "2021-10-18T00:00:00",
          "2021-10-25T00:00:00",
          "2021-11-01T00:00:00",
          "2021-11-08T00:00:00",
          "2021-11-15T00:00:00"
         ],
         "xaxis": "x",
         "y": [
          7.5,
          2.6,
          5.4,
          5.5,
          3.8461538461538463,
          5.3076923076923075,
          5.733333333333333,
          5.764705882352941,
          3.857142857142857
         ],
         "yaxis": "y"
        },
        {
         "hovertemplate": "player_id=psn_mypremeclean<br>week=%{x}<br>orders_completed=%{y}<br>text=%{text}<extra></extra>",
         "legendgroup": "psn_mypremeclean",
         "line": {
          "color": "#EF8B79",
          "dash": "solid",
          "width": 4
         },
         "marker": {
          "symbol": "circle"
         },
         "mode": "lines+markers+text",
         "name": "psn_mypremeclean",
         "orientation": "v",
         "showlegend": true,
         "text": [
          1.71,
          2.95,
          4.27,
          7.75,
          6.67,
          6.86
         ],
         "textposition": "bottom right",
         "type": "scatter",
         "x": [
          "2021-10-04T00:00:00",
          "2021-10-11T00:00:00",
          "2021-10-18T00:00:00",
          "2021-10-25T00:00:00",
          "2021-11-01T00:00:00",
          "2021-11-15T00:00:00"
         ],
         "xaxis": "x",
         "y": [
          1.7142857142857142,
          2.9473684210526314,
          4.266666666666667,
          7.75,
          6.666666666666667,
          6.863636363636363
         ],
         "yaxis": "y"
        },
        {
         "hovertemplate": "player_id=psn_GotYourBach<br>day=%{x}<br>orders_completed=%{y}<br>text=%{text}<extra></extra>",
         "legendgroup": "psn_GotYourBach",
         "line": {
          "color": "#0B6872",
          "dash": "solid",
          "width": 4
         },
         "marker": {
          "symbol": "circle"
         },
         "mode": "lines+markers+text",
         "name": "psn_GotYourBach",
         "orientation": "v",
         "showlegend": true,
         "text": [
          5.5,
          7.12,
          5,
          8.75,
          6.62
         ],
         "textposition": "bottom right",
         "type": "scatter",
         "x": [
          "2021-11-10T00:00:00",
          "2021-11-11T00:00:00",
          "2021-11-14T00:00:00",
          "2021-11-17T00:00:00",
          "2021-11-18T00:00:00"
         ],
         "xaxis": "x2",
         "y": [
          5.5,
          7.125,
          5,
          8.75,
          6.625
         ],
         "yaxis": "y2"
        },
        {
         "hovertemplate": "player_id=psn_MissNemisis<br>day=%{x}<br>orders_completed=%{y}<br>text=%{text}<extra></extra>",
         "legendgroup": "psn_MissNemisis",
         "line": {
          "color": "#00D3BC",
          "dash": "solid",
          "width": 4
         },
         "marker": {
          "symbol": "circle"
         },
         "mode": "lines+markers+text",
         "name": "psn_MissNemisis",
         "orientation": "v",
         "showlegend": true,
         "text": [
          5.5,
          7.12,
          5,
          8.75,
          6.75
         ],
         "textposition": "bottom right",
         "type": "scatter",
         "x": [
          "2021-11-10T00:00:00",
          "2021-11-11T00:00:00",
          "2021-11-14T00:00:00",
          "2021-11-17T00:00:00",
          "2021-11-18T00:00:00"
         ],
         "xaxis": "x2",
         "y": [
          5.5,
          7.125,
          5,
          8.75,
          6.75
         ],
         "yaxis": "y2"
        },
        {
         "hovertemplate": "player_id=psn_SloshySole<br>day=%{x}<br>orders_completed=%{y}<br>text=%{text}<extra></extra>",
         "legendgroup": "psn_SloshySole",
         "line": {
          "color": "#040404",
          "dash": "solid",
          "width": 4
         },
         "marker": {
          "symbol": "circle"
         },
         "mode": "lines+markers+text",
         "name": "psn_SloshySole",
         "orientation": "v",
         "showlegend": true,
         "text": [
          5.5,
          7.12,
          5,
          3.86,
          4.67,
          8.75,
          6.62
         ],
         "textposition": "bottom right",
         "type": "scatter",
         "x": [
          "2021-11-10T00:00:00",
          "2021-11-11T00:00:00",
          "2021-11-14T00:00:00",
          "2021-11-15T00:00:00",
          "2021-11-16T00:00:00",
          "2021-11-17T00:00:00",
          "2021-11-18T00:00:00"
         ],
         "xaxis": "x2",
         "y": [
          5.5,
          7.125,
          5,
          3.857142857142857,
          4.666666666666667,
          8.75,
          6.625
         ],
         "yaxis": "y2"
        },
        {
         "hovertemplate": "player_id=psn_drumcon11<br>day=%{x}<br>orders_completed=%{y}<br>text=%{text}<extra></extra>",
         "legendgroup": "psn_drumcon11",
         "line": {
          "color": "#F4E9C3",
          "dash": "solid",
          "width": 4
         },
         "marker": {
          "symbol": "circle"
         },
         "mode": "lines+markers+text",
         "name": "psn_drumcon11",
         "orientation": "v",
         "showlegend": true,
         "text": [
          5.38,
          7,
          5,
          3.86
         ],
         "textposition": "bottom right",
         "type": "scatter",
         "x": [
          "2021-11-10T00:00:00",
          "2021-11-11T00:00:00",
          "2021-11-14T00:00:00",
          "2021-11-15T00:00:00"
         ],
         "xaxis": "x2",
         "y": [
          5.375,
          7,
          5,
          3.857142857142857
         ],
         "yaxis": "y2"
        },
        {
         "hovertemplate": "player_id=psn_mypremeclean<br>day=%{x}<br>orders_completed=%{y}<br>text=%{text}<extra></extra>",
         "legendgroup": "psn_mypremeclean",
         "line": {
          "color": "#EF8B79",
          "dash": "solid",
          "width": 4
         },
         "marker": {
          "symbol": "circle"
         },
         "mode": "lines+markers+text",
         "name": "psn_mypremeclean",
         "orientation": "v",
         "showlegend": true,
         "text": [
          4.67,
          8.75,
          6.62
         ],
         "textposition": "bottom right",
         "type": "scatter",
         "x": [
          "2021-11-16T00:00:00",
          "2021-11-17T00:00:00",
          "2021-11-18T00:00:00"
         ],
         "xaxis": "x2",
         "y": [
          4.666666666666667,
          8.75,
          6.625
         ],
         "yaxis": "y2"
        }
       ],
       "layout": {
        "font": {
         "color": "grey",
         "family": "sans-serif"
        },
        "height": 600,
        "legend": {
         "title": {
          "font": {
           "color": "grey"
          }
         }
        },
        "paper_bgcolor": "#E9F2F1",
        "plot_bgcolor": "rgba(0,0,0,0)",
        "shapes": [
         {
          "line": {
           "color": "#00B551",
           "dash": "dash"
          },
          "opacity": 0.4,
          "type": "line",
          "x0": "2021-08-30T00:00:00",
          "x1": "2021-11-15T00:00:00",
          "xref": "x",
          "y0": 7,
          "y1": 7,
          "yref": "y"
         }
        ],
        "showlegend": false,
        "template": {
         "data": {
          "scatter": [
           {
            "type": "scatter"
           }
          ]
         }
        },
        "title": {
         "font": {
          "color": "black",
          "family": "sans-serif",
          "size": 20
         },
         "text": "<b>Orders Completed Performance by Player, Last 60/21 Days</b>"
        },
        "width": 2000,
        "xaxis": {
         "anchor": "y",
         "domain": [
          0,
          0.45
         ]
        },
        "xaxis2": {
         "anchor": "y2",
         "domain": [
          0.55,
          1
         ]
        },
        "yaxis": {
         "anchor": "x",
         "domain": [
          0,
          1
         ]
        },
        "yaxis2": {
         "anchor": "x2",
         "domain": [
          0,
          1
         ]
        }
       }
      }
     },
     "metadata": {},
     "output_type": "display_data"
    },
    {
     "name": "stdout",
     "output_type": "stream",
     "text": [
      "Metric: Overall Rank\n",
      "Top 1% 93.0 |  Top 5% 78.0 |  Top 10% 71.0 | \n",
      "Current Leaderboard: \n",
      "  Average Performance    |     Peak Performance    \n",
      "==================================================\n",
      "1 | drumcon11    | 36.86 | 1 | mypremeclean |  74  \n",
      "2 | mypremeclean | 23.41 | 2 | GotYourBach  |  68  \n",
      "3 | SloshySole   | 11.62 | 3 | SloshySole   |  67  \n",
      "4 | GotYourBach  | 11.06 | 4 | MissNemisis  |  63  \n",
      "5 | MissNemisis  | 10.19 | 5 | drumcon11    |  52  \n"
     ]
    },
    {
     "data": {
      "application/vnd.plotly.v1+json": {
       "config": {
        "plotlyServerURL": "https://plot.ly"
       },
       "data": [
        {
         "hovertemplate": "player_id=psn_GotYourBach<br>week=%{x}<br>overall_rank=%{y}<br>text=%{text}<extra></extra>",
         "legendgroup": "psn_GotYourBach",
         "line": {
          "color": "#0B6872",
          "dash": "solid",
          "width": 4
         },
         "marker": {
          "symbol": "circle"
         },
         "mode": "lines+markers+text",
         "name": "psn_GotYourBach",
         "orientation": "v",
         "showlegend": true,
         "text": [
          4.57,
          25.11,
          11,
          14.86,
          20.43,
          17.79,
          20.11,
          18.83,
          19.52,
          11.06
         ],
         "textposition": "bottom right",
         "type": "scatter",
         "x": [
          "2021-08-30T00:00:00",
          "2021-09-06T00:00:00",
          "2021-09-13T00:00:00",
          "2021-09-20T00:00:00",
          "2021-09-27T00:00:00",
          "2021-10-04T00:00:00",
          "2021-10-25T00:00:00",
          "2021-11-01T00:00:00",
          "2021-11-08T00:00:00",
          "2021-11-15T00:00:00"
         ],
         "xaxis": "x",
         "y": [
          4.571428571428571,
          25.11111111111111,
          11,
          14.857142857142858,
          20.428571428571427,
          17.785714285714285,
          20.11111111111111,
          18.833333333333332,
          19.51851851851852,
          11.0625
         ],
         "yaxis": "y"
        },
        {
         "hovertemplate": "player_id=psn_MissNemisis<br>week=%{x}<br>overall_rank=%{y}<br>text=%{text}<extra></extra>",
         "legendgroup": "psn_MissNemisis",
         "line": {
          "color": "#00D3BC",
          "dash": "solid",
          "width": 4
         },
         "marker": {
          "symbol": "circle"
         },
         "mode": "lines+markers+text",
         "name": "psn_MissNemisis",
         "orientation": "v",
         "showlegend": true,
         "text": [
          7.57,
          28.56,
          18.5,
          23,
          19.57,
          20.38,
          21.56,
          21.5,
          19.26,
          10.19
         ],
         "textposition": "bottom right",
         "type": "scatter",
         "x": [
          "2021-08-30T00:00:00",
          "2021-09-06T00:00:00",
          "2021-09-13T00:00:00",
          "2021-09-20T00:00:00",
          "2021-09-27T00:00:00",
          "2021-10-04T00:00:00",
          "2021-10-25T00:00:00",
          "2021-11-01T00:00:00",
          "2021-11-08T00:00:00",
          "2021-11-15T00:00:00"
         ],
         "xaxis": "x",
         "y": [
          7.571428571428571,
          28.555555555555557,
          18.5,
          23,
          19.571428571428573,
          20.384615384615383,
          21.555555555555557,
          21.5,
          19.25925925925926,
          10.1875
         ],
         "yaxis": "y"
        },
        {
         "hovertemplate": "player_id=psn_SloshySole<br>week=%{x}<br>overall_rank=%{y}<br>text=%{text}<extra></extra>",
         "legendgroup": "psn_SloshySole",
         "line": {
          "color": "#040404",
          "dash": "solid",
          "width": 4
         },
         "marker": {
          "symbol": "circle"
         },
         "mode": "lines+markers+text",
         "name": "psn_SloshySole",
         "orientation": "v",
         "showlegend": true,
         "text": [
          8.43,
          29.56,
          6.6,
          10.29,
          17.14,
          14,
          11.79,
          12.53,
          11.41,
          9.18,
          17.48,
          11.62
         ],
         "textposition": "bottom right",
         "type": "scatter",
         "x": [
          "2021-08-30T00:00:00",
          "2021-09-06T00:00:00",
          "2021-09-13T00:00:00",
          "2021-09-20T00:00:00",
          "2021-09-27T00:00:00",
          "2021-10-04T00:00:00",
          "2021-10-11T00:00:00",
          "2021-10-18T00:00:00",
          "2021-10-25T00:00:00",
          "2021-11-01T00:00:00",
          "2021-11-08T00:00:00",
          "2021-11-15T00:00:00"
         ],
         "xaxis": "x",
         "y": [
          8.428571428571429,
          29.555555555555557,
          6.6,
          10.285714285714286,
          17.142857142857142,
          14,
          11.789473684210526,
          12.533333333333333,
          11.411764705882353,
          9.176470588235293,
          17.48148148148148,
          11.620689655172415
         ],
         "yaxis": "y"
        },
        {
         "hovertemplate": "player_id=psn_drumcon11<br>week=%{x}<br>overall_rank=%{y}<br>text=%{text}<extra></extra>",
         "legendgroup": "psn_drumcon11",
         "line": {
          "color": "#F4E9C3",
          "dash": "solid",
          "width": 4
         },
         "marker": {
          "symbol": "circle"
         },
         "mode": "lines+markers+text",
         "name": "psn_drumcon11",
         "orientation": "v",
         "showlegend": true,
         "text": [
          36.17,
          48,
          29.4,
          37.25,
          36.08,
          34.62,
          31.2,
          33,
          36.86
         ],
         "textposition": "bottom right",
         "type": "scatter",
         "x": [
          "2021-09-06T00:00:00",
          "2021-09-20T00:00:00",
          "2021-10-04T00:00:00",
          "2021-10-11T00:00:00",
          "2021-10-18T00:00:00",
          "2021-10-25T00:00:00",
          "2021-11-01T00:00:00",
          "2021-11-08T00:00:00",
          "2021-11-15T00:00:00"
         ],
         "xaxis": "x",
         "y": [
          36.166666666666664,
          48,
          29.4,
          37.25,
          36.07692307692308,
          34.61538461538461,
          31.2,
          33,
          36.857142857142854
         ],
         "yaxis": "y"
        },
        {
         "hovertemplate": "player_id=psn_mypremeclean<br>week=%{x}<br>overall_rank=%{y}<br>text=%{text}<extra></extra>",
         "legendgroup": "psn_mypremeclean",
         "line": {
          "color": "#EF8B79",
          "dash": "solid",
          "width": 4
         },
         "marker": {
          "symbol": "circle"
         },
         "mode": "lines+markers+text",
         "name": "psn_mypremeclean",
         "orientation": "v",
         "showlegend": true,
         "text": [
          28.43,
          21.53,
          23.13,
          18.88,
          20.92,
          23.41
         ],
         "textposition": "bottom right",
         "type": "scatter",
         "x": [
          "2021-10-04T00:00:00",
          "2021-10-11T00:00:00",
          "2021-10-18T00:00:00",
          "2021-10-25T00:00:00",
          "2021-11-01T00:00:00",
          "2021-11-15T00:00:00"
         ],
         "xaxis": "x",
         "y": [
          28.428571428571427,
          21.526315789473685,
          23.133333333333333,
          18.875,
          20.916666666666668,
          23.40909090909091
         ],
         "yaxis": "y"
        },
        {
         "hovertemplate": "player_id=psn_GotYourBach<br>day=%{x}<br>overall_rank=%{y}<br>text=%{text}<extra></extra>",
         "legendgroup": "psn_GotYourBach",
         "line": {
          "color": "#0B6872",
          "dash": "solid",
          "width": 4
         },
         "marker": {
          "symbol": "circle"
         },
         "mode": "lines+markers+text",
         "name": "psn_GotYourBach",
         "orientation": "v",
         "showlegend": true,
         "text": [
          21,
          11.62,
          24.18,
          8.75,
          13.38
         ],
         "textposition": "bottom right",
         "type": "scatter",
         "x": [
          "2021-11-10T00:00:00",
          "2021-11-11T00:00:00",
          "2021-11-14T00:00:00",
          "2021-11-17T00:00:00",
          "2021-11-18T00:00:00"
         ],
         "xaxis": "x2",
         "y": [
          21,
          11.625,
          24.181818181818183,
          8.75,
          13.375
         ],
         "yaxis": "y2"
        },
        {
         "hovertemplate": "player_id=psn_MissNemisis<br>day=%{x}<br>overall_rank=%{y}<br>text=%{text}<extra></extra>",
         "legendgroup": "psn_MissNemisis",
         "line": {
          "color": "#00D3BC",
          "dash": "solid",
          "width": 4
         },
         "marker": {
          "symbol": "circle"
         },
         "mode": "lines+markers+text",
         "name": "psn_MissNemisis",
         "orientation": "v",
         "showlegend": true,
         "text": [
          19.88,
          14.88,
          22,
          4.88,
          15.5
         ],
         "textposition": "bottom right",
         "type": "scatter",
         "x": [
          "2021-11-10T00:00:00",
          "2021-11-11T00:00:00",
          "2021-11-14T00:00:00",
          "2021-11-17T00:00:00",
          "2021-11-18T00:00:00"
         ],
         "xaxis": "x2",
         "y": [
          19.875,
          14.875,
          22,
          4.875,
          15.5
         ],
         "yaxis": "y2"
        },
        {
         "hovertemplate": "player_id=psn_SloshySole<br>day=%{x}<br>overall_rank=%{y}<br>text=%{text}<extra></extra>",
         "legendgroup": "psn_SloshySole",
         "line": {
          "color": "#040404",
          "dash": "solid",
          "width": 4
         },
         "marker": {
          "symbol": "circle"
         },
         "mode": "lines+markers+text",
         "name": "psn_SloshySole",
         "orientation": "v",
         "showlegend": true,
         "text": [
          20.88,
          9.5,
          20.82,
          13.71,
          19.33,
          3.25,
          12.38
         ],
         "textposition": "bottom right",
         "type": "scatter",
         "x": [
          "2021-11-10T00:00:00",
          "2021-11-11T00:00:00",
          "2021-11-14T00:00:00",
          "2021-11-15T00:00:00",
          "2021-11-16T00:00:00",
          "2021-11-17T00:00:00",
          "2021-11-18T00:00:00"
         ],
         "xaxis": "x2",
         "y": [
          20.875,
          9.5,
          20.818181818181817,
          13.714285714285714,
          19.333333333333332,
          3.25,
          12.375
         ],
         "yaxis": "y2"
        },
        {
         "hovertemplate": "player_id=psn_drumcon11<br>day=%{x}<br>overall_rank=%{y}<br>text=%{text}<extra></extra>",
         "legendgroup": "psn_drumcon11",
         "line": {
          "color": "#F4E9C3",
          "dash": "solid",
          "width": 4
         },
         "marker": {
          "symbol": "circle"
         },
         "mode": "lines+markers+text",
         "name": "psn_drumcon11",
         "orientation": "v",
         "showlegend": true,
         "text": [
          32.5,
          27.8,
          40.5,
          36.86
         ],
         "textposition": "bottom right",
         "type": "scatter",
         "x": [
          "2021-11-10T00:00:00",
          "2021-11-11T00:00:00",
          "2021-11-14T00:00:00",
          "2021-11-15T00:00:00"
         ],
         "xaxis": "x2",
         "y": [
          32.5,
          27.8,
          40.5,
          36.857142857142854
         ],
         "yaxis": "y2"
        },
        {
         "hovertemplate": "player_id=psn_mypremeclean<br>day=%{x}<br>overall_rank=%{y}<br>text=%{text}<extra></extra>",
         "legendgroup": "psn_mypremeclean",
         "line": {
          "color": "#EF8B79",
          "dash": "solid",
          "width": 4
         },
         "marker": {
          "symbol": "circle"
         },
         "mode": "lines+markers+text",
         "name": "psn_mypremeclean",
         "orientation": "v",
         "showlegend": true,
         "text": [
          30.5,
          20.5,
          21
         ],
         "textposition": "bottom right",
         "type": "scatter",
         "x": [
          "2021-11-16T00:00:00",
          "2021-11-17T00:00:00",
          "2021-11-18T00:00:00"
         ],
         "xaxis": "x2",
         "y": [
          30.5,
          20.5,
          21
         ],
         "yaxis": "y2"
        }
       ],
       "layout": {
        "font": {
         "color": "grey",
         "family": "sans-serif"
        },
        "height": 600,
        "legend": {
         "title": {
          "font": {
           "color": "grey"
          }
         }
        },
        "paper_bgcolor": "#E9F2F1",
        "plot_bgcolor": "rgba(0,0,0,0)",
        "shapes": [
         {
          "line": {
           "color": "#00B551",
           "dash": "dash"
          },
          "opacity": 0.4,
          "type": "line",
          "x0": "2021-08-30T00:00:00",
          "x1": "2021-11-15T00:00:00",
          "xref": "x",
          "y0": 71,
          "y1": 71,
          "yref": "y"
         }
        ],
        "showlegend": false,
        "template": {
         "data": {
          "scatter": [
           {
            "type": "scatter"
           }
          ]
         }
        },
        "title": {
         "font": {
          "color": "black",
          "family": "sans-serif",
          "size": 20
         },
         "text": "<b>Overall Rank Performance by Player, Last 60/21 Days</b>"
        },
        "width": 2000,
        "xaxis": {
         "anchor": "y",
         "domain": [
          0,
          0.45
         ]
        },
        "xaxis2": {
         "anchor": "y2",
         "domain": [
          0.55,
          1
         ]
        },
        "yaxis": {
         "anchor": "x",
         "domain": [
          0,
          1
         ]
        },
        "yaxis2": {
         "anchor": "x2",
         "domain": [
          0,
          1
         ]
        }
       }
      }
     },
     "metadata": {},
     "output_type": "display_data"
    },
    {
     "name": "stdout",
     "output_type": "stream",
     "text": [
      "Metric: Team Rank\n",
      "Top 1% 43.0 |  Top 5% 37.0 |  Top 10% 34.0 | \n",
      "Current Leaderboard: \n",
      "  Average Performance    |     Peak Performance    \n",
      "==================================================\n",
      "1 | drumcon11    | 17.86 | 1 | mypremeclean |  44  \n",
      "2 | mypremeclean | 14.18 | 2 | SloshySole   |  39  \n",
      "3 | GotYourBach  | 6.31  | 3 | GotYourBach  |  30  \n",
      "4 | SloshySole   | 6.31  | 4 | MissNemisis  |  28  \n",
      "5 | MissNemisis  | 5.88  | 5 | drumcon11    |  27  \n"
     ]
    },
    {
     "data": {
      "application/vnd.plotly.v1+json": {
       "config": {
        "plotlyServerURL": "https://plot.ly"
       },
       "data": [
        {
         "hovertemplate": "player_id=psn_GotYourBach<br>week=%{x}<br>team_rank=%{y}<br>text=%{text}<extra></extra>",
         "legendgroup": "psn_GotYourBach",
         "line": {
          "color": "#0B6872",
          "dash": "solid",
          "width": 4
         },
         "marker": {
          "symbol": "circle"
         },
         "mode": "lines+markers+text",
         "name": "psn_GotYourBach",
         "orientation": "v",
         "showlegend": true,
         "text": [
          3.71,
          13.67,
          6.17,
          7.71,
          9.14,
          8.57,
          9.78,
          9.25,
          9.44,
          6.31
         ],
         "textposition": "bottom right",
         "type": "scatter",
         "x": [
          "2021-08-30T00:00:00",
          "2021-09-06T00:00:00",
          "2021-09-13T00:00:00",
          "2021-09-20T00:00:00",
          "2021-09-27T00:00:00",
          "2021-10-04T00:00:00",
          "2021-10-25T00:00:00",
          "2021-11-01T00:00:00",
          "2021-11-08T00:00:00",
          "2021-11-15T00:00:00"
         ],
         "xaxis": "x",
         "y": [
          3.7142857142857144,
          13.666666666666666,
          6.166666666666667,
          7.714285714285714,
          9.142857142857142,
          8.571428571428571,
          9.777777777777779,
          9.25,
          9.444444444444445,
          6.3125
         ],
         "yaxis": "y"
        },
        {
         "hovertemplate": "player_id=psn_MissNemisis<br>week=%{x}<br>team_rank=%{y}<br>text=%{text}<extra></extra>",
         "legendgroup": "psn_MissNemisis",
         "line": {
          "color": "#00D3BC",
          "dash": "solid",
          "width": 4
         },
         "marker": {
          "symbol": "circle"
         },
         "mode": "lines+markers+text",
         "name": "psn_MissNemisis",
         "orientation": "v",
         "showlegend": true,
         "text": [
          5.14,
          15.67,
          11.33,
          11.71,
          9.43,
          8.62,
          10.67,
          10.42,
          9.81,
          5.88
         ],
         "textposition": "bottom right",
         "type": "scatter",
         "x": [
          "2021-08-30T00:00:00",
          "2021-09-06T00:00:00",
          "2021-09-13T00:00:00",
          "2021-09-20T00:00:00",
          "2021-09-27T00:00:00",
          "2021-10-04T00:00:00",
          "2021-10-25T00:00:00",
          "2021-11-01T00:00:00",
          "2021-11-08T00:00:00",
          "2021-11-15T00:00:00"
         ],
         "xaxis": "x",
         "y": [
          5.142857142857143,
          15.666666666666666,
          11.333333333333334,
          11.714285714285714,
          9.428571428571429,
          8.615384615384615,
          10.666666666666666,
          10.416666666666666,
          9.814814814814815,
          5.875
         ],
         "yaxis": "y"
        },
        {
         "hovertemplate": "player_id=psn_SloshySole<br>week=%{x}<br>team_rank=%{y}<br>text=%{text}<extra></extra>",
         "legendgroup": "psn_SloshySole",
         "line": {
          "color": "#040404",
          "dash": "solid",
          "width": 4
         },
         "marker": {
          "symbol": "circle"
         },
         "mode": "lines+markers+text",
         "name": "psn_SloshySole",
         "orientation": "v",
         "showlegend": true,
         "text": [
          5.57,
          15.67,
          4,
          5,
          7.43,
          6.5,
          5.53,
          7.8,
          6.41,
          4.35,
          8.74,
          6.31
         ],
         "textposition": "bottom right",
         "type": "scatter",
         "x": [
          "2021-08-30T00:00:00",
          "2021-09-06T00:00:00",
          "2021-09-13T00:00:00",
          "2021-09-20T00:00:00",
          "2021-09-27T00:00:00",
          "2021-10-04T00:00:00",
          "2021-10-11T00:00:00",
          "2021-10-18T00:00:00",
          "2021-10-25T00:00:00",
          "2021-11-01T00:00:00",
          "2021-11-08T00:00:00",
          "2021-11-15T00:00:00"
         ],
         "xaxis": "x",
         "y": [
          5.571428571428571,
          15.666666666666666,
          4,
          5,
          7.428571428571429,
          6.5,
          5.526315789473684,
          7.8,
          6.411764705882353,
          4.352941176470588,
          8.74074074074074,
          6.310344827586207
         ],
         "yaxis": "y"
        },
        {
         "hovertemplate": "player_id=psn_drumcon11<br>week=%{x}<br>team_rank=%{y}<br>text=%{text}<extra></extra>",
         "legendgroup": "psn_drumcon11",
         "line": {
          "color": "#F4E9C3",
          "dash": "solid",
          "width": 4
         },
         "marker": {
          "symbol": "circle"
         },
         "mode": "lines+markers+text",
         "name": "psn_drumcon11",
         "orientation": "v",
         "showlegend": true,
         "text": [
          18,
          23.4,
          14.3,
          21,
          19.92,
          17.62,
          14.6,
          16.41,
          17.86
         ],
         "textposition": "bottom right",
         "type": "scatter",
         "x": [
          "2021-09-06T00:00:00",
          "2021-09-20T00:00:00",
          "2021-10-04T00:00:00",
          "2021-10-11T00:00:00",
          "2021-10-18T00:00:00",
          "2021-10-25T00:00:00",
          "2021-11-01T00:00:00",
          "2021-11-08T00:00:00",
          "2021-11-15T00:00:00"
         ],
         "xaxis": "x",
         "y": [
          18,
          23.4,
          14.3,
          21,
          19.923076923076923,
          17.615384615384617,
          14.6,
          16.41176470588235,
          17.857142857142858
         ],
         "yaxis": "y"
        },
        {
         "hovertemplate": "player_id=psn_mypremeclean<br>week=%{x}<br>team_rank=%{y}<br>text=%{text}<extra></extra>",
         "legendgroup": "psn_mypremeclean",
         "line": {
          "color": "#EF8B79",
          "dash": "solid",
          "width": 4
         },
         "marker": {
          "symbol": "circle"
         },
         "mode": "lines+markers+text",
         "name": "psn_mypremeclean",
         "orientation": "v",
         "showlegend": true,
         "text": [
          16.43,
          11,
          13.8,
          10,
          12.17,
          14.18
         ],
         "textposition": "bottom right",
         "type": "scatter",
         "x": [
          "2021-10-04T00:00:00",
          "2021-10-11T00:00:00",
          "2021-10-18T00:00:00",
          "2021-10-25T00:00:00",
          "2021-11-01T00:00:00",
          "2021-11-15T00:00:00"
         ],
         "xaxis": "x",
         "y": [
          16.428571428571427,
          11,
          13.8,
          10,
          12.166666666666666,
          14.181818181818182
         ],
         "yaxis": "y"
        },
        {
         "hovertemplate": "player_id=psn_GotYourBach<br>day=%{x}<br>team_rank=%{y}<br>text=%{text}<extra></extra>",
         "legendgroup": "psn_GotYourBach",
         "line": {
          "color": "#0B6872",
          "dash": "solid",
          "width": 4
         },
         "marker": {
          "symbol": "circle"
         },
         "mode": "lines+markers+text",
         "name": "psn_GotYourBach",
         "orientation": "v",
         "showlegend": true,
         "text": [
          9.38,
          7.5,
          10.91,
          5.5,
          7.12
         ],
         "textposition": "bottom right",
         "type": "scatter",
         "x": [
          "2021-11-10T00:00:00",
          "2021-11-11T00:00:00",
          "2021-11-14T00:00:00",
          "2021-11-17T00:00:00",
          "2021-11-18T00:00:00"
         ],
         "xaxis": "x2",
         "y": [
          9.375,
          7.5,
          10.909090909090908,
          5.5,
          7.125
         ],
         "yaxis": "y2"
        },
        {
         "hovertemplate": "player_id=psn_MissNemisis<br>day=%{x}<br>team_rank=%{y}<br>text=%{text}<extra></extra>",
         "legendgroup": "psn_MissNemisis",
         "line": {
          "color": "#00D3BC",
          "dash": "solid",
          "width": 4
         },
         "marker": {
          "symbol": "circle"
         },
         "mode": "lines+markers+text",
         "name": "psn_MissNemisis",
         "orientation": "v",
         "showlegend": true,
         "text": [
          9.25,
          9.5,
          10.45,
          3.38,
          8.38
         ],
         "textposition": "bottom right",
         "type": "scatter",
         "x": [
          "2021-11-10T00:00:00",
          "2021-11-11T00:00:00",
          "2021-11-14T00:00:00",
          "2021-11-17T00:00:00",
          "2021-11-18T00:00:00"
         ],
         "xaxis": "x2",
         "y": [
          9.25,
          9.5,
          10.454545454545455,
          3.375,
          8.375
         ],
         "yaxis": "y2"
        },
        {
         "hovertemplate": "player_id=psn_SloshySole<br>day=%{x}<br>team_rank=%{y}<br>text=%{text}<extra></extra>",
         "legendgroup": "psn_SloshySole",
         "line": {
          "color": "#040404",
          "dash": "solid",
          "width": 4
         },
         "marker": {
          "symbol": "circle"
         },
         "mode": "lines+markers+text",
         "name": "psn_SloshySole",
         "orientation": "v",
         "showlegend": true,
         "text": [
          9,
          6.38,
          10.27,
          6.71,
          11,
          2.38,
          6.38
         ],
         "textposition": "bottom right",
         "type": "scatter",
         "x": [
          "2021-11-10T00:00:00",
          "2021-11-11T00:00:00",
          "2021-11-14T00:00:00",
          "2021-11-15T00:00:00",
          "2021-11-16T00:00:00",
          "2021-11-17T00:00:00",
          "2021-11-18T00:00:00"
         ],
         "xaxis": "x2",
         "y": [
          9,
          6.375,
          10.272727272727273,
          6.714285714285714,
          11,
          2.375,
          6.375
         ],
         "yaxis": "y2"
        },
        {
         "hovertemplate": "player_id=psn_drumcon11<br>day=%{x}<br>team_rank=%{y}<br>text=%{text}<extra></extra>",
         "legendgroup": "psn_drumcon11",
         "line": {
          "color": "#F4E9C3",
          "dash": "solid",
          "width": 4
         },
         "marker": {
          "symbol": "circle"
         },
         "mode": "lines+markers+text",
         "name": "psn_drumcon11",
         "orientation": "v",
         "showlegend": true,
         "text": [
          15.5,
          15.8,
          19,
          17.86
         ],
         "textposition": "bottom right",
         "type": "scatter",
         "x": [
          "2021-11-10T00:00:00",
          "2021-11-11T00:00:00",
          "2021-11-14T00:00:00",
          "2021-11-15T00:00:00"
         ],
         "xaxis": "x2",
         "y": [
          15.5,
          15.8,
          19,
          17.857142857142858
         ],
         "yaxis": "y2"
        },
        {
         "hovertemplate": "player_id=psn_mypremeclean<br>day=%{x}<br>team_rank=%{y}<br>text=%{text}<extra></extra>",
         "legendgroup": "psn_mypremeclean",
         "line": {
          "color": "#EF8B79",
          "dash": "solid",
          "width": 4
         },
         "marker": {
          "symbol": "circle"
         },
         "mode": "lines+markers+text",
         "name": "psn_mypremeclean",
         "orientation": "v",
         "showlegend": true,
         "text": [
          18.17,
          13.25,
          12.12
         ],
         "textposition": "bottom right",
         "type": "scatter",
         "x": [
          "2021-11-16T00:00:00",
          "2021-11-17T00:00:00",
          "2021-11-18T00:00:00"
         ],
         "xaxis": "x2",
         "y": [
          18.166666666666668,
          13.25,
          12.125
         ],
         "yaxis": "y2"
        }
       ],
       "layout": {
        "font": {
         "color": "grey",
         "family": "sans-serif"
        },
        "height": 600,
        "legend": {
         "title": {
          "font": {
           "color": "grey"
          }
         }
        },
        "paper_bgcolor": "#E9F2F1",
        "plot_bgcolor": "rgba(0,0,0,0)",
        "shapes": [
         {
          "line": {
           "color": "#00B551",
           "dash": "dash"
          },
          "opacity": 0.4,
          "type": "line",
          "x0": "2021-08-30T00:00:00",
          "x1": "2021-11-15T00:00:00",
          "xref": "x",
          "y0": 34,
          "y1": 34,
          "yref": "y"
         }
        ],
        "showlegend": false,
        "template": {
         "data": {
          "scatter": [
           {
            "type": "scatter"
           }
          ]
         }
        },
        "title": {
         "font": {
          "color": "black",
          "family": "sans-serif",
          "size": 20
         },
         "text": "<b>Team Rank Performance by Player, Last 60/21 Days</b>"
        },
        "width": 2000,
        "xaxis": {
         "anchor": "y",
         "domain": [
          0,
          0.45
         ]
        },
        "xaxis2": {
         "anchor": "y2",
         "domain": [
          0.55,
          1
         ]
        },
        "yaxis": {
         "anchor": "x",
         "domain": [
          0,
          1
         ]
        },
        "yaxis2": {
         "anchor": "x2",
         "domain": [
          0,
          1
         ]
        }
       }
      }
     },
     "metadata": {},
     "output_type": "display_data"
    },
    {
     "name": "stdout",
     "output_type": "stream",
     "text": [
      "Metric: Player Time\n",
      "Top 1% 39.0 |  Top 5% 31.0 |  Top 10% 27.0 | \n",
      "Current Leaderboard: \n",
      "  Average Performance    |     Peak Performance    \n",
      "==================================================\n",
      "1 | MissNemisis  | 17.06 | 1 | SloshySole   | 37.0 \n",
      "2 | GotYourBach  | 16.75 | 2 | mypremeclean | 34.0 \n",
      "3 | mypremeclean | 15.86 | 3 | MissNemisis  | 34.0 \n",
      "4 | SloshySole   | 15.66 | 4 | GotYourBach  | 34.0 \n",
      "5 | drumcon11    | 12.57 | 5 | drumcon11    | 18.0 \n"
     ]
    },
    {
     "data": {
      "application/vnd.plotly.v1+json": {
       "config": {
        "plotlyServerURL": "https://plot.ly"
       },
       "data": [
        {
         "hovertemplate": "player_id=psn_GotYourBach<br>week=%{x}<br>player_time=%{y}<br>text=%{text}<extra></extra>",
         "legendgroup": "psn_GotYourBach",
         "line": {
          "color": "#0B6872",
          "dash": "solid",
          "width": 4
         },
         "marker": {
          "symbol": "circle"
         },
         "mode": "lines+markers+text",
         "name": "psn_GotYourBach",
         "orientation": "v",
         "showlegend": true,
         "text": [
          17.71,
          13.67,
          23,
          20.86,
          18.71,
          12.64,
          16.22,
          21.67,
          15.33,
          16.75
         ],
         "textposition": "bottom right",
         "type": "scatter",
         "x": [
          "2021-08-30T00:00:00",
          "2021-09-06T00:00:00",
          "2021-09-13T00:00:00",
          "2021-09-20T00:00:00",
          "2021-09-27T00:00:00",
          "2021-10-04T00:00:00",
          "2021-10-25T00:00:00",
          "2021-11-01T00:00:00",
          "2021-11-08T00:00:00",
          "2021-11-15T00:00:00"
         ],
         "xaxis": "x",
         "y": [
          17.714272983115286,
          13.66663222570135,
          22.9999307212764,
          20.857222134999372,
          18.71424205574314,
          12.642845159164384,
          16.222203584666868,
          21.666602334050125,
          15.333331055145411,
          16.749983179875912
         ],
         "yaxis": "y"
        },
        {
         "hovertemplate": "player_id=psn_MissNemisis<br>week=%{x}<br>player_time=%{y}<br>text=%{text}<extra></extra>",
         "legendgroup": "psn_MissNemisis",
         "line": {
          "color": "#00D3BC",
          "dash": "solid",
          "width": 4
         },
         "marker": {
          "symbol": "circle"
         },
         "mode": "lines+markers+text",
         "name": "psn_MissNemisis",
         "orientation": "v",
         "showlegend": true,
         "text": [
          17.57,
          13.89,
          22.17,
          21.43,
          19.57,
          12.15,
          16.67,
          21.58,
          15.48,
          17.06
         ],
         "textposition": "bottom right",
         "type": "scatter",
         "x": [
          "2021-08-30T00:00:00",
          "2021-09-06T00:00:00",
          "2021-09-13T00:00:00",
          "2021-09-20T00:00:00",
          "2021-09-27T00:00:00",
          "2021-10-04T00:00:00",
          "2021-10-25T00:00:00",
          "2021-11-01T00:00:00",
          "2021-11-08T00:00:00",
          "2021-11-15T00:00:00"
         ],
         "xaxis": "x",
         "y": [
          17.571459571612618,
          13.888926772615676,
          22.166676364242857,
          21.42854189442072,
          19.57145069586679,
          12.15388998699544,
          16.666687618139587,
          21.583307451234877,
          15.481451225163637,
          17.06251570348723
         ],
         "yaxis": "y"
        },
        {
         "hovertemplate": "player_id=psn_SloshySole<br>week=%{x}<br>player_time=%{y}<br>text=%{text}<extra></extra>",
         "legendgroup": "psn_SloshySole",
         "line": {
          "color": "#040404",
          "dash": "solid",
          "width": 4
         },
         "marker": {
          "symbol": "circle"
         },
         "mode": "lines+markers+text",
         "name": "psn_SloshySole",
         "orientation": "v",
         "showlegend": true,
         "text": [
          17.71,
          13.78,
          25.6,
          21.14,
          19,
          15.05,
          24.05,
          20.13,
          21.12,
          22.65,
          15.3,
          15.66
         ],
         "textposition": "bottom right",
         "type": "scatter",
         "x": [
          "2021-08-30T00:00:00",
          "2021-09-06T00:00:00",
          "2021-09-13T00:00:00",
          "2021-09-20T00:00:00",
          "2021-09-27T00:00:00",
          "2021-10-04T00:00:00",
          "2021-10-11T00:00:00",
          "2021-10-18T00:00:00",
          "2021-10-25T00:00:00",
          "2021-11-01T00:00:00",
          "2021-11-08T00:00:00",
          "2021-11-15T00:00:00"
         ],
         "xaxis": "x",
         "y": [
          17.71423992700474,
          13.77778914085301,
          25.600127547251407,
          21.14281362026121,
          19.000053118495465,
          15.049975521777347,
          24.05260304132191,
          20.13333574997103,
          21.117627484048093,
          22.647048500189513,
          15.296319021420175,
          15.655159201378858
         ],
         "yaxis": "y"
        },
        {
         "hovertemplate": "player_id=psn_drumcon11<br>week=%{x}<br>player_time=%{y}<br>text=%{text}<extra></extra>",
         "legendgroup": "psn_drumcon11",
         "line": {
          "color": "#F4E9C3",
          "dash": "solid",
          "width": 4
         },
         "marker": {
          "symbol": "circle"
         },
         "mode": "lines+markers+text",
         "name": "psn_drumcon11",
         "orientation": "v",
         "showlegend": true,
         "text": [
          17.33,
          16.4,
          10.2,
          26,
          18.38,
          17.08,
          19.67,
          14.59,
          12.57
         ],
         "textposition": "bottom right",
         "type": "scatter",
         "x": [
          "2021-09-06T00:00:00",
          "2021-09-20T00:00:00",
          "2021-10-04T00:00:00",
          "2021-10-11T00:00:00",
          "2021-10-18T00:00:00",
          "2021-10-25T00:00:00",
          "2021-11-01T00:00:00",
          "2021-11-08T00:00:00",
          "2021-11-15T00:00:00"
         ],
         "xaxis": "x",
         "y": [
          17.333270083925143,
          16.39995010201462,
          10.199973870608712,
          25.99986271221178,
          18.384528500375616,
          17.076970828515787,
          19.66670248420916,
          14.588215766108386,
          12.57140225827696
         ],
         "yaxis": "y"
        },
        {
         "hovertemplate": "player_id=psn_mypremeclean<br>week=%{x}<br>player_time=%{y}<br>text=%{text}<extra></extra>",
         "legendgroup": "psn_mypremeclean",
         "line": {
          "color": "#EF8B79",
          "dash": "solid",
          "width": 4
         },
         "marker": {
          "symbol": "circle"
         },
         "mode": "lines+markers+text",
         "name": "psn_mypremeclean",
         "orientation": "v",
         "showlegend": true,
         "text": [
          21,
          23.89,
          19.73,
          25.25,
          22.08,
          15.86
         ],
         "textposition": "bottom right",
         "type": "scatter",
         "x": [
          "2021-10-04T00:00:00",
          "2021-10-11T00:00:00",
          "2021-10-18T00:00:00",
          "2021-10-25T00:00:00",
          "2021-11-01T00:00:00",
          "2021-11-15T00:00:00"
         ],
         "xaxis": "x",
         "y": [
          21.000169329796826,
          23.894804136455516,
          19.733381752944425,
          25.24999439358573,
          22.083241451313558,
          15.8636587095096
         ],
         "yaxis": "y"
        },
        {
         "hovertemplate": "player_id=psn_GotYourBach<br>day=%{x}<br>player_time=%{y}<br>text=%{text}<extra></extra>",
         "legendgroup": "psn_GotYourBach",
         "line": {
          "color": "#0B6872",
          "dash": "solid",
          "width": 4
         },
         "marker": {
          "symbol": "circle"
         },
         "mode": "lines+markers+text",
         "name": "psn_GotYourBach",
         "orientation": "v",
         "showlegend": true,
         "text": [
          17.25,
          16.13,
          13.36,
          18.12,
          15.38
         ],
         "textposition": "bottom right",
         "type": "scatter",
         "x": [
          "2021-11-10T00:00:00",
          "2021-11-11T00:00:00",
          "2021-11-14T00:00:00",
          "2021-11-17T00:00:00",
          "2021-11-18T00:00:00"
         ],
         "xaxis": "x2",
         "y": [
          17.249979331545216,
          16.125001274277064,
          13.363644876577077,
          18.12494064984661,
          15.375025709905211
         ],
         "yaxis": "y2"
        },
        {
         "hovertemplate": "player_id=psn_MissNemisis<br>day=%{x}<br>player_time=%{y}<br>text=%{text}<extra></extra>",
         "legendgroup": "psn_MissNemisis",
         "line": {
          "color": "#00D3BC",
          "dash": "solid",
          "width": 4
         },
         "marker": {
          "symbol": "circle"
         },
         "mode": "lines+markers+text",
         "name": "psn_MissNemisis",
         "orientation": "v",
         "showlegend": true,
         "text": [
          17.12,
          16.25,
          13.73,
          18.37,
          15.75
         ],
         "textposition": "bottom right",
         "type": "scatter",
         "x": [
          "2021-11-10T00:00:00",
          "2021-11-11T00:00:00",
          "2021-11-14T00:00:00",
          "2021-11-17T00:00:00",
          "2021-11-18T00:00:00"
         ],
         "xaxis": "x2",
         "y": [
          17.124928742550804,
          16.24999365222731,
          13.727254901926663,
          18.37499573763239,
          15.750035669342068
         ],
         "yaxis": "y2"
        },
        {
         "hovertemplate": "player_id=psn_SloshySole<br>day=%{x}<br>player_time=%{y}<br>text=%{text}<extra></extra>",
         "legendgroup": "psn_SloshySole",
         "line": {
          "color": "#040404",
          "dash": "solid",
          "width": 4
         },
         "marker": {
          "symbol": "circle"
         },
         "mode": "lines+markers+text",
         "name": "psn_SloshySole",
         "orientation": "v",
         "showlegend": true,
         "text": [
          17,
          16.25,
          13.36,
          13,
          16.33,
          18.13,
          15
         ],
         "textposition": "bottom right",
         "type": "scatter",
         "x": [
          "2021-11-10T00:00:00",
          "2021-11-11T00:00:00",
          "2021-11-14T00:00:00",
          "2021-11-15T00:00:00",
          "2021-11-16T00:00:00",
          "2021-11-17T00:00:00",
          "2021-11-18T00:00:00"
         ],
         "xaxis": "x2",
         "y": [
          17.000033218959473,
          16.250055402954835,
          13.36362769118457,
          13.000006083591071,
          16.333245990566876,
          18.12501348042019,
          14.999998808510828
         ],
         "yaxis": "y2"
        },
        {
         "hovertemplate": "player_id=psn_drumcon11<br>day=%{x}<br>player_time=%{y}<br>text=%{text}<extra></extra>",
         "legendgroup": "psn_drumcon11",
         "line": {
          "color": "#F4E9C3",
          "dash": "solid",
          "width": 4
         },
         "marker": {
          "symbol": "circle"
         },
         "mode": "lines+markers+text",
         "name": "psn_drumcon11",
         "orientation": "v",
         "showlegend": true,
         "text": [
          16.25,
          16.6,
          8.75,
          12.57
         ],
         "textposition": "bottom right",
         "type": "scatter",
         "x": [
          "2021-11-10T00:00:00",
          "2021-11-11T00:00:00",
          "2021-11-14T00:00:00",
          "2021-11-15T00:00:00"
         ],
         "xaxis": "x2",
         "y": [
          16.249951969729086,
          16.600020229694536,
          8.7499877793843,
          12.57140225827696
         ],
         "yaxis": "y2"
        },
        {
         "hovertemplate": "player_id=psn_mypremeclean<br>day=%{x}<br>player_time=%{y}<br>text=%{text}<extra></extra>",
         "legendgroup": "psn_mypremeclean",
         "line": {
          "color": "#EF8B79",
          "dash": "solid",
          "width": 4
         },
         "marker": {
          "symbol": "circle"
         },
         "mode": "lines+markers+text",
         "name": "psn_mypremeclean",
         "orientation": "v",
         "showlegend": true,
         "text": [
          15.33,
          17.75,
          14.38
         ],
         "textposition": "bottom right",
         "type": "scatter",
         "x": [
          "2021-11-16T00:00:00",
          "2021-11-17T00:00:00",
          "2021-11-18T00:00:00"
         ],
         "xaxis": "x2",
         "y": [
          15.33342228339792,
          17.749969949950565,
          14.3750247886524
         ],
         "yaxis": "y2"
        }
       ],
       "layout": {
        "font": {
         "color": "grey",
         "family": "sans-serif"
        },
        "height": 600,
        "legend": {
         "title": {
          "font": {
           "color": "grey"
          }
         }
        },
        "paper_bgcolor": "#E9F2F1",
        "plot_bgcolor": "rgba(0,0,0,0)",
        "shapes": [
         {
          "line": {
           "color": "#00B551",
           "dash": "dash"
          },
          "opacity": 0.4,
          "type": "line",
          "x0": "2021-08-30T00:00:00",
          "x1": "2021-11-15T00:00:00",
          "xref": "x",
          "y0": 27,
          "y1": 27,
          "yref": "y"
         }
        ],
        "showlegend": false,
        "template": {
         "data": {
          "scatter": [
           {
            "type": "scatter"
           }
          ]
         }
        },
        "title": {
         "font": {
          "color": "black",
          "family": "sans-serif",
          "size": 20
         },
         "text": "<b>Player Time Performance by Player, Last 60/21 Days</b>"
        },
        "width": 2000,
        "xaxis": {
         "anchor": "y",
         "domain": [
          0,
          0.45
         ]
        },
        "xaxis2": {
         "anchor": "y2",
         "domain": [
          0.55,
          1
         ]
        },
        "yaxis": {
         "anchor": "x",
         "domain": [
          0,
          1
         ]
        },
        "yaxis2": {
         "anchor": "x2",
         "domain": [
          0,
          1
         ]
        }
       }
      }
     },
     "metadata": {},
     "output_type": "display_data"
    }
   ],
   "source": [
    "metrics = ['AER', 'aggression_rating', 'efficiency_rating', 'score_per_min', \n",
    "'kills_per_death', 'true_kills_per_death', 'kills_per_min', 'solider_damages',\n",
    " 'shots_taken', 'shots_hit', 'shot_accuracy',\n",
    " 'heals', 'revives', 'revives_recieved', 'resupplies', 'repairs', 'squad_spawns', 'squad_wipes','orders_completed', \n",
    "'overall_rank', 'team_rank', 'player_time']\n",
    "for metric in metrics:\n",
    "    gen_gumi_metric_breakdown(df, metric)"
   ]
  },
  {
   "cell_type": "code",
   "execution_count": 56,
   "metadata": {},
   "outputs": [
    {
     "data": {
      "text/plain": [
       "Index(['_id', 'match_id', 'map', 'mode', 'game_duration_m', 'team',\n",
       "       'team_status', 'player_id', 'kills', 'deaths', 'kills_per_death',\n",
       "       'kills_per_min', 'solider_damages', 'headshots', 'kill_assists',\n",
       "       'avenger_kills', 'savior_kills', 'shots_taken', 'shots_hit',\n",
       "       'shot_accuracy', 'dogtags_taken', 'highest_killstreak',\n",
       "       'highest_multikill', 'heals', 'revives', 'revives_recieved',\n",
       "       'resupplies', 'repairs', 'squad_spawns', 'squad_wipes',\n",
       "       'orders_completed', 'score', 'score_per_min', 'longest_headshot',\n",
       "       'true_deaths', 'true_kills_per_death', 'overall_rank', 'team_rank',\n",
       "       'match_start_time', 'player_time', 'AER', 'aggression_rating',\n",
       "       'efficiency_rating', 'team_orientation', 'week'],\n",
       "      dtype='object')"
      ]
     },
     "execution_count": 56,
     "metadata": {},
     "output_type": "execute_result"
    }
   ],
   "source": [
    "df.columns"
   ]
  },
  {
   "cell_type": "code",
   "execution_count": null,
   "metadata": {},
   "outputs": [],
   "source": []
  }
 ],
 "metadata": {
  "interpreter": {
   "hash": "6a10e5013b853cdb4352d72dfeae340437752369bfb1905f1298ed1a4e8313ba"
  },
  "kernelspec": {
   "display_name": "Python 3 (ipykernel)",
   "language": "python",
   "name": "python3"
  },
  "language_info": {
   "codemirror_mode": {
    "name": "ipython",
    "version": 3
   },
   "file_extension": ".py",
   "mimetype": "text/x-python",
   "name": "python",
   "nbconvert_exporter": "python",
   "pygments_lexer": "ipython3",
   "version": "3.9.4"
  }
 },
 "nbformat": 4,
 "nbformat_minor": 2
}
