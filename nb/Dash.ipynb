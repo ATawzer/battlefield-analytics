{
 "cells": [
  {
   "cell_type": "code",
   "execution_count": 1,
   "id": "ff3aa222",
   "metadata": {},
   "outputs": [],
   "source": [
    "import dash\n",
    "from dash import html\n",
    "from dash import dcc\n",
    "import plotly.graph_objects as go\n",
    "from dash import Input, Output\n",
    "\n",
    "import datetime\n",
    "\n",
    "import plotly.express as px"
   ]
  },
  {
   "cell_type": "code",
   "execution_count": null,
   "id": "0a8ef0bd",
   "metadata": {},
   "outputs": [],
   "source": []
  },
  {
   "cell_type": "code",
   "execution_count": 2,
   "id": "31e021e7",
   "metadata": {},
   "outputs": [],
   "source": [
    "gumi_layout_update_dict = dict(\n",
    "    font_family=\"sans-serif\",\n",
    "    font_color=\"grey\",\n",
    "    title_font_family=\"sans-serif\",\n",
    "    title_font_size=20,\n",
    "    title_font_color=\"black\",\n",
    "    legend_title_font_color=\"grey\",\n",
    "    showlegend=False,\n",
    "    paper_bgcolor='rgba(0,0,0,0)',\n",
    "    plot_bgcolor='rgba(0,0,0,0)'\n",
    ")"
   ]
  },
  {
   "cell_type": "code",
   "execution_count": 3,
   "id": "efe29f10",
   "metadata": {},
   "outputs": [],
   "source": [
    "app = dash.Dash()"
   ]
  },
  {
   "cell_type": "code",
   "execution_count": 4,
   "id": "261a88ba",
   "metadata": {},
   "outputs": [],
   "source": [
    "app.layout = html.Div(id = \"parent\", \n",
    "    children = [\n",
    "    html.Div(\n",
    "        id='app-header',\n",
    "        className=\"app-header\",\n",
    "        children=[\n",
    "            html.Div('Map Overview', className=\"app-header--title\")\n",
    "        ]\n",
    "    ),\n",
    "    html.Div(\n",
    "        children=html.Div([\n",
    "            html.Div('''\n",
    "                Maps\n",
    "            ''')\n",
    "        ])\n",
    "    ),\n",
    "    dcc.Interval(id='interval-component', interval=1000, n_intervals=0),\n",
    "    html.H1(id='H1'),\n",
    "    dcc.Graph(id='line_plot', figure = px.bar(), config=gumi_layout_update_dict)\n",
    "])"
   ]
  },
  {
   "cell_type": "code",
   "execution_count": 5,
   "id": "77b5ab00",
   "metadata": {},
   "outputs": [],
   "source": [
    "@app.callback(\n",
    "    Output(component_id='app-header', component_property='children'),\n",
    "    Input(component_id='interval-component', component_property='n_intervals')\n",
    ")\n",
    "def update_header(input_value):\n",
    "    return [html.Div(datetime.datetime.now(), id='app-header--title')]"
   ]
  },
  {
   "cell_type": "code",
   "execution_count": 13,
   "id": "ef6dcf68",
   "metadata": {},
   "outputs": [
    {
     "data": {
      "text/plain": [
       "Div(children=[Div(children=[Div(children='Map Overview', className='app-header--title')], id='app-header', className='app-header'), Div(Div([Div('\\n                Maps\\n            ')])), Interval(id='interval-component', interval=1000, n_intervals=0), H1(id='H1'), Graph(id='line_plot', config={'font_family': 'sans-serif', 'font_color': 'grey', 'title_font_family': 'sans-serif', 'title_font_size': 20, 'title_font_color': 'black', 'legend_title_font_color': 'grey', 'showlegend': False, 'paper_bgcolor': 'rgba(0,0,0,0)', 'plot_bgcolor': 'rgba(0,0,0,0)'}, figure=Figure({\n",
       "    'data': [],\n",
       "    'layout': {'barmode': 'relative',\n",
       "               'legend': {'tracegroupgap': 0},\n",
       "               'margin': {'t': 60},\n",
       "               'template': '...',\n",
       "               'xaxis': {'anchor': 'y', 'domain': [0.0, 1.0]},\n",
       "               'yaxis': {'anchor': 'x', 'domain': [0.0, 1.0]}}\n",
       "}))], id='parent')"
      ]
     },
     "metadata": {},
     "output_type": "display_data"
    }
   ],
   "source": [
    "app.layout"
   ]
  },
  {
   "cell_type": "code",
   "execution_count": 84,
   "id": "2dfbca3c",
   "metadata": {},
   "outputs": [
    {
     "data": {
      "text/plain": [
       "Graph(id='line_plot', figure=Figure({\n",
       "    'data': [{'alignmentgroup': 'True',\n",
       "              'hovertemplate': 'x=%{x}<br>y=%{y}<extra></extra>',\n",
       "              'legendgroup': '',\n",
       "              'marker': {'color': '#636efa', 'pattern': {'shape': ''}},\n",
       "              'name': '',\n",
       "              'offsetgroup': '',\n",
       "              'orientation': 'v',\n",
       "              'showlegend': False,\n",
       "              'textposition': 'auto',\n",
       "              'type': 'bar',\n",
       "              'x': array([0, 1], dtype=int64),\n",
       "              'xaxis': 'x',\n",
       "              'y': array([1, 2], dtype=int64),\n",
       "              'yaxis': 'y'}],\n",
       "    'layout': {'barmode': 'relative',\n",
       "               'legend': {'tracegroupgap': 0},\n",
       "               'margin': {'t': 60},\n",
       "               'template': '...',\n",
       "               'xaxis': {'anchor': 'y', 'domain': [0.0, 1.0], 'title': {'text': 'x'}},\n",
       "               'yaxis': {'anchor': 'x', 'domain': [0.0, 1.0], 'title': {'text': 'y'}}}\n",
       "}))"
      ]
     },
     "execution_count": 84,
     "metadata": {},
     "output_type": "execute_result"
    }
   ],
   "source": [
    "dcc.Graph(id='line_plot', figure = px.bar(x=[0, 1], y=[1, 2]))"
   ]
  },
  {
   "cell_type": "code",
   "execution_count": null,
   "id": "40261b9c",
   "metadata": {},
   "outputs": [],
   "source": []
  }
 ],
 "metadata": {
  "kernelspec": {
   "display_name": "Python 3 (ipykernel)",
   "language": "python",
   "name": "python3"
  },
  "language_info": {
   "codemirror_mode": {
    "name": "ipython",
    "version": 3
   },
   "file_extension": ".py",
   "mimetype": "text/x-python",
   "name": "python",
   "nbconvert_exporter": "python",
   "pygments_lexer": "ipython3",
   "version": "3.9.4"
  }
 },
 "nbformat": 4,
 "nbformat_minor": 5
}
